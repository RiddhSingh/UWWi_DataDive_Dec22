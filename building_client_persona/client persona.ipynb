{
 "cells": [
  {
   "cell_type": "markdown",
   "metadata": {},
   "source": [
    "# Setting up"
   ]
  },
  {
   "cell_type": "code",
   "execution_count": 4,
   "metadata": {},
   "outputs": [],
   "source": [
    "import pandas as pd \n",
    "import numpy as np\n",
    "import sklearn"
   ]
  },
  {
   "cell_type": "code",
   "execution_count": 5,
   "metadata": {},
   "outputs": [],
   "source": [
    "interaction_2020_path = \"../uwwi_datasets/uwwi_dataset_interactions/uwwi_dataset_interactions_2020.csv\"\n",
    "interaction_2021_path = \"../uwwi_datasets/uwwi_dataset_interactions/uwwi_dataset_interactions_2021.csv\"\n",
    "interaction_2022_path = \"../uwwi_datasets/uwwi_dataset_interactions/uwwi_dataset_interactions_2022.csv\"\n",
    "agencies_path = \"../uwwi_datasets/uwwi_dataset_agencies.csv\"\n",
    "clients_path = \"../uwwi_datasets/uwwi_dataset_clients_v2.csv\"\n",
    "services_path = \"../uwwi_datasets/uwwi_dataset_services.csv\"\n",
    "sites_path = \"../uwwi_datasets/uwwi_dataset_sites.csv\""
   ]
  },
  {
   "cell_type": "code",
   "execution_count": 6,
   "metadata": {},
   "outputs": [],
   "source": [
    "import chardet\n",
    "def get_encoding(file_path):\n",
    "\n",
    "    with open(file_path,'rb') as f:\n",
    "            data = f.read(10000)\n",
    "    return chardet.detect(data).get(\"encoding\")"
   ]
  },
  {
   "cell_type": "markdown",
   "metadata": {},
   "source": [
    "# Getting into Clients"
   ]
  },
  {
   "cell_type": "code",
   "execution_count": 129,
   "metadata": {},
   "outputs": [
    {
     "name": "stderr",
     "output_type": "stream",
     "text": [
      "C:\\Users\\Siddiquee\\AppData\\Local\\Temp\\ipykernel_5156\\595301242.py:2: DtypeWarning: Columns (8) have mixed types. Specify dtype option on import or set low_memory=False.\n",
      "  df = pd.read_csv(file_path, sep=',')\n"
     ]
    }
   ],
   "source": [
    "file_path = clients_path\n",
    "df = pd.read_csv(file_path, sep=',')\n",
    "# df.head(5)"
   ]
  },
  {
   "cell_type": "code",
   "execution_count": 130,
   "metadata": {},
   "outputs": [],
   "source": [
    "df = df[(df.ClientAddressus_ClientAddressus_state.notna()) & (df.ClientAddressus_ClientAddressus_county.notna())]\n",
    "df.ClientAddressus_ClientAddressus_state = df.ClientAddressus_ClientAddressus_state.str.lower().str.strip().astype(\"string\")\n",
    "df.ClientAddressus_ClientAddressus_county = df.ClientAddressus_ClientAddressus_county.str.lower().str.strip().astype(\"string\")"
   ]
  },
  {
   "cell_type": "code",
   "execution_count": 89,
   "metadata": {},
   "outputs": [],
   "source": [
    "counties = df[df.ClientAddressus_ClientAddressus_state.str.lower() == 'wi'].ClientAddressus_ClientAddressus_county.unique().tolist()\n",
    "counties = list(set([name.strip() for name in counties]))\n",
    "counties.sort()\n",
    "# with open('./county_names_clients.txt', 'w') as file:\n",
    "#     for line in counties:\n",
    "#         file.write(f\"{line}\\n\")\n",
    "# df.ClientAddressus_ClientAddressus_county[df.ClientAddressus_ClientAddressus_state.isna()]"
   ]
  },
  {
   "cell_type": "code",
   "execution_count": 101,
   "metadata": {},
   "outputs": [
    {
     "data": {
      "text/plain": [
       "['weston', 'milwaukee']"
      ]
     },
     "execution_count": 101,
     "metadata": {},
     "output_type": "execute_result"
    }
   ],
   "source": [
    "cities = df[(df.ClientAddressus_ClientAddressus_state.str.lower() == 'wi') & (df.ClientAddressus_ClientAddressus_county.str.strip().str.lower() == 'county')].ClientAddressus_ClientAddressus_city.tolist()\n",
    "cities = list(set([str(city).strip().lower() for city in cities]))\n",
    "cities"
   ]
  },
  {
   "cell_type": "code",
   "execution_count": 125,
   "metadata": {},
   "outputs": [],
   "source": [
    "df = df[(df.ClientAddressus_ClientAddressus_state.str.strip().str.lower() == 'wi') \n",
    "    & (df.ClientAddressus_ClientAddressus_county.str.strip().str.lower() == 'wi') \n",
    "    & (df.ClientAddressus_ClientAddressus_city.str.strip().str.lower() == 'wausau')]['ClientAddressus_ClientAddressus_county'].replace('wi', 'marathon')\n",
    "\n",
    "\n",
    "\n",
    "# for state and  county 'wi'\n",
    "# wausau -> marathon \n",
    "# waukesha -> waukesha\n",
    "# milwaukee -> milwaukee\n",
    "# miwaukee -> milwaukee\n",
    "# columbus -> columbia\n",
    "# racine -> racine\n",
    "# madison -> dane\n",
    "# rothschild -> marathon\n",
    "\n",
    "# # for state and  county 'wi' \n",
    "# sun prairie -> dane\n",
    "# spring green -> sauk\n",
    "# baldwin -> st. croix\n",
    "# deerbrook -> langlade \n",
    "# onalaska -> la crosse\n",
    "# milwaukee -> milwaukee\n",
    "# mcfarland -> dane\n",
    "# fitchburg -> dane\n",
    "# madison -> dane\n",
    "\n",
    "# # for state and  county 'county' \n",
    "# weston -> marathon\n",
    "# milwaukee -> milwaukee"
   ]
  },
  {
   "cell_type": "code",
   "execution_count": 128,
   "metadata": {},
   "outputs": [
    {
     "data": {
      "text/plain": [
       "407375    marathon\n",
       "Name: ClientAddressus_ClientAddressus_county, dtype: string"
      ]
     },
     "execution_count": 128,
     "metadata": {},
     "output_type": "execute_result"
    }
   ],
   "source": [
    "df"
   ]
  },
  {
   "cell_type": "code",
   "execution_count": 29,
   "metadata": {},
   "outputs": [
    {
     "data": {
      "text/plain": [
       "['parkersburg',\n",
       " 'accoville',\n",
       " 'milton',\n",
       " 'charleston',\n",
       " 'huntington',\n",
       " 'morgantown',\n",
       " 'williamstown',\n",
       " 'keyser',\n",
       " 'buckhannon']"
      ]
     },
     "execution_count": 29,
     "metadata": {},
     "output_type": "execute_result"
    }
   ],
   "source": [
    "cities = df[(df.ClientAddressus_ClientAddressus_state.str.lower() == 'wv') & (df.ClientAddressus_ClientAddressus_city.notna())].ClientAddressus_ClientAddressus_city.str.lower().unique().tolist()\n",
    "# cities = list(set([str(name).strip() for name in cities]))\n",
    "# cities.sort()\n",
    "cities"
   ]
  },
  {
   "cell_type": "code",
   "execution_count": 93,
   "metadata": {},
   "outputs": [
    {
     "data": {
      "text/plain": [
       "19952"
      ]
     },
     "execution_count": 93,
     "metadata": {},
     "output_type": "execute_result"
    }
   ],
   "source": [
    "df.shape[0] - df[df.ClientAddressus_ClientAddressus_state.str.lower() == 'wi'].shape[0]"
   ]
  },
  {
   "cell_type": "code",
   "execution_count": 94,
   "metadata": {},
   "outputs": [],
   "source": [
    "df = df[df.ClientAddressus_ClientAddressus_state.str.lower() == 'wi']"
   ]
  },
  {
   "cell_type": "code",
   "execution_count": 23,
   "metadata": {},
   "outputs": [
    {
     "data": {
      "text/plain": [
       "(68132,)"
      ]
     },
     "execution_count": 23,
     "metadata": {},
     "output_type": "execute_result"
    }
   ],
   "source": [
    "df.ClientAddressus_ClientAddressus_zip[df.ClientAddressus_ClientAddressus_zip.isna()].shape"
   ]
  },
  {
   "cell_type": "markdown",
   "metadata": {},
   "source": [
    "# ADI Scores"
   ]
  },
  {
   "cell_type": "code",
   "execution_count": 141,
   "metadata": {},
   "outputs": [
    {
     "data": {
      "text/html": [
       "<div>\n",
       "<style scoped>\n",
       "    .dataframe tbody tr th:only-of-type {\n",
       "        vertical-align: middle;\n",
       "    }\n",
       "\n",
       "    .dataframe tbody tr th {\n",
       "        vertical-align: top;\n",
       "    }\n",
       "\n",
       "    .dataframe thead th {\n",
       "        text-align: right;\n",
       "    }\n",
       "</style>\n",
       "<table border=\"1\" class=\"dataframe\">\n",
       "  <thead>\n",
       "    <tr style=\"text-align: right;\">\n",
       "      <th></th>\n",
       "      <th>ZIP_4</th>\n",
       "      <th>GISJOIN</th>\n",
       "      <th>FIPS</th>\n",
       "      <th>ADI_NATRANK</th>\n",
       "      <th>ADI_STATERANK</th>\n",
       "      <th>TYPE</th>\n",
       "    </tr>\n",
       "  </thead>\n",
       "  <tbody>\n",
       "    <tr>\n",
       "      <th>0</th>\n",
       "      <td>530010064</td>\n",
       "      <td>G55011700110002</td>\n",
       "      <td>5.511701e+11</td>\n",
       "      <td>47</td>\n",
       "      <td>4</td>\n",
       "      <td></td>\n",
       "    </tr>\n",
       "    <tr>\n",
       "      <th>1</th>\n",
       "      <td>530010061</td>\n",
       "      <td>G55011700110002</td>\n",
       "      <td>5.511701e+11</td>\n",
       "      <td>47</td>\n",
       "      <td>4</td>\n",
       "      <td></td>\n",
       "    </tr>\n",
       "    <tr>\n",
       "      <th>2</th>\n",
       "      <td>530010063</td>\n",
       "      <td>G55011700110002</td>\n",
       "      <td>5.511701e+11</td>\n",
       "      <td>47</td>\n",
       "      <td>4</td>\n",
       "      <td></td>\n",
       "    </tr>\n",
       "    <tr>\n",
       "      <th>3</th>\n",
       "      <td>530010049</td>\n",
       "      <td>G55011700112001</td>\n",
       "      <td>5.511701e+11</td>\n",
       "      <td>45</td>\n",
       "      <td>3</td>\n",
       "      <td></td>\n",
       "    </tr>\n",
       "    <tr>\n",
       "      <th>4</th>\n",
       "      <td>530010050</td>\n",
       "      <td>G55011700112001</td>\n",
       "      <td>5.511701e+11</td>\n",
       "      <td>45</td>\n",
       "      <td>3</td>\n",
       "      <td></td>\n",
       "    </tr>\n",
       "  </tbody>\n",
       "</table>\n",
       "</div>"
      ],
      "text/plain": [
       "       ZIP_4          GISJOIN          FIPS ADI_NATRANK ADI_STATERANK TYPE\n",
       "0  530010064  G55011700110002  5.511701e+11          47             4     \n",
       "1  530010061  G55011700110002  5.511701e+11          47             4     \n",
       "2  530010063  G55011700110002  5.511701e+11          47             4     \n",
       "3  530010049  G55011700112001  5.511701e+11          45             3     \n",
       "4  530010050  G55011700112001  5.511701e+11          45             3     "
      ]
     },
     "execution_count": 141,
     "metadata": {},
     "output_type": "execute_result"
    }
   ],
   "source": [
    "SOCIOECONOMIC_FILE = '../external_datasets/socioeconomic_dataset/socioeconomic_scores_zipcode.csv'\n",
    "df_socioec_scores = pd.read_csv(SOCIOECONOMIC_FILE)\n",
    "df_socioec_scores.head(5)"
   ]
  },
  {
   "cell_type": "code",
   "execution_count": 99,
   "metadata": {},
   "outputs": [],
   "source": [
    "def clean_adi(df_original):\n",
    "    \n",
    "    # Let's create the cleaned dataset\n",
    "    df_clean = df_original.copy()\n",
    "    \n",
    "    # Extract only 5 digits from zipcode\n",
    "    df_clean['ZIP'] = df_clean['ZIP_4'].astype(str).str[:5]\n",
    "    \n",
    "    # Remove zipcodes that don't have a valid decile\n",
    "    df_clean = df_clean.loc[(df_clean.ADI_STATERANK!='GQ') &\n",
    "                                         (df_clean.ADI_STATERANK!='PH') &\n",
    "                                          (df_clean.ADI_STATERANK!='GQ-PH') &\n",
    "                                        (~df_clean.ADI_STATERANK.isna())\n",
    "                                         ]\n",
    "    # Transform state rank to integer\n",
    "    df_clean['ADI_STATERANK'] = df_clean['ADI_STATERANK'].astype(int)\n",
    "    \n",
    "    # IMPORTANT: Assign each zipcode the average rank from their block neighborhoods \n",
    "    df_clean = df_clean[['ZIP','ADI_STATERANK']].groupby(['ZIP']).\\\n",
    "                                                                agg({'ADI_STATERANK':'mean'}).reset_index()\n",
    "    \n",
    "    \n",
    "    return df_clean[['ZIP','ADI_STATERANK']]"
   ]
  },
  {
   "cell_type": "code",
   "execution_count": 101,
   "metadata": {},
   "outputs": [
    {
     "data": {
      "text/html": [
       "<div>\n",
       "<style scoped>\n",
       "    .dataframe tbody tr th:only-of-type {\n",
       "        vertical-align: middle;\n",
       "    }\n",
       "\n",
       "    .dataframe tbody tr th {\n",
       "        vertical-align: top;\n",
       "    }\n",
       "\n",
       "    .dataframe thead th {\n",
       "        text-align: right;\n",
       "    }\n",
       "</style>\n",
       "<table border=\"1\" class=\"dataframe\">\n",
       "  <thead>\n",
       "    <tr style=\"text-align: right;\">\n",
       "      <th></th>\n",
       "      <th>ZIP</th>\n",
       "      <th>ADI_STATERANK</th>\n",
       "    </tr>\n",
       "  </thead>\n",
       "  <tbody>\n",
       "    <tr>\n",
       "      <th>0</th>\n",
       "      <td>53001</td>\n",
       "      <td>3.680292</td>\n",
       "    </tr>\n",
       "    <tr>\n",
       "      <th>1</th>\n",
       "      <td>53002</td>\n",
       "      <td>4.310638</td>\n",
       "    </tr>\n",
       "    <tr>\n",
       "      <th>2</th>\n",
       "      <td>53003</td>\n",
       "      <td>2.000000</td>\n",
       "    </tr>\n",
       "    <tr>\n",
       "      <th>3</th>\n",
       "      <td>53004</td>\n",
       "      <td>2.960118</td>\n",
       "    </tr>\n",
       "    <tr>\n",
       "      <th>4</th>\n",
       "      <td>53005</td>\n",
       "      <td>1.497231</td>\n",
       "    </tr>\n",
       "  </tbody>\n",
       "</table>\n",
       "</div>"
      ],
      "text/plain": [
       "     ZIP  ADI_STATERANK\n",
       "0  53001       3.680292\n",
       "1  53002       4.310638\n",
       "2  53003       2.000000\n",
       "3  53004       2.960118\n",
       "4  53005       1.497231"
      ]
     },
     "execution_count": 101,
     "metadata": {},
     "output_type": "execute_result"
    }
   ],
   "source": [
    "df = clean_adi(df_socioec_scores)\n",
    "df.head(5)"
   ]
  },
  {
   "cell_type": "code",
   "execution_count": 140,
   "metadata": {},
   "outputs": [
    {
     "data": {
      "text/html": [
       "<div>\n",
       "<style scoped>\n",
       "    .dataframe tbody tr th:only-of-type {\n",
       "        vertical-align: middle;\n",
       "    }\n",
       "\n",
       "    .dataframe tbody tr th {\n",
       "        vertical-align: top;\n",
       "    }\n",
       "\n",
       "    .dataframe thead th {\n",
       "        text-align: right;\n",
       "    }\n",
       "</style>\n",
       "<table border=\"1\" class=\"dataframe\">\n",
       "  <thead>\n",
       "    <tr style=\"text-align: right;\">\n",
       "      <th></th>\n",
       "      <th>ZIP</th>\n",
       "      <th>ADI_STATERANK</th>\n",
       "    </tr>\n",
       "  </thead>\n",
       "  <tbody>\n",
       "  </tbody>\n",
       "</table>\n",
       "</div>"
      ],
      "text/plain": [
       "Empty DataFrame\n",
       "Columns: [ZIP, ADI_STATERANK]\n",
       "Index: []"
      ]
     },
     "execution_count": 140,
     "metadata": {},
     "output_type": "execute_result"
    }
   ],
   "source": [
    "# df[['ZIP, COUNT']].groupby(['ZIP']).count()\n",
    "# ['ADI_STATERANK']\n",
    "counting = df.groupby([\"ZIP\"]).count().reset_index()\n",
    "counting[counting.ADI_STATERANK > 1]"
   ]
  },
  {
   "cell_type": "code",
   "execution_count": 144,
   "metadata": {},
   "outputs": [
    {
     "data": {
      "text/plain": [
       "array(['47', '45', '59', '44', '57', '26', '43', '39', '33', '41', '54',\n",
       "       '19', '24', '29', '25', '36', '30', '13', '31', '38', '35', '23',\n",
       "       '27', '22', '14', '46', '42', '53', '58', '61', '68', '64', '20',\n",
       "       '37', '34', '21', '18', '32', '52', '67', '56', '78', '50', '63',\n",
       "       '62', '69', '16', '51', '17', '9', '66', '40', '48', '49', '72',\n",
       "       '74', '11', 'GQ', '55', '6', '12', '71', '81', '60', '28', '79',\n",
       "       '76', '75', '8', '7', '77', '65', '10', '5', '87', '92', '93',\n",
       "       '70', '83', '89', '96', '88', '86', '94', '73', '15', '82', '85',\n",
       "       'GQ-PH', '97', '91', '84', '80', '100', '90', 'PH', '98', '95',\n",
       "       '99', '4', nan, '3'], dtype=object)"
      ]
     },
     "execution_count": 144,
     "metadata": {},
     "output_type": "execute_result"
    }
   ],
   "source": [
    "df_socioec_scores.ADI_NATRANK.unique()"
   ]
  },
  {
   "cell_type": "markdown",
   "metadata": {},
   "source": [
    "# SVI Dataset"
   ]
  },
  {
   "cell_type": "code",
   "execution_count": 49,
   "metadata": {},
   "outputs": [],
   "source": [
    "census_svi_path = \"../external_datasets/Wisconsin_CENSUS_SVI.csv\"\n",
    "county_svi_path = \"../external_datasets/Wisconsin_COUNTY_SVI.csv\""
   ]
  },
  {
   "cell_type": "code",
   "execution_count": 84,
   "metadata": {},
   "outputs": [],
   "source": [
    "svi_county_df = pd.read_csv(county_svi_path, sep=',')\n",
    "# svi_county_df.head(5)"
   ]
  },
  {
   "cell_type": "code",
   "execution_count": 86,
   "metadata": {},
   "outputs": [],
   "source": [
    "svi_county_df = svi_county_df[svi_county_df.COUNTY.notna()]\n",
    "svi_county_df.COUNTY = svi_county_df.COUNTY.astype(\"string\")\n",
    "svi_county_df.COUNTY = svi_county_df.COUNTY.str.strip().str.lower()\n",
    "# svi_county_df.COUNTY"
   ]
  },
  {
   "cell_type": "code",
   "execution_count": 88,
   "metadata": {},
   "outputs": [],
   "source": [
    "counties = list(set([str(name).strip() for name in svi_county_df.COUNTY]))\n",
    "counties.sort()\n",
    "with open('./wisconsin_county_names_svi.txt', 'w') as file:\n",
    "    for line in counties:\n",
    "        file.write(f\"{line}\\n\")"
   ]
  },
  {
   "cell_type": "code",
   "execution_count": null,
   "metadata": {},
   "outputs": [],
   "source": []
  },
  {
   "cell_type": "code",
   "execution_count": null,
   "metadata": {},
   "outputs": [],
   "source": []
  }
 ],
 "metadata": {
  "kernelspec": {
   "display_name": "Python 3.10.8 64-bit",
   "language": "python",
   "name": "python3"
  },
  "language_info": {
   "codemirror_mode": {
    "name": "ipython",
    "version": 3
   },
   "file_extension": ".py",
   "mimetype": "text/x-python",
   "name": "python",
   "nbconvert_exporter": "python",
   "pygments_lexer": "ipython3",
   "version": "3.10.8"
  },
  "orig_nbformat": 4,
  "vscode": {
   "interpreter": {
    "hash": "26de051ba29f2982a8de78e945f0abaf191376122a1563185a90213a26c5da77"
   }
  }
 },
 "nbformat": 4,
 "nbformat_minor": 2
}
