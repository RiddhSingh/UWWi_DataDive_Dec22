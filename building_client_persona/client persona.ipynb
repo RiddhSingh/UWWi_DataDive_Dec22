{
 "cells": [
  {
   "cell_type": "code",
   "execution_count": 1,
   "metadata": {},
   "outputs": [],
   "source": [
    "import pandas as pd \n",
    "import numpy as np\n",
    "import sklearn"
   ]
  },
  {
   "cell_type": "code",
   "execution_count": 24,
   "metadata": {},
   "outputs": [],
   "source": [
    "interaction_2020_path = \"../uwwi_datasets/uwwi_dataset_interactions/uwwi_dataset_interactions_2020.csv\"\n",
    "interaction_2021_path = \"../uwwi_datasets/uwwi_dataset_interactions/uwwi_dataset_interactions_2021.csv\"\n",
    "interaction_2022_path = \"../uwwi_datasets/uwwi_dataset_interactions/uwwi_dataset_interactions_2022.csv\"\n",
    "agencies_path = \"../uwwi_datasets/uwwi_dataset_agencies.csv\"\n",
    "clients_path = \"../uwwi_datasets/uwwi_dataset_clients.csv\"\n",
    "services_path = \"../uwwi_datasets/uwwi_dataset_services.csv\"\n",
    "sites_path = \"../uwwi_datasets/uwwi_dataset_sites.csv\"\n",
    "census_svi_path = \"../external_datasets/Wisconsin_CENSUS_SVI.csv\"\n",
    "county_svi_path = \"../external_datasets/Wisconsin_COUNTY_SVI.csv\""
   ]
  },
  {
   "cell_type": "code",
   "execution_count": 7,
   "metadata": {},
   "outputs": [],
   "source": [
    "import chardet\n",
    "def get_encoding(file_path):\n",
    "\n",
    "    with open(file_path,'rb') as f:\n",
    "            data = f.read(10000)\n",
    "    return chardet.detect(data).get(\"encoding\")"
   ]
  },
  {
   "cell_type": "code",
   "execution_count": 77,
   "metadata": {},
   "outputs": [
    {
     "name": "stderr",
     "output_type": "stream",
     "text": [
      "C:\\Users\\Siddiquee\\AppData\\Local\\Temp\\ipykernel_5720\\3683218573.py:2: DtypeWarning: Columns (8) have mixed types. Specify dtype option on import or set low_memory=False.\n",
      "  df = pd.read_csv(file_path, sep=',')\n"
     ]
    },
    {
     "data": {
      "text/html": [
       "<div>\n",
       "<style scoped>\n",
       "    .dataframe tbody tr th:only-of-type {\n",
       "        vertical-align: middle;\n",
       "    }\n",
       "\n",
       "    .dataframe tbody tr th {\n",
       "        vertical-align: top;\n",
       "    }\n",
       "\n",
       "    .dataframe thead th {\n",
       "        text-align: right;\n",
       "    }\n",
       "</style>\n",
       "<table border=\"1\" class=\"dataframe\">\n",
       "  <thead>\n",
       "    <tr style=\"text-align: right;\">\n",
       "      <th></th>\n",
       "      <th>Client_Id</th>\n",
       "      <th>Client_CreateStamp</th>\n",
       "      <th>Client_EditStamp</th>\n",
       "      <th>ClientOption_PreferredLanguageOfCaller</th>\n",
       "      <th>ClientSystem_PreferredLanguageOther</th>\n",
       "      <th>ClientAddressus_ClientAddressus_city</th>\n",
       "      <th>ClientAddressus_ClientAddressus_county</th>\n",
       "      <th>ClientAddressus_ClientAddressus_state</th>\n",
       "      <th>ClientAddressus_ClientAddressus_zip</th>\n",
       "      <th>ClientCustom_AgeOfPersonNeedingAssistance</th>\n",
       "      <th>ClientCustom_EthnicityOther</th>\n",
       "      <th>ClientOption_GenderOptionId</th>\n",
       "      <th>ClientOption_VeteranStatusOptionlist</th>\n",
       "    </tr>\n",
       "  </thead>\n",
       "  <tbody>\n",
       "    <tr>\n",
       "      <th>0</th>\n",
       "      <td>1</td>\n",
       "      <td>2017-04-07T15:34:04.872169-05:00</td>\n",
       "      <td>2022-04-23T00:53:31.812322-05:00</td>\n",
       "      <td>[]</td>\n",
       "      <td>NaN</td>\n",
       "      <td>FOND DU LAC</td>\n",
       "      <td>FOND DU LAC</td>\n",
       "      <td>WI</td>\n",
       "      <td>54935.0</td>\n",
       "      <td>NaN</td>\n",
       "      <td>NaN</td>\n",
       "      <td>[]</td>\n",
       "      <td>[]</td>\n",
       "    </tr>\n",
       "    <tr>\n",
       "      <th>1</th>\n",
       "      <td>2</td>\n",
       "      <td>2017-04-10T08:08:10.404723-05:00</td>\n",
       "      <td>2022-04-23T00:53:33.172375-05:00</td>\n",
       "      <td>[]</td>\n",
       "      <td>NaN</td>\n",
       "      <td>MADISON</td>\n",
       "      <td>DANE</td>\n",
       "      <td>WI</td>\n",
       "      <td>53705.0</td>\n",
       "      <td>NaN</td>\n",
       "      <td>NaN</td>\n",
       "      <td>[]</td>\n",
       "      <td>[]</td>\n",
       "    </tr>\n",
       "    <tr>\n",
       "      <th>2</th>\n",
       "      <td>3</td>\n",
       "      <td>2017-04-10T08:21:14.98351-05:00</td>\n",
       "      <td>2022-02-28T19:01:21.95251-06:00</td>\n",
       "      <td>[]</td>\n",
       "      <td>NaN</td>\n",
       "      <td>NaN</td>\n",
       "      <td>NaN</td>\n",
       "      <td>NaN</td>\n",
       "      <td>54115.0</td>\n",
       "      <td>NaN</td>\n",
       "      <td>NaN</td>\n",
       "      <td>[]</td>\n",
       "      <td>[]</td>\n",
       "    </tr>\n",
       "    <tr>\n",
       "      <th>3</th>\n",
       "      <td>4</td>\n",
       "      <td>2017-04-10T08:25:16.115921-05:00</td>\n",
       "      <td>2022-04-23T00:53:33.445243-05:00</td>\n",
       "      <td>[]</td>\n",
       "      <td>NaN</td>\n",
       "      <td>MENASHA</td>\n",
       "      <td>WINNEBAGO</td>\n",
       "      <td>WI</td>\n",
       "      <td>54952.0</td>\n",
       "      <td>NaN</td>\n",
       "      <td>NaN</td>\n",
       "      <td>[]</td>\n",
       "      <td>[]</td>\n",
       "    </tr>\n",
       "    <tr>\n",
       "      <th>4</th>\n",
       "      <td>5</td>\n",
       "      <td>2017-04-10T08:42:59.367602-05:00</td>\n",
       "      <td>2022-04-23T00:53:33.678873-05:00</td>\n",
       "      <td>[]</td>\n",
       "      <td>NaN</td>\n",
       "      <td>NEENAH</td>\n",
       "      <td>WINNEBAGO</td>\n",
       "      <td>WI</td>\n",
       "      <td>54956.0</td>\n",
       "      <td>NaN</td>\n",
       "      <td>NaN</td>\n",
       "      <td>[]</td>\n",
       "      <td>[]</td>\n",
       "    </tr>\n",
       "  </tbody>\n",
       "</table>\n",
       "</div>"
      ],
      "text/plain": [
       "   Client_Id                Client_CreateStamp  \\\n",
       "0          1  2017-04-07T15:34:04.872169-05:00   \n",
       "1          2  2017-04-10T08:08:10.404723-05:00   \n",
       "2          3   2017-04-10T08:21:14.98351-05:00   \n",
       "3          4  2017-04-10T08:25:16.115921-05:00   \n",
       "4          5  2017-04-10T08:42:59.367602-05:00   \n",
       "\n",
       "                   Client_EditStamp ClientOption_PreferredLanguageOfCaller  \\\n",
       "0  2022-04-23T00:53:31.812322-05:00                                     []   \n",
       "1  2022-04-23T00:53:33.172375-05:00                                     []   \n",
       "2   2022-02-28T19:01:21.95251-06:00                                     []   \n",
       "3  2022-04-23T00:53:33.445243-05:00                                     []   \n",
       "4  2022-04-23T00:53:33.678873-05:00                                     []   \n",
       "\n",
       "  ClientSystem_PreferredLanguageOther ClientAddressus_ClientAddressus_city  \\\n",
       "0                                 NaN                          FOND DU LAC   \n",
       "1                                 NaN                              MADISON   \n",
       "2                                 NaN                                  NaN   \n",
       "3                                 NaN                              MENASHA   \n",
       "4                                 NaN                               NEENAH   \n",
       "\n",
       "  ClientAddressus_ClientAddressus_county  \\\n",
       "0                            FOND DU LAC   \n",
       "1                                   DANE   \n",
       "2                                    NaN   \n",
       "3                              WINNEBAGO   \n",
       "4                              WINNEBAGO   \n",
       "\n",
       "  ClientAddressus_ClientAddressus_state ClientAddressus_ClientAddressus_zip  \\\n",
       "0                                    WI                             54935.0   \n",
       "1                                    WI                             53705.0   \n",
       "2                                   NaN                             54115.0   \n",
       "3                                    WI                             54952.0   \n",
       "4                                    WI                             54956.0   \n",
       "\n",
       "   ClientCustom_AgeOfPersonNeedingAssistance ClientCustom_EthnicityOther  \\\n",
       "0                                        NaN                         NaN   \n",
       "1                                        NaN                         NaN   \n",
       "2                                        NaN                         NaN   \n",
       "3                                        NaN                         NaN   \n",
       "4                                        NaN                         NaN   \n",
       "\n",
       "  ClientOption_GenderOptionId ClientOption_VeteranStatusOptionlist  \n",
       "0                          []                                   []  \n",
       "1                          []                                   []  \n",
       "2                          []                                   []  \n",
       "3                          []                                   []  \n",
       "4                          []                                   []  "
      ]
     },
     "execution_count": 77,
     "metadata": {},
     "output_type": "execute_result"
    }
   ],
   "source": [
    "file_path = clients_path\n",
    "df = pd.read_csv(file_path, sep=',')\n",
    "df.head(5)"
   ]
  },
  {
   "cell_type": "code",
   "execution_count": 86,
   "metadata": {},
   "outputs": [],
   "source": [
    "df = df[df.ClientAddressus_ClientAddressus_state.notna()]\n",
    "counties = df.ClientAddressus_ClientAddressus_state.str.lower().unique().tolist()\n",
    "counties = list(set([name.strip() for name in counties]))\n",
    "counties.sort()\n",
    "with open('./county_names_clients.txt', 'w') as file:\n",
    "    for line in counties:\n",
    "        file.write(f\"{line}\\n\")\n",
    "# df.ClientAddressus_ClientAddressus_county[df.ClientAddressus_ClientAddressus_state.isna()]"
   ]
  },
  {
   "cell_type": "code",
   "execution_count": 93,
   "metadata": {},
   "outputs": [
    {
     "data": {
      "text/plain": [
       "19952"
      ]
     },
     "execution_count": 93,
     "metadata": {},
     "output_type": "execute_result"
    }
   ],
   "source": [
    "df.shape[0] - df[df.ClientAddressus_ClientAddressus_state.str.lower() == 'wi'].shape[0]"
   ]
  },
  {
   "cell_type": "code",
   "execution_count": 94,
   "metadata": {},
   "outputs": [],
   "source": [
    "df = df[df.ClientAddressus_ClientAddressus_state.str.lower() == 'wi']"
   ]
  },
  {
   "cell_type": "code",
   "execution_count": 96,
   "metadata": {},
   "outputs": [
    {
     "name": "stderr",
     "output_type": "stream",
     "text": [
      "C:\\Users\\Siddiquee\\AppData\\Local\\Temp\\ipykernel_5720\\3704785758.py:1: SettingWithCopyWarning: \n",
      "A value is trying to be set on a copy of a slice from a DataFrame.\n",
      "Try using .loc[row_indexer,col_indexer] = value instead\n",
      "\n",
      "See the caveats in the documentation: https://pandas.pydata.org/pandas-docs/stable/user_guide/indexing.html#returning-a-view-versus-a-copy\n",
      "  df.ClientAddressus_ClientAddressus_county = df.ClientAddressus_ClientAddressus_county.astype(str)\n"
     ]
    }
   ],
   "source": [
    "df.ClientAddressus_ClientAddressus_county = df.ClientAddressus_ClientAddressus_county.astype(str)\n",
    "names = df.ClientAddressus_ClientAddressus_county.str.lower().unique().tolist()\n",
    "names = list(set([name.strip() for name in names]))\n",
    "names.sort()\n",
    "with open('./county_names.txt', 'w') as file:\n",
    "    for line in names:\n",
    "        file.write(f\"{line}\\n\")"
   ]
  },
  {
   "cell_type": "code",
   "execution_count": 23,
   "metadata": {},
   "outputs": [
    {
     "data": {
      "text/plain": [
       "(68132,)"
      ]
     },
     "execution_count": 23,
     "metadata": {},
     "output_type": "execute_result"
    }
   ],
   "source": [
    "df.ClientAddressus_ClientAddressus_zip[df.ClientAddressus_ClientAddressus_zip.isna()].shape"
   ]
  },
  {
   "cell_type": "code",
   "execution_count": 76,
   "metadata": {},
   "outputs": [],
   "source": [
    "official_names = df.COUNTY.str.lower().unique().tolist()\n",
    "official_names = list(set([name.strip() for name in official_names]))\n",
    "official_names.sort()\n",
    "with open('./official_county_names.txt', 'w') as file:\n",
    "    for line in official_names:\n",
    "        file.write(f\"{line}\\n\")"
   ]
  },
  {
   "cell_type": "markdown",
   "metadata": {},
   "source": [
    "# ADI Scores"
   ]
  },
  {
   "cell_type": "code",
   "execution_count": 141,
   "metadata": {},
   "outputs": [
    {
     "data": {
      "text/html": [
       "<div>\n",
       "<style scoped>\n",
       "    .dataframe tbody tr th:only-of-type {\n",
       "        vertical-align: middle;\n",
       "    }\n",
       "\n",
       "    .dataframe tbody tr th {\n",
       "        vertical-align: top;\n",
       "    }\n",
       "\n",
       "    .dataframe thead th {\n",
       "        text-align: right;\n",
       "    }\n",
       "</style>\n",
       "<table border=\"1\" class=\"dataframe\">\n",
       "  <thead>\n",
       "    <tr style=\"text-align: right;\">\n",
       "      <th></th>\n",
       "      <th>ZIP_4</th>\n",
       "      <th>GISJOIN</th>\n",
       "      <th>FIPS</th>\n",
       "      <th>ADI_NATRANK</th>\n",
       "      <th>ADI_STATERANK</th>\n",
       "      <th>TYPE</th>\n",
       "    </tr>\n",
       "  </thead>\n",
       "  <tbody>\n",
       "    <tr>\n",
       "      <th>0</th>\n",
       "      <td>530010064</td>\n",
       "      <td>G55011700110002</td>\n",
       "      <td>5.511701e+11</td>\n",
       "      <td>47</td>\n",
       "      <td>4</td>\n",
       "      <td></td>\n",
       "    </tr>\n",
       "    <tr>\n",
       "      <th>1</th>\n",
       "      <td>530010061</td>\n",
       "      <td>G55011700110002</td>\n",
       "      <td>5.511701e+11</td>\n",
       "      <td>47</td>\n",
       "      <td>4</td>\n",
       "      <td></td>\n",
       "    </tr>\n",
       "    <tr>\n",
       "      <th>2</th>\n",
       "      <td>530010063</td>\n",
       "      <td>G55011700110002</td>\n",
       "      <td>5.511701e+11</td>\n",
       "      <td>47</td>\n",
       "      <td>4</td>\n",
       "      <td></td>\n",
       "    </tr>\n",
       "    <tr>\n",
       "      <th>3</th>\n",
       "      <td>530010049</td>\n",
       "      <td>G55011700112001</td>\n",
       "      <td>5.511701e+11</td>\n",
       "      <td>45</td>\n",
       "      <td>3</td>\n",
       "      <td></td>\n",
       "    </tr>\n",
       "    <tr>\n",
       "      <th>4</th>\n",
       "      <td>530010050</td>\n",
       "      <td>G55011700112001</td>\n",
       "      <td>5.511701e+11</td>\n",
       "      <td>45</td>\n",
       "      <td>3</td>\n",
       "      <td></td>\n",
       "    </tr>\n",
       "  </tbody>\n",
       "</table>\n",
       "</div>"
      ],
      "text/plain": [
       "       ZIP_4          GISJOIN          FIPS ADI_NATRANK ADI_STATERANK TYPE\n",
       "0  530010064  G55011700110002  5.511701e+11          47             4     \n",
       "1  530010061  G55011700110002  5.511701e+11          47             4     \n",
       "2  530010063  G55011700110002  5.511701e+11          47             4     \n",
       "3  530010049  G55011700112001  5.511701e+11          45             3     \n",
       "4  530010050  G55011700112001  5.511701e+11          45             3     "
      ]
     },
     "execution_count": 141,
     "metadata": {},
     "output_type": "execute_result"
    }
   ],
   "source": [
    "SOCIOECONOMIC_FILE = '../external_datasets/socioeconomic_dataset/socioeconomic_scores_zipcode.csv'\n",
    "df_socioec_scores = pd.read_csv(SOCIOECONOMIC_FILE)\n",
    "df_socioec_scores.head(5)"
   ]
  },
  {
   "cell_type": "code",
   "execution_count": 99,
   "metadata": {},
   "outputs": [],
   "source": [
    "def clean_adi(df_original):\n",
    "    \n",
    "    # Let's create the cleaned dataset\n",
    "    df_clean = df_original.copy()\n",
    "    \n",
    "    # Extract only 5 digits from zipcode\n",
    "    df_clean['ZIP'] = df_clean['ZIP_4'].astype(str).str[:5]\n",
    "    \n",
    "    # Remove zipcodes that don't have a valid decile\n",
    "    df_clean = df_clean.loc[(df_clean.ADI_STATERANK!='GQ') &\n",
    "                                         (df_clean.ADI_STATERANK!='PH') &\n",
    "                                          (df_clean.ADI_STATERANK!='GQ-PH') &\n",
    "                                        (~df_clean.ADI_STATERANK.isna())\n",
    "                                         ]\n",
    "    # Transform state rank to integer\n",
    "    df_clean['ADI_STATERANK'] = df_clean['ADI_STATERANK'].astype(int)\n",
    "    \n",
    "    # IMPORTANT: Assign each zipcode the average rank from their block neighborhoods \n",
    "    df_clean = df_clean[['ZIP','ADI_STATERANK']].groupby(['ZIP']).\\\n",
    "                                                                agg({'ADI_STATERANK':'mean'}).reset_index()\n",
    "    \n",
    "    \n",
    "    return df_clean[['ZIP','ADI_STATERANK']]"
   ]
  },
  {
   "cell_type": "code",
   "execution_count": 101,
   "metadata": {},
   "outputs": [
    {
     "data": {
      "text/html": [
       "<div>\n",
       "<style scoped>\n",
       "    .dataframe tbody tr th:only-of-type {\n",
       "        vertical-align: middle;\n",
       "    }\n",
       "\n",
       "    .dataframe tbody tr th {\n",
       "        vertical-align: top;\n",
       "    }\n",
       "\n",
       "    .dataframe thead th {\n",
       "        text-align: right;\n",
       "    }\n",
       "</style>\n",
       "<table border=\"1\" class=\"dataframe\">\n",
       "  <thead>\n",
       "    <tr style=\"text-align: right;\">\n",
       "      <th></th>\n",
       "      <th>ZIP</th>\n",
       "      <th>ADI_STATERANK</th>\n",
       "    </tr>\n",
       "  </thead>\n",
       "  <tbody>\n",
       "    <tr>\n",
       "      <th>0</th>\n",
       "      <td>53001</td>\n",
       "      <td>3.680292</td>\n",
       "    </tr>\n",
       "    <tr>\n",
       "      <th>1</th>\n",
       "      <td>53002</td>\n",
       "      <td>4.310638</td>\n",
       "    </tr>\n",
       "    <tr>\n",
       "      <th>2</th>\n",
       "      <td>53003</td>\n",
       "      <td>2.000000</td>\n",
       "    </tr>\n",
       "    <tr>\n",
       "      <th>3</th>\n",
       "      <td>53004</td>\n",
       "      <td>2.960118</td>\n",
       "    </tr>\n",
       "    <tr>\n",
       "      <th>4</th>\n",
       "      <td>53005</td>\n",
       "      <td>1.497231</td>\n",
       "    </tr>\n",
       "  </tbody>\n",
       "</table>\n",
       "</div>"
      ],
      "text/plain": [
       "     ZIP  ADI_STATERANK\n",
       "0  53001       3.680292\n",
       "1  53002       4.310638\n",
       "2  53003       2.000000\n",
       "3  53004       2.960118\n",
       "4  53005       1.497231"
      ]
     },
     "execution_count": 101,
     "metadata": {},
     "output_type": "execute_result"
    }
   ],
   "source": [
    "df = clean_adi(df_socioec_scores)\n",
    "df.head(5)"
   ]
  },
  {
   "cell_type": "code",
   "execution_count": 140,
   "metadata": {},
   "outputs": [
    {
     "data": {
      "text/html": [
       "<div>\n",
       "<style scoped>\n",
       "    .dataframe tbody tr th:only-of-type {\n",
       "        vertical-align: middle;\n",
       "    }\n",
       "\n",
       "    .dataframe tbody tr th {\n",
       "        vertical-align: top;\n",
       "    }\n",
       "\n",
       "    .dataframe thead th {\n",
       "        text-align: right;\n",
       "    }\n",
       "</style>\n",
       "<table border=\"1\" class=\"dataframe\">\n",
       "  <thead>\n",
       "    <tr style=\"text-align: right;\">\n",
       "      <th></th>\n",
       "      <th>ZIP</th>\n",
       "      <th>ADI_STATERANK</th>\n",
       "    </tr>\n",
       "  </thead>\n",
       "  <tbody>\n",
       "  </tbody>\n",
       "</table>\n",
       "</div>"
      ],
      "text/plain": [
       "Empty DataFrame\n",
       "Columns: [ZIP, ADI_STATERANK]\n",
       "Index: []"
      ]
     },
     "execution_count": 140,
     "metadata": {},
     "output_type": "execute_result"
    }
   ],
   "source": [
    "# df[['ZIP, COUNT']].groupby(['ZIP']).count()\n",
    "# ['ADI_STATERANK']\n",
    "counting = df.groupby([\"ZIP\"]).count().reset_index()\n",
    "counting[counting.ADI_STATERANK > 1]"
   ]
  },
  {
   "cell_type": "code",
   "execution_count": 144,
   "metadata": {},
   "outputs": [
    {
     "data": {
      "text/plain": [
       "array(['47', '45', '59', '44', '57', '26', '43', '39', '33', '41', '54',\n",
       "       '19', '24', '29', '25', '36', '30', '13', '31', '38', '35', '23',\n",
       "       '27', '22', '14', '46', '42', '53', '58', '61', '68', '64', '20',\n",
       "       '37', '34', '21', '18', '32', '52', '67', '56', '78', '50', '63',\n",
       "       '62', '69', '16', '51', '17', '9', '66', '40', '48', '49', '72',\n",
       "       '74', '11', 'GQ', '55', '6', '12', '71', '81', '60', '28', '79',\n",
       "       '76', '75', '8', '7', '77', '65', '10', '5', '87', '92', '93',\n",
       "       '70', '83', '89', '96', '88', '86', '94', '73', '15', '82', '85',\n",
       "       'GQ-PH', '97', '91', '84', '80', '100', '90', 'PH', '98', '95',\n",
       "       '99', '4', nan, '3'], dtype=object)"
      ]
     },
     "execution_count": 144,
     "metadata": {},
     "output_type": "execute_result"
    }
   ],
   "source": [
    "df_socioec_scores.ADI_NATRANK.unique()"
   ]
  }
 ],
 "metadata": {
  "kernelspec": {
   "display_name": "Python 3.10.8 64-bit",
   "language": "python",
   "name": "python3"
  },
  "language_info": {
   "codemirror_mode": {
    "name": "ipython",
    "version": 3
   },
   "file_extension": ".py",
   "mimetype": "text/x-python",
   "name": "python",
   "nbconvert_exporter": "python",
   "pygments_lexer": "ipython3",
   "version": "3.10.8"
  },
  "orig_nbformat": 4,
  "vscode": {
   "interpreter": {
    "hash": "26de051ba29f2982a8de78e945f0abaf191376122a1563185a90213a26c5da77"
   }
  }
 },
 "nbformat": 4,
 "nbformat_minor": 2
}
