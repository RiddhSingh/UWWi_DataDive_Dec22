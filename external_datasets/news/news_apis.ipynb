{
  "nbformat": 4,
  "nbformat_minor": 0,
  "metadata": {
    "colab": {
      "provenance": [],
      "toc_visible": true,
      "authorship_tag": "ABX9TyPqi9hYOqLuVyBi2y4EDpPu",
      "include_colab_link": true
    },
    "kernelspec": {
      "name": "python3",
      "display_name": "Python 3"
    },
    "language_info": {
      "name": "python"
    }
  },
  "cells": [
    {
      "cell_type": "markdown",
      "metadata": {
        "id": "view-in-github",
        "colab_type": "text"
      },
      "source": [
        "<a href=\"https://colab.research.google.com/github/bsenst/UWWi_DataDive_Dec22/blob/main/external_datasets/news/news_apis.ipynb\" target=\"_parent\"><img src=\"https://colab.research.google.com/assets/colab-badge.svg\" alt=\"Open In Colab\"/></a>"
      ]
    },
    {
      "cell_type": "markdown",
      "source": [
        "# Collection of News API's\n",
        "\n",
        "https://medium.com/rakuten-rapidapi/top-10-best-news-apis-google-news-bloomberg-bing-news-and-more-bbf3e6e46af6\n",
        "\n",
        "Ultimately, we came up with the following list of top 10 best news APIs.\n",
        "* Google News API\n",
        "* Bloomberg API\n",
        "* News API\n",
        "* New York Times API\n",
        "* ESPN API\n",
        "* Bing News API\n",
        "* Guardian API\n",
        "* BBC News API\n",
        "* Yahoo News API\n",
        "* Financial Times API"
      ],
      "metadata": {
        "id": "2rrIwH4_X0M3"
      }
    },
    {
      "cell_type": "markdown",
      "source": [
        "## Google News API\n",
        "\n",
        "https://pypi.org/project/GoogleNews/"
      ],
      "metadata": {
        "id": "MKFGUHrnYWD-"
      }
    },
    {
      "cell_type": "code",
      "execution_count": 1,
      "metadata": {
        "colab": {
          "base_uri": "https://localhost:8080/"
        },
        "id": "KydtXiUQXsHH",
        "outputId": "d748c380-4ee6-45c8-f2fb-c0912702c19b"
      },
      "outputs": [
        {
          "output_type": "stream",
          "name": "stdout",
          "text": [
            "Looking in indexes: https://pypi.org/simple, https://us-python.pkg.dev/colab-wheels/public/simple/\n",
            "Collecting GoogleNews\n",
            "  Downloading GoogleNews-1.6.5-py3-none-any.whl (8.0 kB)\n",
            "Requirement already satisfied: beautifulsoup4 in /usr/local/lib/python3.8/dist-packages (from GoogleNews) (4.6.3)\n",
            "Collecting dateparser\n",
            "  Downloading dateparser-1.1.4-py2.py3-none-any.whl (292 kB)\n",
            "\u001b[K     |████████████████████████████████| 292 kB 19.8 MB/s \n",
            "\u001b[?25hRequirement already satisfied: python-dateutil in /usr/local/lib/python3.8/dist-packages (from GoogleNews) (2.8.2)\n",
            "Requirement already satisfied: tzlocal in /usr/local/lib/python3.8/dist-packages (from dateparser->GoogleNews) (1.5.1)\n",
            "Requirement already satisfied: regex!=2019.02.19,!=2021.8.27 in /usr/local/lib/python3.8/dist-packages (from dateparser->GoogleNews) (2022.6.2)\n",
            "Requirement already satisfied: pytz in /usr/local/lib/python3.8/dist-packages (from dateparser->GoogleNews) (2022.6)\n",
            "Requirement already satisfied: six>=1.5 in /usr/local/lib/python3.8/dist-packages (from python-dateutil->GoogleNews) (1.15.0)\n",
            "Installing collected packages: dateparser, GoogleNews\n",
            "Successfully installed GoogleNews-1.6.5 dateparser-1.1.4\n",
            "1.6.5\n"
          ]
        }
      ],
      "source": [
        "! pip install GoogleNews\n",
        "from GoogleNews import GoogleNews\n",
        "googlenews = GoogleNews()"
      ]
    },
    {
      "cell_type": "code",
      "source": [
        "googlenews.set_encode('utf-8')\n",
        "googlenews.set_time_range('01/01/2017','11/30/2022')\n",
        "googlenews.get_news('Wisconsin')\n",
        "gnews = googlenews.results(sort=True)\n",
        "print(len(gnews))"
      ],
      "metadata": {
        "colab": {
          "base_uri": "https://localhost:8080/"
        },
        "id": "iiS2yQBcaJ9-",
        "outputId": "ff660cb9-66df-4ff0-cb71-c1f6ccb6c016"
      },
      "execution_count": 32,
      "outputs": [
        {
          "output_type": "stream",
          "name": "stdout",
          "text": [
            "'<' not supported between instances of 'datetime.datetime' and 'float'\n",
            "554\n"
          ]
        }
      ]
    },
    {
      "cell_type": "code",
      "source": [
        "gnews[:3]"
      ],
      "metadata": {
        "colab": {
          "base_uri": "https://localhost:8080/"
        },
        "id": "DY8G4el5brDd",
        "outputId": "21fb0505-8046-469f-8ba8-14878da81488"
      },
      "execution_count": 33,
      "outputs": [
        {
          "output_type": "execute_result",
          "data": {
            "text/plain": [
              "[{'title': \"Survey: Wisconsin's favorite Christmas candy is ... really?\",\n",
              "  'desc': 'bookmark_border',\n",
              "  'date': '2 days ago',\n",
              "  'datetime': datetime.datetime(2022, 11, 30, 15, 19, 47, 293916),\n",
              "  'link': 'news.google.com/./articles/CBMicGh0dHBzOi8vd3d3Lmpzb25saW5lLmNvbS9zdG9yeS9saWZlLzIwMjIvMTEvMzAvc3VydmV5LXdpc2NvbnNpbnMtZmF2b3JpdGUtY2hyaXN0bWFzLWNhbmR5LWlzLXJlYWxseS82OTY4NTU2MDAwNy_SAQA?hl=en-US&gl=US&ceid=US%3Aen',\n",
              "  'img': 'https://lh3.googleusercontent.com/proxy/lSoh10uuysLpanj_dgYHw5Nm8ol4ZmeqzbCSqaGjzdBxV4u6zuI1jotvguHPBIL6ACnv06QKHn-a-KipHhu8X4lEY5o7d6pJlsmpod8Mzbj6qlF6G9rMuFqO98Qa0tJ9guQRG1n8FFuqF6ukfiIIBMmD6KP1WC8GBkQ4oYEomzNvvbjD41o=s0-w100-h100-dcGQOMDAUM',\n",
              "  'media': None,\n",
              "  'site': None},\n",
              " {'title': 'Fugitive from Wisconsin apprehended during traffic stop',\n",
              "  'desc': 'bookmark_border',\n",
              "  'date': '18 hours ago',\n",
              "  'datetime': datetime.datetime(2022, 12, 1, 21, 19, 47, 294647),\n",
              "  'link': 'news.google.com/./articles/CBMiYGh0dHBzOi8vd3d3LmVsaXphYmV0aHRvbi5jb20vMjAyMi8xMi8wMS9mdWdpdGl2ZS1mcm9tLXdpc2NvbnNpbi1hcHByZWhlbmRlZC1kdXJpbmctdHJhZmZpYy1zdG9wL9IBAA?hl=en-US&gl=US&ceid=US%3Aen',\n",
              "  'img': 'https://lh3.googleusercontent.com/proxy/tjzQTEPn4NfRkyCYsshv68ZVzwNj0mdHm8X-C3nsM5_O3-k0OSILzA3HJkdA1U_XZe1pJkMZtKxqj0IdfiQeYRWzlJWAOTGdBt4Jbsl7xDcmjRvsfEbbPlPMYt712-mo7gDYzzWbTviNc9zDJRBePAjUfcqPNwtp-AdmlqMfR7l5=s0-w100-h100-dcjYGS1ijosY8B',\n",
              "  'media': None,\n",
              "  'site': None},\n",
              " {'title': 'Awesome Spots to Play in Wisconsin When Visiting Whistling Straits',\n",
              "  'desc': 'bookmark_border',\n",
              "  'date': 'Nov 10',\n",
              "  'datetime': nan,\n",
              "  'link': 'news.google.com/./articles/CBMiXGh0dHBzOi8vd3d3LnBnYS5jb20vc3RvcnkvYXdlc29tZS1zcG90cy10by1wbGF5LWluLXdpc2NvbnNpbi13aGVuLXZpc2l0aW5nLXdoaXN0bGluZy1zdHJhaXRz0gEA?hl=en-US&gl=US&ceid=US%3Aen',\n",
              "  'img': 'https://lh3.googleusercontent.com/proxy/rcIDUVAf9-Ln8IR0UvqIvyX4c1QJrxpFDgwQdiNI1SaKCMYccLRtNdxVnHo44jCnLW_Jz-dP18TJiTAbIowH0LColwnp3CqTJ5Y9zsIveCoetw1FvttN-tGPcVB5T62b2oi7T4mMsXl5Z39T6V5-xppMQHd-g-whu64isakbIU10EisPombX9AqWgwOj-XGbwj5qEuUVb6uAjKYVxw=s0-w100-h100-dcDcAQ',\n",
              "  'media': None,\n",
              "  'site': None}]"
            ]
          },
          "metadata": {},
          "execution_count": 33
        }
      ]
    },
    {
      "cell_type": "code",
      "source": [
        "gnews[-3:]"
      ],
      "metadata": {
        "colab": {
          "base_uri": "https://localhost:8080/"
        },
        "id": "QG1LZRchb25o",
        "outputId": "fd6232b9-cbda-4843-89bb-199370be5568"
      },
      "execution_count": 34,
      "outputs": [
        {
          "output_type": "execute_result",
          "data": {
            "text/plain": [
              "[{'title': 'Wisconsin gun deer hunting season opening date, regulations, licenses',\n",
              "  'desc': 'bookmark_border',\n",
              "  'date': 'Nov 6',\n",
              "  'datetime': nan,\n",
              "  'link': 'news.google.com/./articles/CBMipQFodHRwczovL3d3dy5qc29ubGluZS5jb20vc3Rvcnkvc3BvcnRzL2NvbHVtbmlzdHMvcGF1bC1zbWl0aC8yMDIyLzExLzA2L3dpc2NvbnNpbi1ndW4tZGVlci1odW50aW5nLW9wZW5pbmctZGF0ZS1yZWd1bGF0aW9ucy1saWNlbnNlcy1iYWl0LXNhZmV0eS1yZWdpc3Rlci82OTYyMTg0ODAwNy_SAQA?hl=en-US&gl=US&ceid=US%3Aen',\n",
              "  'img': 'https://lh3.googleusercontent.com/proxy/jce2uFq1sVGI9eA-zelR9GJxKtgZB5Lnbi5vTLdkgGJDNpplkDr8vcCCKe9wu72wzuNIGDlVlQ_QJmtyky2DkaN02p9QmLC51VcfC42LZxvO6q7cTDGcr26oJ1QqbXj6tuhFFHi9YhdpB-Ljv78E_lEbh3VcuFsa-ofTVUyfaInRdHg=s0-w100-h100-dcDWiah6oI',\n",
              "  'media': None,\n",
              "  'site': None},\n",
              " {'title': 'NBC Dateline: What happened to Wisconsin pharmacist Ken Juedes?',\n",
              "  'desc': 'bookmark_border',\n",
              "  'date': 'Nov 10',\n",
              "  'datetime': nan,\n",
              "  'link': 'news.google.com/./articles/CBMiWGh0dHBzOi8vd3d3LnNwb3J0c2tlZWRhLmNvbS9wb3AtY3VsdHVyZS9uYmMtZGF0ZWxpbmUtd2hhdC1oYXBwZW5lZC1waGFybWFjaXN0LWtlbi1qdWVkZXPSAVxodHRwczovL3d3dy5zcG9ydHNrZWVkYS5jb20vYW1wL3BvcC1jdWx0dXJlL25iYy1kYXRlbGluZS13aGF0LWhhcHBlbmVkLXBoYXJtYWNpc3Qta2VuLWp1ZWRlcw?hl=en-US&gl=US&ceid=US%3Aen',\n",
              "  'img': 'https://lh3.googleusercontent.com/proxy/ovjqzVDPzeg_vse0V7JKwv9l6ip0qJH9707PZYxs-IoekhT-QPluUpILjRyWWq2gIXrkOS7N6K__CwxpgS5zrkNxbbRwvks0AyUepjeWis7dTpM9s4nso7zPZwlikudc-pNI2zs83g=s0-w100-h100-dcDSmaxpYK',\n",
              "  'media': None,\n",
              "  'site': None},\n",
              " {'title': 'Fall colors in Wisconsin – when to see the peak leaf color change',\n",
              "  'desc': 'bookmark_border',\n",
              "  'date': 'Oct 12',\n",
              "  'datetime': nan,\n",
              "  'link': 'news.google.com/./articles/CBMicWh0dHBzOi8vd3d3LndlYXJlZ3JlZW5iYXkuY29tL3dlYXRoZXIvYmV5b25kdGhlZm9yZWNhc3QvZmFsbC1jb2xvcnMtaW4td2ktd2hlbi10by1zZWUtdGhlLXBlYWstbGVhZi1jb2xvci1jaGFuZ2Uv0gF1aHR0cHM6Ly93d3cud2VhcmVncmVlbmJheS5jb20vd2VhdGhlci9iZXlvbmR0aGVmb3JlY2FzdC9mYWxsLWNvbG9ycy1pbi13aS13aGVuLXRvLXNlZS10aGUtcGVhay1sZWFmLWNvbG9yLWNoYW5nZS9hbXAv?hl=en-US&gl=US&ceid=US%3Aen',\n",
              "  'img': 'https://lh3.googleusercontent.com/proxy/sevtjts8nZ6_59B3HtxTHMNlgOr8hcImPf-j2-Z0qE0Nm4sxSWR7UO4MeR79-VGtKXWIVZMkpcjK9rSpATSMWwFCzD7UkhPEOpNo9mgwHQ6SiS-74ZlYkgjKm0FkZd8-eJGhXAflMg5Wa_mgPjK-p5OJycA=s0-w100-h100-dcDQCUjDUH',\n",
              "  'media': None,\n",
              "  'site': None}]"
            ]
          },
          "metadata": {},
          "execution_count": 34
        }
      ]
    },
    {
      "cell_type": "code",
      "source": [
        "import pandas as pd\n",
        "\n",
        "df = pd.DataFrame(gnews)\n",
        "df.head()"
      ],
      "metadata": {
        "colab": {
          "base_uri": "https://localhost:8080/",
          "height": 617
        },
        "id": "AFVzLAghkoCf",
        "outputId": "732a2fdb-265e-41ec-8c10-2e438ce67843"
      },
      "execution_count": 35,
      "outputs": [
        {
          "output_type": "execute_result",
          "data": {
            "text/plain": [
              "                                               title             desc  \\\n",
              "0  Survey: Wisconsin's favorite Christmas candy i...  bookmark_border   \n",
              "1  Fugitive from Wisconsin apprehended during tra...  bookmark_border   \n",
              "2  Awesome Spots to Play in Wisconsin When Visiti...  bookmark_border   \n",
              "3     Wisconsin commit wavering amid coaching change  bookmark_border   \n",
              "4  Wisconsin-based company to boost production of...  bookmark_border   \n",
              "\n",
              "           date                   datetime  \\\n",
              "0    2 days ago 2022-11-30 15:19:47.293916   \n",
              "1  18 hours ago 2022-12-01 21:19:47.294647   \n",
              "2        Nov 10                        NaT   \n",
              "3    1 hour ago 2022-12-02 14:19:47.296127   \n",
              "4   4 hours ago 2022-12-02 11:19:47.296898   \n",
              "\n",
              "                                                link  \\\n",
              "0  news.google.com/./articles/CBMicGh0dHBzOi8vd3d...   \n",
              "1  news.google.com/./articles/CBMiYGh0dHBzOi8vd3d...   \n",
              "2  news.google.com/./articles/CBMiXGh0dHBzOi8vd3d...   \n",
              "3  news.google.com/./articles/CBMiaWh0dHBzOi8vMjQ...   \n",
              "4  news.google.com/./articles/CBMiaGh0dHBzOi8vd3d...   \n",
              "\n",
              "                                                 img media  site  \n",
              "0  https://lh3.googleusercontent.com/proxy/lSoh10...  None  None  \n",
              "1  https://lh3.googleusercontent.com/proxy/tjzQTE...  None  None  \n",
              "2  https://lh3.googleusercontent.com/proxy/rcIDUV...  None  None  \n",
              "3  https://lh3.googleusercontent.com/proxy/moX8Cv...  None  None  \n",
              "4  https://lh3.googleusercontent.com/proxy/L5K5iG...  None  None  "
            ],
            "text/html": [
              "\n",
              "  <div id=\"df-28629241-4ae1-4a45-bdb9-a6a9a224ccbd\">\n",
              "    <div class=\"colab-df-container\">\n",
              "      <div>\n",
              "<style scoped>\n",
              "    .dataframe tbody tr th:only-of-type {\n",
              "        vertical-align: middle;\n",
              "    }\n",
              "\n",
              "    .dataframe tbody tr th {\n",
              "        vertical-align: top;\n",
              "    }\n",
              "\n",
              "    .dataframe thead th {\n",
              "        text-align: right;\n",
              "    }\n",
              "</style>\n",
              "<table border=\"1\" class=\"dataframe\">\n",
              "  <thead>\n",
              "    <tr style=\"text-align: right;\">\n",
              "      <th></th>\n",
              "      <th>title</th>\n",
              "      <th>desc</th>\n",
              "      <th>date</th>\n",
              "      <th>datetime</th>\n",
              "      <th>link</th>\n",
              "      <th>img</th>\n",
              "      <th>media</th>\n",
              "      <th>site</th>\n",
              "    </tr>\n",
              "  </thead>\n",
              "  <tbody>\n",
              "    <tr>\n",
              "      <th>0</th>\n",
              "      <td>Survey: Wisconsin's favorite Christmas candy i...</td>\n",
              "      <td>bookmark_border</td>\n",
              "      <td>2 days ago</td>\n",
              "      <td>2022-11-30 15:19:47.293916</td>\n",
              "      <td>news.google.com/./articles/CBMicGh0dHBzOi8vd3d...</td>\n",
              "      <td>https://lh3.googleusercontent.com/proxy/lSoh10...</td>\n",
              "      <td>None</td>\n",
              "      <td>None</td>\n",
              "    </tr>\n",
              "    <tr>\n",
              "      <th>1</th>\n",
              "      <td>Fugitive from Wisconsin apprehended during tra...</td>\n",
              "      <td>bookmark_border</td>\n",
              "      <td>18 hours ago</td>\n",
              "      <td>2022-12-01 21:19:47.294647</td>\n",
              "      <td>news.google.com/./articles/CBMiYGh0dHBzOi8vd3d...</td>\n",
              "      <td>https://lh3.googleusercontent.com/proxy/tjzQTE...</td>\n",
              "      <td>None</td>\n",
              "      <td>None</td>\n",
              "    </tr>\n",
              "    <tr>\n",
              "      <th>2</th>\n",
              "      <td>Awesome Spots to Play in Wisconsin When Visiti...</td>\n",
              "      <td>bookmark_border</td>\n",
              "      <td>Nov 10</td>\n",
              "      <td>NaT</td>\n",
              "      <td>news.google.com/./articles/CBMiXGh0dHBzOi8vd3d...</td>\n",
              "      <td>https://lh3.googleusercontent.com/proxy/rcIDUV...</td>\n",
              "      <td>None</td>\n",
              "      <td>None</td>\n",
              "    </tr>\n",
              "    <tr>\n",
              "      <th>3</th>\n",
              "      <td>Wisconsin commit wavering amid coaching change</td>\n",
              "      <td>bookmark_border</td>\n",
              "      <td>1 hour ago</td>\n",
              "      <td>2022-12-02 14:19:47.296127</td>\n",
              "      <td>news.google.com/./articles/CBMiaWh0dHBzOi8vMjQ...</td>\n",
              "      <td>https://lh3.googleusercontent.com/proxy/moX8Cv...</td>\n",
              "      <td>None</td>\n",
              "      <td>None</td>\n",
              "    </tr>\n",
              "    <tr>\n",
              "      <th>4</th>\n",
              "      <td>Wisconsin-based company to boost production of...</td>\n",
              "      <td>bookmark_border</td>\n",
              "      <td>4 hours ago</td>\n",
              "      <td>2022-12-02 11:19:47.296898</td>\n",
              "      <td>news.google.com/./articles/CBMiaGh0dHBzOi8vd3d...</td>\n",
              "      <td>https://lh3.googleusercontent.com/proxy/L5K5iG...</td>\n",
              "      <td>None</td>\n",
              "      <td>None</td>\n",
              "    </tr>\n",
              "  </tbody>\n",
              "</table>\n",
              "</div>\n",
              "      <button class=\"colab-df-convert\" onclick=\"convertToInteractive('df-28629241-4ae1-4a45-bdb9-a6a9a224ccbd')\"\n",
              "              title=\"Convert this dataframe to an interactive table.\"\n",
              "              style=\"display:none;\">\n",
              "        \n",
              "  <svg xmlns=\"http://www.w3.org/2000/svg\" height=\"24px\"viewBox=\"0 0 24 24\"\n",
              "       width=\"24px\">\n",
              "    <path d=\"M0 0h24v24H0V0z\" fill=\"none\"/>\n",
              "    <path d=\"M18.56 5.44l.94 2.06.94-2.06 2.06-.94-2.06-.94-.94-2.06-.94 2.06-2.06.94zm-11 1L8.5 8.5l.94-2.06 2.06-.94-2.06-.94L8.5 2.5l-.94 2.06-2.06.94zm10 10l.94 2.06.94-2.06 2.06-.94-2.06-.94-.94-2.06-.94 2.06-2.06.94z\"/><path d=\"M17.41 7.96l-1.37-1.37c-.4-.4-.92-.59-1.43-.59-.52 0-1.04.2-1.43.59L10.3 9.45l-7.72 7.72c-.78.78-.78 2.05 0 2.83L4 21.41c.39.39.9.59 1.41.59.51 0 1.02-.2 1.41-.59l7.78-7.78 2.81-2.81c.8-.78.8-2.07 0-2.86zM5.41 20L4 18.59l7.72-7.72 1.47 1.35L5.41 20z\"/>\n",
              "  </svg>\n",
              "      </button>\n",
              "      \n",
              "  <style>\n",
              "    .colab-df-container {\n",
              "      display:flex;\n",
              "      flex-wrap:wrap;\n",
              "      gap: 12px;\n",
              "    }\n",
              "\n",
              "    .colab-df-convert {\n",
              "      background-color: #E8F0FE;\n",
              "      border: none;\n",
              "      border-radius: 50%;\n",
              "      cursor: pointer;\n",
              "      display: none;\n",
              "      fill: #1967D2;\n",
              "      height: 32px;\n",
              "      padding: 0 0 0 0;\n",
              "      width: 32px;\n",
              "    }\n",
              "\n",
              "    .colab-df-convert:hover {\n",
              "      background-color: #E2EBFA;\n",
              "      box-shadow: 0px 1px 2px rgba(60, 64, 67, 0.3), 0px 1px 3px 1px rgba(60, 64, 67, 0.15);\n",
              "      fill: #174EA6;\n",
              "    }\n",
              "\n",
              "    [theme=dark] .colab-df-convert {\n",
              "      background-color: #3B4455;\n",
              "      fill: #D2E3FC;\n",
              "    }\n",
              "\n",
              "    [theme=dark] .colab-df-convert:hover {\n",
              "      background-color: #434B5C;\n",
              "      box-shadow: 0px 1px 3px 1px rgba(0, 0, 0, 0.15);\n",
              "      filter: drop-shadow(0px 1px 2px rgba(0, 0, 0, 0.3));\n",
              "      fill: #FFFFFF;\n",
              "    }\n",
              "  </style>\n",
              "\n",
              "      <script>\n",
              "        const buttonEl =\n",
              "          document.querySelector('#df-28629241-4ae1-4a45-bdb9-a6a9a224ccbd button.colab-df-convert');\n",
              "        buttonEl.style.display =\n",
              "          google.colab.kernel.accessAllowed ? 'block' : 'none';\n",
              "\n",
              "        async function convertToInteractive(key) {\n",
              "          const element = document.querySelector('#df-28629241-4ae1-4a45-bdb9-a6a9a224ccbd');\n",
              "          const dataTable =\n",
              "            await google.colab.kernel.invokeFunction('convertToInteractive',\n",
              "                                                     [key], {});\n",
              "          if (!dataTable) return;\n",
              "\n",
              "          const docLinkHtml = 'Like what you see? Visit the ' +\n",
              "            '<a target=\"_blank\" href=https://colab.research.google.com/notebooks/data_table.ipynb>data table notebook</a>'\n",
              "            + ' to learn more about interactive tables.';\n",
              "          element.innerHTML = '';\n",
              "          dataTable['output_type'] = 'display_data';\n",
              "          await google.colab.output.renderOutput(dataTable, element);\n",
              "          const docLink = document.createElement('div');\n",
              "          docLink.innerHTML = docLinkHtml;\n",
              "          element.appendChild(docLink);\n",
              "        }\n",
              "      </script>\n",
              "    </div>\n",
              "  </div>\n",
              "  "
            ]
          },
          "metadata": {},
          "execution_count": 35
        }
      ]
    },
    {
      "cell_type": "code",
      "source": [
        "df.tail()"
      ],
      "metadata": {
        "colab": {
          "base_uri": "https://localhost:8080/",
          "height": 739
        },
        "id": "yca7L-jSk1fW",
        "outputId": "d4c3e206-1acf-4640-82fb-926d63010f38"
      },
      "execution_count": 37,
      "outputs": [
        {
          "output_type": "execute_result",
          "data": {
            "text/plain": [
              "                                                 title             desc  \\\n",
              "549  Wisconsin Governor Pledges To Put Marijuana Le...  bookmark_border   \n",
              "550  Here's what you need to know about Tuesday's t...  bookmark_border   \n",
              "551  Wisconsin gun deer hunting season opening date...  bookmark_border   \n",
              "552  NBC Dateline: What happened to Wisconsin pharm...  bookmark_border   \n",
              "553  Fall colors in Wisconsin – when to see the pea...  bookmark_border   \n",
              "\n",
              "       date datetime                                               link  \\\n",
              "549  Nov 10      NaT  news.google.com/./articles/CBMilgFodHRwczovL3d...   \n",
              "550   Nov 7      NaT  news.google.com/./articles/CBMiemh0dHBzOi8vd3d...   \n",
              "551   Nov 6      NaT  news.google.com/./articles/CBMipQFodHRwczovL3d...   \n",
              "552  Nov 10      NaT  news.google.com/./articles/CBMiWGh0dHBzOi8vd3d...   \n",
              "553  Oct 12      NaT  news.google.com/./articles/CBMicWh0dHBzOi8vd3d...   \n",
              "\n",
              "                                                   img media  site  \n",
              "549  https://lh3.googleusercontent.com/proxy/WtrDPA...  None  None  \n",
              "550  https://lh3.googleusercontent.com/proxy/kwMbqB...  None  None  \n",
              "551  https://lh3.googleusercontent.com/proxy/jce2uF...  None  None  \n",
              "552  https://lh3.googleusercontent.com/proxy/ovjqzV...  None  None  \n",
              "553  https://lh3.googleusercontent.com/proxy/sevtjt...  None  None  "
            ],
            "text/html": [
              "\n",
              "  <div id=\"df-29249ea4-9d9c-48ce-951c-df281297be6b\">\n",
              "    <div class=\"colab-df-container\">\n",
              "      <div>\n",
              "<style scoped>\n",
              "    .dataframe tbody tr th:only-of-type {\n",
              "        vertical-align: middle;\n",
              "    }\n",
              "\n",
              "    .dataframe tbody tr th {\n",
              "        vertical-align: top;\n",
              "    }\n",
              "\n",
              "    .dataframe thead th {\n",
              "        text-align: right;\n",
              "    }\n",
              "</style>\n",
              "<table border=\"1\" class=\"dataframe\">\n",
              "  <thead>\n",
              "    <tr style=\"text-align: right;\">\n",
              "      <th></th>\n",
              "      <th>title</th>\n",
              "      <th>desc</th>\n",
              "      <th>date</th>\n",
              "      <th>datetime</th>\n",
              "      <th>link</th>\n",
              "      <th>img</th>\n",
              "      <th>media</th>\n",
              "      <th>site</th>\n",
              "    </tr>\n",
              "  </thead>\n",
              "  <tbody>\n",
              "    <tr>\n",
              "      <th>549</th>\n",
              "      <td>Wisconsin Governor Pledges To Put Marijuana Le...</td>\n",
              "      <td>bookmark_border</td>\n",
              "      <td>Nov 10</td>\n",
              "      <td>NaT</td>\n",
              "      <td>news.google.com/./articles/CBMilgFodHRwczovL3d...</td>\n",
              "      <td>https://lh3.googleusercontent.com/proxy/WtrDPA...</td>\n",
              "      <td>None</td>\n",
              "      <td>None</td>\n",
              "    </tr>\n",
              "    <tr>\n",
              "      <th>550</th>\n",
              "      <td>Here's what you need to know about Tuesday's t...</td>\n",
              "      <td>bookmark_border</td>\n",
              "      <td>Nov 7</td>\n",
              "      <td>NaT</td>\n",
              "      <td>news.google.com/./articles/CBMiemh0dHBzOi8vd3d...</td>\n",
              "      <td>https://lh3.googleusercontent.com/proxy/kwMbqB...</td>\n",
              "      <td>None</td>\n",
              "      <td>None</td>\n",
              "    </tr>\n",
              "    <tr>\n",
              "      <th>551</th>\n",
              "      <td>Wisconsin gun deer hunting season opening date...</td>\n",
              "      <td>bookmark_border</td>\n",
              "      <td>Nov 6</td>\n",
              "      <td>NaT</td>\n",
              "      <td>news.google.com/./articles/CBMipQFodHRwczovL3d...</td>\n",
              "      <td>https://lh3.googleusercontent.com/proxy/jce2uF...</td>\n",
              "      <td>None</td>\n",
              "      <td>None</td>\n",
              "    </tr>\n",
              "    <tr>\n",
              "      <th>552</th>\n",
              "      <td>NBC Dateline: What happened to Wisconsin pharm...</td>\n",
              "      <td>bookmark_border</td>\n",
              "      <td>Nov 10</td>\n",
              "      <td>NaT</td>\n",
              "      <td>news.google.com/./articles/CBMiWGh0dHBzOi8vd3d...</td>\n",
              "      <td>https://lh3.googleusercontent.com/proxy/ovjqzV...</td>\n",
              "      <td>None</td>\n",
              "      <td>None</td>\n",
              "    </tr>\n",
              "    <tr>\n",
              "      <th>553</th>\n",
              "      <td>Fall colors in Wisconsin – when to see the pea...</td>\n",
              "      <td>bookmark_border</td>\n",
              "      <td>Oct 12</td>\n",
              "      <td>NaT</td>\n",
              "      <td>news.google.com/./articles/CBMicWh0dHBzOi8vd3d...</td>\n",
              "      <td>https://lh3.googleusercontent.com/proxy/sevtjt...</td>\n",
              "      <td>None</td>\n",
              "      <td>None</td>\n",
              "    </tr>\n",
              "  </tbody>\n",
              "</table>\n",
              "</div>\n",
              "      <button class=\"colab-df-convert\" onclick=\"convertToInteractive('df-29249ea4-9d9c-48ce-951c-df281297be6b')\"\n",
              "              title=\"Convert this dataframe to an interactive table.\"\n",
              "              style=\"display:none;\">\n",
              "        \n",
              "  <svg xmlns=\"http://www.w3.org/2000/svg\" height=\"24px\"viewBox=\"0 0 24 24\"\n",
              "       width=\"24px\">\n",
              "    <path d=\"M0 0h24v24H0V0z\" fill=\"none\"/>\n",
              "    <path d=\"M18.56 5.44l.94 2.06.94-2.06 2.06-.94-2.06-.94-.94-2.06-.94 2.06-2.06.94zm-11 1L8.5 8.5l.94-2.06 2.06-.94-2.06-.94L8.5 2.5l-.94 2.06-2.06.94zm10 10l.94 2.06.94-2.06 2.06-.94-2.06-.94-.94-2.06-.94 2.06-2.06.94z\"/><path d=\"M17.41 7.96l-1.37-1.37c-.4-.4-.92-.59-1.43-.59-.52 0-1.04.2-1.43.59L10.3 9.45l-7.72 7.72c-.78.78-.78 2.05 0 2.83L4 21.41c.39.39.9.59 1.41.59.51 0 1.02-.2 1.41-.59l7.78-7.78 2.81-2.81c.8-.78.8-2.07 0-2.86zM5.41 20L4 18.59l7.72-7.72 1.47 1.35L5.41 20z\"/>\n",
              "  </svg>\n",
              "      </button>\n",
              "      \n",
              "  <style>\n",
              "    .colab-df-container {\n",
              "      display:flex;\n",
              "      flex-wrap:wrap;\n",
              "      gap: 12px;\n",
              "    }\n",
              "\n",
              "    .colab-df-convert {\n",
              "      background-color: #E8F0FE;\n",
              "      border: none;\n",
              "      border-radius: 50%;\n",
              "      cursor: pointer;\n",
              "      display: none;\n",
              "      fill: #1967D2;\n",
              "      height: 32px;\n",
              "      padding: 0 0 0 0;\n",
              "      width: 32px;\n",
              "    }\n",
              "\n",
              "    .colab-df-convert:hover {\n",
              "      background-color: #E2EBFA;\n",
              "      box-shadow: 0px 1px 2px rgba(60, 64, 67, 0.3), 0px 1px 3px 1px rgba(60, 64, 67, 0.15);\n",
              "      fill: #174EA6;\n",
              "    }\n",
              "\n",
              "    [theme=dark] .colab-df-convert {\n",
              "      background-color: #3B4455;\n",
              "      fill: #D2E3FC;\n",
              "    }\n",
              "\n",
              "    [theme=dark] .colab-df-convert:hover {\n",
              "      background-color: #434B5C;\n",
              "      box-shadow: 0px 1px 3px 1px rgba(0, 0, 0, 0.15);\n",
              "      filter: drop-shadow(0px 1px 2px rgba(0, 0, 0, 0.3));\n",
              "      fill: #FFFFFF;\n",
              "    }\n",
              "  </style>\n",
              "\n",
              "      <script>\n",
              "        const buttonEl =\n",
              "          document.querySelector('#df-29249ea4-9d9c-48ce-951c-df281297be6b button.colab-df-convert');\n",
              "        buttonEl.style.display =\n",
              "          google.colab.kernel.accessAllowed ? 'block' : 'none';\n",
              "\n",
              "        async function convertToInteractive(key) {\n",
              "          const element = document.querySelector('#df-29249ea4-9d9c-48ce-951c-df281297be6b');\n",
              "          const dataTable =\n",
              "            await google.colab.kernel.invokeFunction('convertToInteractive',\n",
              "                                                     [key], {});\n",
              "          if (!dataTable) return;\n",
              "\n",
              "          const docLinkHtml = 'Like what you see? Visit the ' +\n",
              "            '<a target=\"_blank\" href=https://colab.research.google.com/notebooks/data_table.ipynb>data table notebook</a>'\n",
              "            + ' to learn more about interactive tables.';\n",
              "          element.innerHTML = '';\n",
              "          dataTable['output_type'] = 'display_data';\n",
              "          await google.colab.output.renderOutput(dataTable, element);\n",
              "          const docLink = document.createElement('div');\n",
              "          docLink.innerHTML = docLinkHtml;\n",
              "          element.appendChild(docLink);\n",
              "        }\n",
              "      </script>\n",
              "    </div>\n",
              "  </div>\n",
              "  "
            ]
          },
          "metadata": {},
          "execution_count": 37
        }
      ]
    },
    {
      "cell_type": "code",
      "source": [
        "df.to_csv(\"google_news.csv\")"
      ],
      "metadata": {
        "id": "-Npu2fhpphNi"
      },
      "execution_count": 53,
      "outputs": []
    },
    {
      "cell_type": "markdown",
      "source": [
        "## gnews pypi package"
      ],
      "metadata": {
        "id": "gcZ5yLcplUHG"
      }
    },
    {
      "cell_type": "code",
      "source": [
        "! pip install gnews\n",
        "from gnews import GNews\n",
        "google_news = GNews()\n",
        "wisconsin_news = google_news.get_news('Wisconsin')\n",
        "print(wisconsin_news[0])"
      ],
      "metadata": {
        "colab": {
          "base_uri": "https://localhost:8080/"
        },
        "id": "EE5SQTfolW4l",
        "outputId": "2aa42cca-231f-4ea9-e46b-534afdd9952e"
      },
      "execution_count": 39,
      "outputs": [
        {
          "output_type": "stream",
          "name": "stdout",
          "text": [
            "Looking in indexes: https://pypi.org/simple, https://us-python.pkg.dev/colab-wheels/public/simple/\n",
            "Requirement already satisfied: gnews in /usr/local/lib/python3.8/dist-packages (0.2.7)\n",
            "Requirement already satisfied: feedparser~=6.0.2 in /usr/local/lib/python3.8/dist-packages (from gnews) (6.0.10)\n",
            "Requirement already satisfied: bs4~=0.0.1 in /usr/local/lib/python3.8/dist-packages (from gnews) (0.0.1)\n",
            "Requirement already satisfied: requests==2.26.0 in /usr/local/lib/python3.8/dist-packages (from gnews) (2.26.0)\n",
            "Requirement already satisfied: python-dotenv~=0.19.0 in /usr/local/lib/python3.8/dist-packages (from gnews) (0.19.2)\n",
            "Requirement already satisfied: beautifulsoup4~=4.9.3 in /usr/local/lib/python3.8/dist-packages (from gnews) (4.9.3)\n",
            "Requirement already satisfied: pymongo~=3.12.0 in /usr/local/lib/python3.8/dist-packages (from gnews) (3.12.3)\n",
            "Requirement already satisfied: dnspython~=1.16.0 in /usr/local/lib/python3.8/dist-packages (from gnews) (1.16.0)\n",
            "Requirement already satisfied: charset-normalizer~=2.0.0 in /usr/local/lib/python3.8/dist-packages (from requests==2.26.0->gnews) (2.0.12)\n",
            "Requirement already satisfied: urllib3<1.27,>=1.21.1 in /usr/local/lib/python3.8/dist-packages (from requests==2.26.0->gnews) (1.24.3)\n",
            "Requirement already satisfied: certifi>=2017.4.17 in /usr/local/lib/python3.8/dist-packages (from requests==2.26.0->gnews) (2022.9.24)\n",
            "Requirement already satisfied: idna<4,>=2.5 in /usr/local/lib/python3.8/dist-packages (from requests==2.26.0->gnews) (2.10)\n",
            "Requirement already satisfied: soupsieve>1.2 in /usr/local/lib/python3.8/dist-packages (from beautifulsoup4~=4.9.3->gnews) (2.3.2.post1)\n",
            "Requirement already satisfied: sgmllib3k in /usr/local/lib/python3.8/dist-packages (from feedparser~=6.0.2->gnews) (1.0.0)\n",
            "{'title': 'Will ruling end decade of uncertainty for Wisconsin solar? - E&E News', 'description': 'Will ruling end decade of uncertainty for Wisconsin solar?  E&E News', 'published date': 'Fri, 02 Dec 2022 11:56:00 GMT', 'url': 'https://www.eenews.net/articles/will-ruling-end-decade-of-uncertainty-for-wisconsin-solar/', 'publisher': {'href': 'https://www.eenews.net', 'title': 'E&E News'}}\n"
          ]
        }
      ]
    },
    {
      "cell_type": "code",
      "source": [
        "len(wisconsin_news)"
      ],
      "metadata": {
        "colab": {
          "base_uri": "https://localhost:8080/"
        },
        "id": "5gLggJ96ly_p",
        "outputId": "ceea5959-b6a5-48cf-9ed1-10e82fbcf4c5"
      },
      "execution_count": 40,
      "outputs": [
        {
          "output_type": "execute_result",
          "data": {
            "text/plain": [
              "100"
            ]
          },
          "metadata": {},
          "execution_count": 40
        }
      ]
    },
    {
      "cell_type": "markdown",
      "source": [
        "## GoogleNews pypi package\n",
        "\n",
        "https://pypi.org/project/GoogleNews/"
      ],
      "metadata": {
        "id": "60RmQ7bnsjYU"
      }
    },
    {
      "cell_type": "code",
      "source": [
        "! pip install GoogleNews\n",
        "from GoogleNews import GoogleNews"
      ],
      "metadata": {
        "colab": {
          "base_uri": "https://localhost:8080/"
        },
        "id": "32nFcxuirbn_",
        "outputId": "c0a9001e-48c6-48e6-8840-5704a18e8d02"
      },
      "execution_count": 55,
      "outputs": [
        {
          "output_type": "stream",
          "name": "stdout",
          "text": [
            "Looking in indexes: https://pypi.org/simple, https://us-python.pkg.dev/colab-wheels/public/simple/\n",
            "Requirement already satisfied: GoogleNews in /usr/local/lib/python3.8/dist-packages (1.6.5)\n",
            "Requirement already satisfied: dateparser in /usr/local/lib/python3.8/dist-packages (from GoogleNews) (1.1.4)\n",
            "Requirement already satisfied: beautifulsoup4 in /usr/local/lib/python3.8/dist-packages (from GoogleNews) (4.9.3)\n",
            "Requirement already satisfied: python-dateutil in /usr/local/lib/python3.8/dist-packages (from GoogleNews) (2.8.2)\n",
            "Requirement already satisfied: soupsieve>1.2 in /usr/local/lib/python3.8/dist-packages (from beautifulsoup4->GoogleNews) (2.3.2.post1)\n",
            "Requirement already satisfied: tzlocal in /usr/local/lib/python3.8/dist-packages (from dateparser->GoogleNews) (1.5.1)\n",
            "Requirement already satisfied: regex!=2019.02.19,!=2021.8.27 in /usr/local/lib/python3.8/dist-packages (from dateparser->GoogleNews) (2022.6.2)\n",
            "Requirement already satisfied: pytz in /usr/local/lib/python3.8/dist-packages (from dateparser->GoogleNews) (2022.6)\n",
            "Requirement already satisfied: six>=1.5 in /usr/local/lib/python3.8/dist-packages (from python-dateutil->GoogleNews) (1.15.0)\n"
          ]
        },
        {
          "output_type": "execute_result",
          "data": {
            "text/plain": [
              "93"
            ]
          },
          "metadata": {},
          "execution_count": 55
        }
      ]
    },
    {
      "cell_type": "code",
      "source": [
        "! pip install GoogleNews\n",
        "googlenews = GoogleNews()\n",
        "googlenews = GoogleNews(start='01/01/2017',end='02/28/2017')\n",
        "googlenews.get_news('Wisconsin')\n",
        "len(googlenews.results())"
      ],
      "metadata": {
        "colab": {
          "base_uri": "https://localhost:8080/"
        },
        "id": "uSs5EujVr9s-",
        "outputId": "55ef3959-e8f6-4af2-e6c0-74b46f579ea9"
      },
      "execution_count": 56,
      "outputs": [
        {
          "output_type": "execute_result",
          "data": {
            "text/plain": [
              "93"
            ]
          },
          "metadata": {},
          "execution_count": 56
        }
      ]
    },
    {
      "cell_type": "code",
      "source": [
        "type(googlenews.results())"
      ],
      "metadata": {
        "colab": {
          "base_uri": "https://localhost:8080/"
        },
        "id": "7uw6iLVgsNnx",
        "outputId": "402794ce-187d-4b57-eae2-3e5bc31d950c"
      },
      "execution_count": 57,
      "outputs": [
        {
          "output_type": "execute_result",
          "data": {
            "text/plain": [
              "list"
            ]
          },
          "metadata": {},
          "execution_count": 57
        }
      ]
    },
    {
      "cell_type": "code",
      "source": [
        "googlenews.results()[-3:]"
      ],
      "metadata": {
        "colab": {
          "base_uri": "https://localhost:8080/"
        },
        "id": "GybXnlcZsRel",
        "outputId": "1fa4f9de-5698-45a8-d0f4-dfe3cbc3e1e9"
      },
      "execution_count": 59,
      "outputs": [
        {
          "output_type": "execute_result",
          "data": {
            "text/plain": [
              "[{'title': \"Here's what you need to know about Tuesday's total lunar eclipse in Southeast Wisconsin\",\n",
              "  'desc': 'bookmark_border',\n",
              "  'date': 'Nov 7',\n",
              "  'datetime': nan,\n",
              "  'link': 'news.google.com/./articles/CBMiemh0dHBzOi8vd3d3LnRtajQuY29tL25ld3MvbG9jYWwtbmV3cy9oZXJlcy13aGF0LXlvdS1uZWVkLXRvLWtub3ctYWJvdXQtdHVlc2RheXMtdG90YWwtbHVuYXItZWNsaXBzZS1pbi1zb3V0aGVhc3Qtd2lzY29uc2lu0gGEAWh0dHBzOi8vd3d3LnRtajQuY29tL25ld3MvbG9jYWwtbmV3cy9oZXJlcy13aGF0LXlvdS1uZWVkLXRvLWtub3ctYWJvdXQtdHVlc2RheXMtdG90YWwtbHVuYXItZWNsaXBzZS1pbi1zb3V0aGVhc3Qtd2lzY29uc2luP19hbXA9dHJ1ZQ?hl=en-US&gl=US&ceid=US%3Aen',\n",
              "  'img': 'https://lh3.googleusercontent.com/proxy/kwMbqBRL8HHBAbcMa6MT00iE_NU-GTgP1v633pI6dHsotp9b7n2MxxOdEE2GTgeytB8N3Y62-Rdv9vUfSqkJPHUbgOtfmVsg8cRo2SbcDNdsWrysTHmKIBW0GUCxfGJ-0R9P3_8OihllI4Se5ZtjuF62ZFxhimgWSUPipoHQcwymJ2oDWxrrVAVT0DmkSS-UNuVfIdU8i_rAk5yWiBL5C2kjVvVwM9YYVR61jgcg3JIOMmWJn7db01G5n1zUt_Nsc-0HGwOb_55DP4S6q1jXvl2WpwqIUk6DaiKKBC_giUflzO4ADxOTddY2UTaFYJxedyONF_ELyjfxbORWK5Q8aC28wOe2vI0LMFc0_FBe_muI0xc=s0-w100-h100-dcpQSMrjkG',\n",
              "  'media': None,\n",
              "  'site': None},\n",
              " {'title': 'Wisconsin gun deer hunting season opening date, regulations, licenses',\n",
              "  'desc': 'bookmark_border',\n",
              "  'date': 'Nov 6',\n",
              "  'datetime': nan,\n",
              "  'link': 'news.google.com/./articles/CBMipQFodHRwczovL3d3dy5qc29ubGluZS5jb20vc3Rvcnkvc3BvcnRzL2NvbHVtbmlzdHMvcGF1bC1zbWl0aC8yMDIyLzExLzA2L3dpc2NvbnNpbi1ndW4tZGVlci1odW50aW5nLW9wZW5pbmctZGF0ZS1yZWd1bGF0aW9ucy1saWNlbnNlcy1iYWl0LXNhZmV0eS1yZWdpc3Rlci82OTYyMTg0ODAwNy_SAQA?hl=en-US&gl=US&ceid=US%3Aen',\n",
              "  'img': 'https://lh3.googleusercontent.com/proxy/jce2uFq1sVGI9eA-zelR9GJxKtgZB5Lnbi5vTLdkgGJDNpplkDr8vcCCKe9wu72wzuNIGDlVlQ_QJmtyky2DkaN02p9QmLC51VcfC42LZxvO6q7cTDGcr26oJ1QqbXj6tuhFFHi9YhdpB-Ljv78E_lEbh3VcuFsa-ofTVUyfaInRdHg=s0-w100-h100-dcDWiah6oI',\n",
              "  'media': None,\n",
              "  'site': None},\n",
              " {'title': 'The Country Christmas Trail In Wisconsin Is Positively Enchanting',\n",
              "  'desc': 'bookmark_border',\n",
              "  'date': 'Nov 10',\n",
              "  'datetime': nan,\n",
              "  'link': 'news.google.com/./articles/CBMiPWh0dHBzOi8vd3d3Lm9ubHlpbnlvdXJzdGF0ZS5jb20vd2lzY29uc2luL2NocmlzdG1hcy10cmFpbC13aS_SAUFodHRwczovL3d3dy5vbmx5aW55b3Vyc3RhdGUuY29tL3dpc2NvbnNpbi9jaHJpc3RtYXMtdHJhaWwtd2kvYW1wLw?hl=en-US&gl=US&ceid=US%3Aen',\n",
              "  'img': 'https://lh3.googleusercontent.com/proxy/X_afqZ9tqlHmsB6jEncPLR5X0bny0Q9y34I-p3hC-qfaW1YJ9PFadcLA-1gym4S-4xZNvOOrsDR2NXKan0uNBxI7OsnxEeR62s3taszP1Xk5DH9c05bl2-Uel7x_Uw=s0-w100-h100-dcgQKFbdUC',\n",
              "  'media': None,\n",
              "  'site': None}]"
            ]
          },
          "metadata": {},
          "execution_count": 59
        }
      ]
    },
    {
      "cell_type": "code",
      "source": [
        "googlenews.clear()\n",
        "googlenews.set_time_range('02/01/2017','02/28/2017')\n",
        "googlenews.get_news('Wisconsin')\n",
        "len(googlenews.results())"
      ],
      "metadata": {
        "colab": {
          "base_uri": "https://localhost:8080/"
        },
        "id": "0RbEUjaSsclF",
        "outputId": "2e6c6475-74df-4369-e83f-94b77938d16e"
      },
      "execution_count": 60,
      "outputs": [
        {
          "output_type": "execute_result",
          "data": {
            "text/plain": [
              "94"
            ]
          },
          "metadata": {},
          "execution_count": 60
        }
      ]
    },
    {
      "cell_type": "code",
      "source": [
        "googlenews.clear()\n",
        "# googlenews.get_page(2)\n",
        "# googlenews.get_news('Wisconsin')\n",
        "googlenews.search('Wisconsin')\n",
        "len(googlenews.results())"
      ],
      "metadata": {
        "colab": {
          "base_uri": "https://localhost:8080/"
        },
        "id": "a7VsxUaws-1z",
        "outputId": "5ace0aab-25ed-44b3-d3b9-645ffe4cbd9a"
      },
      "execution_count": 65,
      "outputs": [
        {
          "output_type": "execute_result",
          "data": {
            "text/plain": [
              "10"
            ]
          },
          "metadata": {},
          "execution_count": 65
        }
      ]
    },
    {
      "cell_type": "code",
      "source": [
        "googlenews.clear()\n",
        "googlenews.search('Wisconsin')\n",
        "\n",
        "for i in range(10):\n",
        "  googlenews.clear()\n",
        "  \n",
        "  googlenews.get_page(i)\n",
        "  result = googlenews.results()\n",
        "  # first_result = result[0]\n",
        "  # print(i, len(result), first_result[\"title\"], first_result[\"date\"])\n",
        "  print(len(result))"
      ],
      "metadata": {
        "colab": {
          "base_uri": "https://localhost:8080/"
        },
        "id": "5y6YCLCEtbVR",
        "outputId": "08d2505f-b037-490b-ab5f-b1edfec08c17"
      },
      "execution_count": 92,
      "outputs": [
        {
          "output_type": "stream",
          "name": "stdout",
          "text": [
            "HTTP Error 429: Too Many Requests\n",
            "HTTP Error 429: Too Many Requests\n",
            "0\n",
            "HTTP Error 429: Too Many Requests\n",
            "0\n",
            "HTTP Error 429: Too Many Requests\n",
            "0\n",
            "HTTP Error 429: Too Many Requests\n",
            "0\n",
            "HTTP Error 429: Too Many Requests\n",
            "0\n",
            "HTTP Error 429: Too Many Requests\n",
            "0\n",
            "HTTP Error 429: Too Many Requests\n",
            "0\n",
            "HTTP Error 429: Too Many Requests\n",
            "0\n",
            "HTTP Error 429: Too Many Requests\n",
            "0\n",
            "HTTP Error 429: Too Many Requests\n",
            "0\n"
          ]
        }
      ]
    },
    {
      "cell_type": "code",
      "source": [
        "from GoogleNews import GoogleNews\n",
        "# googlenews = GoogleNews()\n",
        "# googlenews = GoogleNews(lang='en', region='US')\n",
        "googlenews = GoogleNews(start='01/01/2017',end='11/30/2022')\n",
        "# googlenews = GoogleNews(encode='utf-8')\n",
        "\n",
        "googlenews.search('Wisconsin')\n",
        "for i in range(1, 3):\n",
        "  result = googlenews.page_at(i)\n",
        "  first_result = result[0]\n",
        "  print(len(result), first_result[\"title\"], first_result[\"date\"])"
      ],
      "metadata": {
        "colab": {
          "base_uri": "https://localhost:8080/"
        },
        "id": "LkGrRa2WuNTY",
        "outputId": "12fe9aef-e8cb-4dbd-8919-66bba121074a"
      },
      "execution_count": 90,
      "outputs": [
        {
          "output_type": "stream",
          "name": "stdout",
          "text": [
            "HTTP Error 429: Too Many Requests\n",
            "HTTP Error 429: Too Many Requests\n",
            "0\n"
          ]
        }
      ]
    },
    {
      "cell_type": "code",
      "source": [
        "type(result)"
      ],
      "metadata": {
        "colab": {
          "base_uri": "https://localhost:8080/"
        },
        "id": "LZD1aS4Au3Ob",
        "outputId": "35b3c297-05c8-4c28-aad5-c7fcbb2c419d"
      },
      "execution_count": 80,
      "outputs": [
        {
          "output_type": "execute_result",
          "data": {
            "text/plain": [
              "list"
            ]
          },
          "metadata": {},
          "execution_count": 80
        }
      ]
    },
    {
      "cell_type": "code",
      "source": [
        "result[0]"
      ],
      "metadata": {
        "colab": {
          "base_uri": "https://localhost:8080/"
        },
        "id": "TaaBBsx8u6Uv",
        "outputId": "dc3e1e6a-3f85-4158-950e-82dfa0e192f0"
      },
      "execution_count": 81,
      "outputs": [
        {
          "output_type": "execute_result",
          "data": {
            "text/plain": [
              "{'title': 'Badgers get in New York state of mind with QB Jack Coan',\n",
              " 'media': 'ESPN',\n",
              " 'date': 'Feb 2, 2017',\n",
              " 'datetime': datetime.datetime(2017, 2, 2, 0, 0),\n",
              " 'desc': \"Coan is now on Wisconsin's campus as an early enrollee for the Badgers' \\n2017 recruiting class. He'll enter spring practice as one of three \\nscholarship...\",\n",
              " 'link': 'https://www.espn.com/blog/bigten/post/_/id/141147/wisconsin-qb-jack-coan-helps-open-doors-for-long-island-football-recruits',\n",
              " 'img': 'https://encrypted-tbn2.gstatic.com/faviconV2?url=https://www.espn.com&client=STREAM&size=16&type=FAVICON&fallback_opts=TYPE,SIZE,URL'}"
            ]
          },
          "metadata": {},
          "execution_count": 81
        }
      ]
    },
    {
      "cell_type": "markdown",
      "source": [
        "## Bloomberg API\n",
        "\n",
        "https://pypi.org/project/pdblp/"
      ],
      "metadata": {
        "id": "WJgB8xkZcJN3"
      }
    },
    {
      "cell_type": "code",
      "source": [],
      "metadata": {
        "id": "-Zim4j4fcQMI"
      },
      "execution_count": null,
      "outputs": []
    },
    {
      "cell_type": "markdown",
      "source": [
        "## New York Times API\n",
        "\n",
        "https://github.com/michadenheijer/pynytimes"
      ],
      "metadata": {
        "id": "Qk3qL90XeCUf"
      }
    },
    {
      "cell_type": "code",
      "source": [
        "! pip install --upgrade pynytimes\n",
        "from pynytimes import NYTAPI\n",
        "nyt = NYTAPI(\"Your API key\", parse_dates=True)\n",
        "# requires API key"
      ],
      "metadata": {
        "id": "PSGtXQi_exUX"
      },
      "execution_count": null,
      "outputs": []
    },
    {
      "cell_type": "markdown",
      "source": [
        "## News API\n",
        "\n",
        "https://newsapi.org/"
      ],
      "metadata": {
        "id": "oIBj-_wfc8UV"
      }
    },
    {
      "cell_type": "code",
      "source": [
        "import requests\n",
        "\n",
        "apiKey = input()\n",
        "url = \"https://newsapi.org/v2/everything?q=Wisconsin&from=2017-01-01&sortBy=publishedAt&apiKey=\"+apiKey\n",
        "r = requests.get(url)\n",
        "print(r)"
      ],
      "metadata": {
        "id": "gv5qcSk6gItH"
      },
      "execution_count": null,
      "outputs": []
    },
    {
      "cell_type": "code",
      "source": [
        "news = r.json()\n",
        "news"
      ],
      "metadata": {
        "colab": {
          "base_uri": "https://localhost:8080/"
        },
        "id": "fVStu7JxhuF8",
        "outputId": "f809a798-79a6-433a-d3cd-2a4264329523"
      },
      "execution_count": 29,
      "outputs": [
        {
          "output_type": "execute_result",
          "data": {
            "text/plain": [
              "{'status': 'ok',\n",
              " 'totalResults': 1344,\n",
              " 'articles': [{'source': {'id': 'engadget', 'name': 'Engadget'},\n",
              "   'author': 'Mat Smith',\n",
              "   'title': 'The Morning After: Valve is giving away over a hundred Steam Decks',\n",
              "   'description': 'Valve’s portable gaming PC handheld is a revelation for some, but it’s also expensive. So, you could try your luck getting a free one. To coincide with this year’s Game Awards, Valve is making its own Steam TV coverage of the show more enticing by giving away…',\n",
              "   'url': 'https://www.engadget.com/the-morning-after-valve-is-giving-away-over-a-hundred-steam-decks-121520197.html',\n",
              "   'urlToImage': 'https://s.yimg.com/os/creatr-uploaded-images/2022-11/24519d20-70ea-11ed-99cf-7cfad8e52522',\n",
              "   'publishedAt': '2022-12-02T12:15:20Z',\n",
              "   'content': 'Valves portable gaming PC handheld is a revelation for some, but its also expensive. So, you could try your luck getting a free one. To coincide with this years Game Awards, Valve is making its own S… [+3605 chars]'},\n",
              "  {'source': {'id': 'reuters', 'name': 'Reuters'},\n",
              "   'author': None,\n",
              "   'title': 'Nokia smartphone maker HMD Global files EU antitrust complaint against VoiceAge EVS - Reuters',\n",
              "   'description': \"HMD Global Oy, the exclusive licensee of Nokia-branded smartphones, has filed a complaint to EU antitrust regulators against VoiceAge EVS's patent practices and royalty rates.\",\n",
              "   'url': 'https://www.reuters.com/business/media-telecom/nokia-smartphone-maker-hmd-global-files-eu-antitrust-complaint-against-voiceage-2022-12-02/',\n",
              "   'urlToImage': 'https://www.reuters.com/resizer/Yx8EFVyrV_N3sR2LzScIl7NWMQw=/1200x628/smart/filters:quality(80)/cloudfront-us-east-2.images.arcpublishing.com/reuters/7RU4GFYK5NOBTHUKHL723H6GU4.jpg',\n",
              "   'publishedAt': '2022-12-02T12:15:00Z',\n",
              "   'content': \"BRUSSELS, Dec 2 (Reuters) - HMD Global Oy, the exclusive licensee of Nokia-branded smartphones, has filed a complaint to EU antitrust regulators against VoiceAge EVS's patent practices and royalty ra… [+1999 chars]\"},\n",
              "  {'source': {'id': None, 'name': 'The Guardian'},\n",
              "   'author': 'Guardian staff reporter',\n",
              "   'title': 'George & Tammy to A Spy Among Friends: the seven best shows to stream this week',\n",
              "   'description': 'Oscar winner Jessica Chastain plays Tammy Wynette in this larger-than-life country music drama, while Guy Pearce and Damian Lewis star in a hugely stylish spy dramaPick of the WeekGeorge & TammyMost vintage country stars lived lives worthy of the ripest ficti…',\n",
              "   'url': 'https://www.theguardian.com/tv-and-radio/2022/dec/02/george-and-tammy-to-slow-horses-the-seven-best-shows-to-stream-this-week',\n",
              "   'urlToImage': 'https://i.guim.co.uk/img/media/967f6a4ba4379db565b56a99f8b100dd9244d03b/355_0_2248_1349/master/2248.jpg?width=1200&height=630&quality=85&auto=format&fit=crop&overlay-align=bottom%2Cleft&overlay-width=100p&overlay-base64=L2ltZy9zdGF0aWMvb3ZlcmxheXMvdGctZGVmYXVsdC5wbmc&enable=upscale&s=86c16715cfa75d7490ecbe8fcc3f965b',\n",
              "   'publishedAt': '2022-12-02T07:00:08Z',\n",
              "   'content': 'Pick of the WeekGeorge &amp; TammyMost vintage country stars lived lives worthy of the ripest fictional melodrama. So it was with George Jones and Tammy Wynette, whose explosive relationship is broug… [+4988 chars]'},\n",
              "  {'source': {'id': None, 'name': 'The Guardian'},\n",
              "   'author': 'Hannah Jane Parkinson',\n",
              "   'title': 'Giant clitorises, sex parties and porn addiction: Cara Delevingne’s eye-opening journey to Planet Sex',\n",
              "   'description': 'Women lick salt off her thighs at an erotic gathering, she poignantly confesses her struggles with homophobia and is hugely funny throughout. The model is an absolute TV naturalFor a period in the early 2010s, it was impossible to turn a newspaper page or ope…',\n",
              "   'url': 'https://www.theguardian.com/tv-and-radio/2022/dec/02/giant-clitorises-sex-parties-and-porn-addiction-cara-delevingnes-eye-opening-journey-to-planet-sex',\n",
              "   'urlToImage': 'https://i.guim.co.uk/img/media/f971547c66216ba8f19488f79bf60dac68567efd/761_0_2762_1657/master/2762.jpg?width=1200&height=630&quality=85&auto=format&fit=crop&overlay-align=bottom%2Cleft&overlay-width=100p&overlay-base64=L2ltZy9zdGF0aWMvb3ZlcmxheXMvdGctZGVmYXVsdC5wbmc&enable=upscale&s=0486a70038e4c625018ba821d71c864a',\n",
              "   'publishedAt': '2022-12-02T10:28:35Z',\n",
              "   'content': 'For a period in the early 2010s, it was impossible to turn a newspaper page or open any form of social media without seeing the voluptuous eyebrows of Cara Delevingne and, beneath them, her tongue st… [+5715 chars]'},\n",
              "  {'source': {'id': None, 'name': 'The Guardian'},\n",
              "   'author': 'Coco Khan',\n",
              "   'title': 'Could we have one app for everything? We ask an expert',\n",
              "   'description': 'Super apps can revolutionise your life – but do you want to pay the price, wonders AI and innovation professor David ShrierAcross Asia, the trend for a single app that does everything – from deliveries to bookings to chatting – is spreading. Known as super ap…',\n",
              "   'url': 'https://www.theguardian.com/lifeandstyle/2022/dec/02/could-we-have-one-app-for-everything-we-ask-an-expert',\n",
              "   'urlToImage': 'https://i.guim.co.uk/img/media/d6f3ede5a0f72b2b17b4e01e39ff1df22d8f8566/20_0_2558_1535/master/2558.jpg?width=1200&height=630&quality=85&auto=format&fit=crop&overlay-align=bottom%2Cleft&overlay-width=100p&overlay-base64=L2ltZy9zdGF0aWMvb3ZlcmxheXMvdGctZGVmYXVsdC5wbmc&enable=upscale&s=b8575cf0453e8799027290f515327c34',\n",
              "   'publishedAt': '2022-12-02T15:00:19Z',\n",
              "   'content': 'Across Asia, the trend for a single app that does everything from deliveries to bookings to chatting is spreading. Known as super apps, they are rumoured to be the inspiration for Elon Musks plan for… [+3682 chars]'},\n",
              "  {'source': {'id': None, 'name': 'The Guardian'},\n",
              "   'author': 'Elle Hunt',\n",
              "   'title': 'Viva Magenta! What Pantone’s colour of the year tells us about 2023',\n",
              "   'description': 'The design company calls it an empowering shade that drives innovation – and its storied history suggests it might be rightIt exists between blue and red, warm and cool, to be found on a spectrum all its own. It is 150 years old yet still future-facing, at on…',\n",
              "   'url': 'https://www.theguardian.com/fashion/2022/dec/02/viva-magenta-what-pantones-colour-of-the-year-tells-us-about-2023',\n",
              "   'urlToImage': 'https://i.guim.co.uk/img/media/428ff0cd47617897205b7d4bf0814230086c8525/0_54_4500_2700/master/4500.jpg?width=1200&height=630&quality=85&auto=format&fit=crop&overlay-align=bottom%2Cleft&overlay-width=100p&overlay-base64=L2ltZy9zdGF0aWMvb3ZlcmxheXMvdGctZGVmYXVsdC5wbmc&enable=upscale&s=ed0fbf9eaf70633596a3236ed41890e1',\n",
              "   'publishedAt': '2022-12-02T00:01:01Z',\n",
              "   'content': 'It exists between blue and red, warm and cool, to be found on a spectrum all its own. It is 150 years old yet still future-facing, at once digital and primordial. It is to quote its creators brave, f… [+6108 chars]'},\n",
              "  {'source': {'id': None, 'name': 'The Guardian'},\n",
              "   'author': 'Gwilym Mumford',\n",
              "   'title': 'How vomiting became Hollywood’s favourite party trick',\n",
              "   'description': 'From Triangle of Sadness to Yellowjackets, no matter what you watch, everyone is being sick on screen – and it’s starting to make me queasy Continue reading...',\n",
              "   'url': 'https://www.theguardian.com/culture/2022/dec/02/the-guide-vomiting-in-tv-film',\n",
              "   'urlToImage': 'https://i.guim.co.uk/img/media/a0663697a26f9d2d68d24ed09d8effe857133b1c/456_0_4453_2674/master/4453.jpg?width=1200&height=630&quality=85&auto=format&fit=crop&overlay-align=bottom%2Cleft&overlay-width=100p&overlay-base64=L2ltZy9zdGF0aWMvb3ZlcmxheXMvdGctZGVmYXVsdC5wbmc&enable=upscale&s=1abcea620a6a28202bcde903aaa56f34',\n",
              "   'publishedAt': '2022-12-02T11:45:14Z',\n",
              "   'content': 'A small content warning before we press ahead: this newsletter, or at least its opening portion, contains a LOT of mentions of vomiting. So if youre emetophobic or trying to enjoy your lunch in peace… [+9929 chars]'},\n",
              "  {'source': {'id': None, 'name': 'The Guardian'},\n",
              "   'author': 'Ella Braidwood',\n",
              "   'title': '‘We bring something fresh’: the theatre companies exploding myths about disability',\n",
              "   'description': 'Not Your Circus Dog’s new show is a riotous upending of audiences’ preconceptions of disability and neurodivergence. It joins a swelling movement of similar collectives rewriting the stage rulebookIn late 2015, the performer Emma Selwyn was working in a call …',\n",
              "   'url': 'https://www.theguardian.com/stage/2022/dec/02/we-bring-something-fresh-the-theatre-companies-exploding-myths-about-disability',\n",
              "   'urlToImage': 'https://i.guim.co.uk/img/media/184761cfd3b9711ac4fc873b943d179e07179cd5/221_374_4584_2750/master/4584.jpg?width=1200&height=630&quality=85&auto=format&fit=crop&overlay-align=bottom%2Cleft&overlay-width=100p&overlay-base64=L2ltZy9zdGF0aWMvb3ZlcmxheXMvdGctZGVmYXVsdC5wbmc&enable=upscale&s=4d2a7e6a1a8746a00f3fede1b6b03cf6',\n",
              "   'publishedAt': '2022-12-02T14:00:18Z',\n",
              "   'content': 'In late 2015, the performer Emma Selwyn was working in a call centre. It was, she says, a steady job, if not a particularly fulfilling one. In fact, she had thoughts of quitting, tempted by the prosp… [+9019 chars]'},\n",
              "  {'source': {'id': None, 'name': 'MacRumors'},\n",
              "   'author': 'Joe Rossignol',\n",
              "   'title': 'New Apple Card Customers Can Get 5% Cashback on Apple Products This Month',\n",
              "   'description': 'Apple has announced that customers who open an Apple Card account between December 1 and December 25 are eligible for an increased 5% Daily Cash on Apple products purchased with the card between those dates at Apple Stores and on Apple.com.\\n\\n\\n\\n\\n\\nThe following…',\n",
              "   'url': 'https://www.macrumors.com/2022/12/02/apple-card-5-percent-daily-cash-promotion/',\n",
              "   'urlToImage': 'https://images.macrumors.com/t/-V0kgCBSPsSgCRJMoju8F05n0Y4=/1600x/article-new/2022/12/Apple-Card-5-Percent.jpeg',\n",
              "   'publishedAt': '2022-12-02T15:30:00Z',\n",
              "   'content': 'Apple has announced that customers who open an Apple Card account between December 1 and December 25 are eligible for an increased 5% Daily Cash on Apple products purchased with the card between thos… [+777 chars]'},\n",
              "  {'source': {'id': None, 'name': 'CNET'},\n",
              "   'author': 'Lisa Eadicicco',\n",
              "   'title': 'Samsung Galaxy S23: 3 Big Changes I Want to See - CNET',\n",
              "   'description': \"Commentary: I'm hoping to see Samsung improve basics like the camera, battery life and charging experience.\",\n",
              "   'url': 'https://www.cnet.com/tech/mobile/samsung-galaxy-s23-3-big-features-i-want-to-see/',\n",
              "   'urlToImage': 'https://www.cnet.com/a/img/resize/bd4293a925a7a2196b8bbc8b791a41cddd973dcc/hub/2022/02/22/3c78d10e-30f2-4a56-9def-60455e08bf53/samsung-galaxy-s22-and-s22-plus-and-s22-ultra-compared-002-copy.jpg?auto=webp&fit=crop&height=630&width=1200',\n",
              "   'publishedAt': '2022-12-02T12:00:53Z',\n",
              "   'content': \"The Galaxy S22 has an upgraded camera that's better at seeing in the dark and a fresh design compared with its predecessor. These are welcome improvements, but there's plenty of room for Samsung to f… [+6920 chars]\"},\n",
              "  {'source': {'id': None, 'name': 'MacRumors'},\n",
              "   'author': 'Hartley Charlton',\n",
              "   'title': 'Radical iMac Mod Shows How Apple Could Have Removed the Chin for an All-Screen Design',\n",
              "   'description': 'Technicians in China have developed an invasive modification to eliminate the 24-inch iMac\\'s \"chin,\" achieving an all-screen design.\\n\\n\\n\\n\\n\\nIo Technology, a group that makes hardware and chip-related modification and repair videos, posted a video that reveals s…',\n",
              "   'url': 'https://www.macrumors.com/2022/12/02/imac-mod-shows-how-apple-could-have-removed-chin/',\n",
              "   'urlToImage': 'https://images.macrumors.com/t/oHMBtrFKRFtv0Uy6iYID3xl6bm0=/1600x/article-new/2022/12/all-screen-imac-mod.jpg',\n",
              "   'publishedAt': '2022-12-02T15:08:20Z',\n",
              "   'content': 'Technicians in China have developed an arduous modification to eliminate the 24-inch iMac\\'s \"chin,\" achieving an all-screen design.\\r\\nIo Technology, a group that makes hardware and chip-related modifi… [+1833 chars]'},\n",
              "  {'source': {'id': None, 'name': 'Design-milk.com'},\n",
              "   'author': 'Kelly Beall',\n",
              "   'title': 'F5: Elena Salmistraro Shares Her Favorite Accessory, Art + Album',\n",
              "   'description': \"Artist + designer Elena Salmistraro joins us for this week's Friday Five, sharing a versatile meal, some of her favorite types of art + more.\",\n",
              "   'url': 'https://design-milk.com/f5-elena-salmistraro-shares-her-favorite-accessory-art-album/',\n",
              "   'urlToImage': 'https://design-milk.com/images/2022/11/F5-Elena-Salmistraro-Lithea.jpg',\n",
              "   'publishedAt': '2022-12-02T14:00:06Z',\n",
              "   'content': 'Elena Salmistraro graduated from the Politecnico in Milan with a degree in Industrial Design in 2008, and the following year opened her own firm. She’s the creator of a unique and highly recognizable… [+3623 chars]'},\n",
              "  {'source': {'id': None, 'name': 'Hipertextual'},\n",
              "   'author': 'Nolan Rada Galindo',\n",
              "   'title': '‘Slow Horses’, crítica: la segunda temporada es otro éxito con mayúsculas',\n",
              "   'description': 'La primera temporada de Slow Horses, con Gary Oldman, lució por ser un relato acorde a lo que se le presupone: una serie eficiente sobre espionaje. Su valor agregado estuvo en ofrecer una serie de personajes interesantes que dan color al relato. Son ellos qui…',\n",
              "   'url': 'http://hipertextual.com/2022/12/slow-horses-segunda-temporada-critica-apple-tv',\n",
              "   'urlToImage': 'https://i0.wp.com/imgs.hipertextual.com/wp-content/uploads/2022/12/Slor-Horses-segunda-temporada-critica-de-la-serie-de-Apple-TV.jpg?fit=1920%2C1079&quality=60&strip=all&ssl=1',\n",
              "   'publishedAt': '2022-12-02T15:05:00Z',\n",
              "   'content': 'La primera temporada de Slow Horses, con Gary Oldman, lució por ser un relato acorde a lo que se le presupone: una serie eficiente sobre espionaje. Su valor agregado estuvo en ofrecer una serie de pe… [+4780 chars]'},\n",
              "  {'source': {'id': None, 'name': 'Fast Company'},\n",
              "   'author': 'Harry McCracken',\n",
              "   'title': 'Adobe at 40: The past, present, and future of creativity software’s enduring giant',\n",
              "   'description': 'On December 3, 1982, John Warnock and Chuck Geschke started a company to make visual communication better. It’s still at work on that challenge—and its horizons have never stopped expanding.\\n“That was magic.”Read Full Story',\n",
              "   'url': 'https://www.fastcompany.com/90817765/adobe-at-40-the-past-present-and-future-of-creativity-softwares-enduring-giant?partner=rss&utm_source=rss&utm_medium=feed&utm_campaign=rss+fastcompany&utm_content=rss',\n",
              "   'urlToImage': 'https://images.fastcompany.net/image/upload/w_1280,f_auto,q_auto,fl_lossy/wp-cms/uploads/2022/12/p-1-Adobe-at-40.jpg',\n",
              "   'publishedAt': '2022-12-02T07:00:00Z',\n",
              "   'content': '“That was magic.”\\r\\nKevin Hart rocks forward in his armchair. The comedian happens to be sitting on a stage at Los Angeles’s Microsoft Theater, where he’s cohosting Max Sneaks, the closing session at … [+19219 chars]'},\n",
              "  {'source': {'id': 'time', 'name': 'Time'},\n",
              "   'author': 'Armani Syed',\n",
              "   'title': 'Everything We Know About Meghan Markle and Prince Harry’s Netflix Docuseries',\n",
              "   'description': 'A minute-long Netflix trailer for \"Harry & Meghan,\" the Duke and Duchess\\' six-part docuseries, was released this week',\n",
              "   'url': 'https://time.com/6238207/harry-and-meghan-netflix-docuseries/',\n",
              "   'urlToImage': 'https://api.time.com/wp-content/uploads/2022/12/Harry-Meghan-_Archival_Photobooth.jpg?quality=85&w=1200&h=628&crop=1',\n",
              "   'publishedAt': '2022-12-02T13:08:57Z',\n",
              "   'content': 'Prince Harry and Meghan Markle’s ongoing quest to become media multihyphenates is set to peak in the coming weeks: Harry’s hotly anticipated memoir Spare hits the shelves on Jan. 10, Meghan recently … [+5879 chars]'},\n",
              "  {'source': {'id': None, 'name': 'Xataka.com'},\n",
              "   'author': 'Manu García (Visnuh)',\n",
              "   'title': 'Las mejores ofertas en tecnología tras el Black Friday: Cazando Gangas',\n",
              "   'description': 'Pasado ya el Black Friday y todo el ajetreo de ofertas que suele acompañarlo, sigue habiendo chollos que buscar. Tenemos la campaña navideña ya a pleno rendimiento y es hora de ir pensando en comprar los regalos navideños antes de que se agoten o suban de pre…',\n",
              "   'url': 'https://www.xataka.com/seleccion/mejores-ofertas-tecnologia-black-friday-cazando-gangas',\n",
              "   'urlToImage': 'https://i.blogs.es/1e73f6/cazando_gangas/840_560.jpg',\n",
              "   'publishedAt': '2022-12-02T09:09:05Z',\n",
              "   'content': 'Pasado ya el Black Friday y todo el ajetreo de ofertas que suele acompañarlo, sigue habiendo chollos que buscar. Tenemos la campaña navideña ya a pleno rendimiento y es hora de ir pensando en comprar… [+12903 chars]'},\n",
              "  {'source': {'id': None, 'name': 'Digital Trends'},\n",
              "   'author': 'Alex Blake',\n",
              "   'title': 'Apple’s VR headset may launch soon, intriguing leak suggests',\n",
              "   'description': 'Apple has renamed the operating system powering its secret mixed-reality headset to “xrOS,” suggesting the device could be on the home stretch before launch.',\n",
              "   'url': 'https://www.digitaltrends.com/computing/apple-headset-operating-system-xros/',\n",
              "   'urlToImage': 'https://www.digitaltrends.com/wp-content/uploads/2021/03/apple-vr-headset-concept-feature-antonio-de-rosa.jpg?p=1',\n",
              "   'publishedAt': '2022-12-02T11:49:17Z',\n",
              "   'content': 'Apples upcoming mixed-reality headset is basically the worst-kept secret in the tech world at this point. Now, a new detail has emerged: that the operating system powering the device has been interna… [+2607 chars]'},\n",
              "  {'source': {'id': None, 'name': 'Digital Trends'},\n",
              "   'author': 'Mark Jansen',\n",
              "   'title': 'I thought iOS 16 would ruin my iPhone 8, but it shocked me',\n",
              "   'description': \"Apple's latest OS, iOS 16, is available for the iPhone 8. Using such old hardware with such new software surely can't be a good experience. Right?\",\n",
              "   'url': 'https://www.digitaltrends.com/mobile/using-ios-16-on-apple-iphone-8-shocked-me/',\n",
              "   'urlToImage': 'https://www.digitaltrends.com/wp-content/uploads/2022/11/iphone-8-running-ios-16-2.jpg?p=1',\n",
              "   'publishedAt': '2022-12-02T15:00:30Z',\n",
              "   'content': 'When the iOS 16 compatibility list was announced, it was a cause of celebration. Sure, the iPhone 7 and earlier were out of the running, but that still meant the iPhone 8 was in line for the new upda… [+4947 chars]'},\n",
              "  {'source': {'id': 'bbc-news', 'name': 'BBC News'},\n",
              "   'author': 'https://www.facebook.com/bbcnews',\n",
              "   'title': \"Kanye West Twitter ban: A timeline of the rapper's downfall\",\n",
              "   'description': \"He's been banned from Twitter again after two turbulent months - but how did we get here?\",\n",
              "   'url': 'https://www.bbc.co.uk/news/newsbeat-63833338',\n",
              "   'urlToImage': 'https://ichef.bbci.co.uk/news/1024/branded_news/0C47/production/_121134130_ye_getty.jpg',\n",
              "   'publishedAt': '2022-12-02T14:44:31Z',\n",
              "   'content': 'Kanye West has never been afraid to upset people, but his recent tirades against Jewish people have been too much for many.\\r\\nAt the start of October, he was a billionaire music artist and businessman… [+3947 chars]'},\n",
              "  {'source': {'id': None, 'name': 'Gigazine.net'},\n",
              "   'author': '@GIGAZINE',\n",
              "   'title': 'Appleが画像生成AI「Stable Diffusion」にまさかの正式対応、開発者いわく「画像を1秒以内に生成可能」',\n",
              "   'description': '文章(プロンプト)を入力するだけで画像を生成してくれるAI「Stable Diffusion」は、2022年8月に一般公開されて以降、有志によって簡単に動かせるUIや各種拡張機能が続々と生み出されています。そんなStable Diffusionについて、Appleが機械学習フレームワーク「Core ML」への最適化を発表しました。同時にMacBookやiPhoneなどのAppleシリコン搭載デバイス向けのコードもオープンソースで公開されています。続きを読む...',\n",
              "   'url': 'https://gigazine.net/news/20221202-stable-diffusion-core-ml-apple/',\n",
              "   'urlToImage': 'https://i.gzn.jp/img/2022/12/02/stable-diffusion-core-ml-apple/00.png',\n",
              "   'publishedAt': '2022-12-02T03:55:00Z',\n",
              "   'content': '()AIStable Diffusion20228UIStable DiffusionAppleCore MLMacBookiPhoneApple\\r\\nStable Diffusion with Core ML on Apple Silicon - Apple Machine Learning Researchhttps://machinelearning.apple.com/research/s… [+672 chars]'},\n",
              "  {'source': {'id': None, 'name': 'Gigazine.net'},\n",
              "   'author': '@GIGAZINE',\n",
              "   'title': 'AppleがCoinbaseの仮想通貨ウォレットアプリをブロック、原因はNFTか',\n",
              "   'description': '仮想通貨ウォレット「Coinbase Wallet」でNFTを送信できなくなっていることについて、Appleの影響によるものであることをCoinbaseが明らかにしました。続きを読む...',\n",
              "   'url': 'https://gigazine.net/news/20221202-apple-block-coinbase-wallet-app-nft-feature/',\n",
              "   'urlToImage': 'https://i.gzn.jp/img/2022/12/02/apple-block-coinbase-wallet-app-nft-feature/00_m.png',\n",
              "   'publishedAt': '2022-12-02T03:30:00Z',\n",
              "   'content': \"Coinbase WalletNFTAppleCoinbase\\r\\nCoinbase Wallet - Web3https://www.coinbase.com/ja/wallet\\r\\nCoinbaseTwitter\\r\\niOSCoinbase WalletNFT(NFT)Apple\\r\\nYou might have noticed you can't send NFTs on Coinbase Wal… [+1801 chars]\"},\n",
              "  {'source': {'id': 'vice-news', 'name': 'Vice News'},\n",
              "   'author': 'Emily Green, Deborah Bonello',\n",
              "   'title': 'Hacked El Salvador Journalists Sue Spyware Maker Pegasus in US Court',\n",
              "   'description': \"Journalists from the El Faro investigative outlet believe President Nayib Bukele's government purchased the spyware and is behind the hacking.\",\n",
              "   'url': 'https://www.vice.com/en/article/z345a3/hacked-el-salvador-journalists-sue-spyware-maker-pegasus-us-court',\n",
              "   'urlToImage': 'https://video-images.vice.com/articles/6389fc8f85c21dde6ec92d50/lede/1669987570686-hacked-el-salvador-journalists-sue-spywar-maker-pegasus-us-court.jpeg?image-resize-opts=Y3JvcD0xeHc6MC44NDI4eGg7MHh3LDAuMDc3NHhoJnJlc2l6ZT0xMjAwOiomcmVzaXplPTEyMDA6Kg',\n",
              "   'publishedAt': '2022-12-02T13:50:47Z',\n",
              "   'content': 'Journalists from an investigative news outlet in El Salvador filed a lawsuit this week in U.S. federal court against an Israeli company for allegedly infecting their phones with malicious spyware tha… [+5316 chars]'},\n",
              "  {'source': {'id': None, 'name': 'heise online'},\n",
              "   'author': 'Christoph Dernbach',\n",
              "   'title': 'heise+ | Chips & Co.: Warum Apple über eine Milliarde in München investiert',\n",
              "   'description': 'In München wird in diesen Wochen das größte Entwicklungszentrum von Apple in Europa bezogen. Die Landeshauptstadt hat für den iPhone-Konzern zentrale Bedeutung.',\n",
              "   'url': 'https://www.heise.de/hintergrund/Warum-Apple-ueber-eine-Milliarde-in-Muenchen-investiert-7362437.html',\n",
              "   'urlToImage': 'https://heise.cloudimg.io/bound/1200x1200/q85.png-lossy-85.webp-lossy-85.foil1/_www-heise-de_/imgs/18/3/6/5/6/4/5/9/mi_06_22_se_silicon_designcenter_digital-b84077fbcc1c453d.jpg',\n",
              "   'publishedAt': '2022-12-02T08:00:00Z',\n",
              "   'content': 'Inhaltsverzeichnis\\r\\nDie wirtschaftlichen Rahmenbedingungen für Investitionen in Milliardenhöhe sind in diesen Zeiten alles andere als ideal. Wegen der Folgen des Ukrainekriegs und der Coronakrise hab… [+2656 chars]'},\n",
              "  {'source': {'id': None, 'name': 'heise online'},\n",
              "   'author': 'Ben Schwan',\n",
              "   'title': 'Standort der größten iPhone-Fabrik der Welt: China beendet Lockdowns',\n",
              "   'description': 'Nach Protesten der Bevölkerung hat China damit begonnen, seine COVID-Maßnahmen zu entschärfen. In Zhengzhou wurde der Lockdown beendet.',\n",
              "   'url': 'https://www.heise.de/news/Standort-der-groessten-iPhone-Fabrik-der-Welt-China-beendet-Lockdowns-7363795.html',\n",
              "   'urlToImage': 'https://heise.cloudimg.io/bound/1200x1200/q85.png-lossy-85.webp-lossy-85.foil1/_www-heise-de_/imgs/18/3/6/5/7/2/1/5/20210323_Commercial_buildings_near_Zhengzhoudong_Railway_Station-97f959a403488bcf.jpg',\n",
              "   'publishedAt': '2022-12-02T08:50:00Z',\n",
              "   'content': 'Nach schweren Protesten der Bevölkerung in vielen chinesischen Städten, die sich gegen die Zero-COVID-Politik der chinesischen Regierung richteten, hat Peking damit begonnen, seine Virenschutzmaßnahm… [+2441 chars]'},\n",
              "  {'source': {'id': None, 'name': 'heise online'},\n",
              "   'author': 'Bernd Mewes',\n",
              "   'title': '\"Laptops für die Ukraine\": Spenden für Schulen, Krankenhäuser und Verwaltung',\n",
              "   'description': 'In der Ukraine werden dringend Laptops benötigt. In einer Initiative ruft die EU zu Spenden für Schulen, Krankenhäuser und der ukrainischen Verwaltung auf.',\n",
              "   'url': 'https://www.heise.de/news/Laptops-fuer-die-Ukraine-Spenden-fuer-Schulen-Krankenhaeuser-und-Verwaltung-7364722.html',\n",
              "   'urlToImage': 'https://heise.cloudimg.io/bound/1200x1200/q85.png-lossy-85.webp-lossy-85.foil1/_www-heise-de_/imgs/18/3/6/5/7/7/1/9/shutterstock_194085965-dc3acf35f5b39dc7.jpg',\n",
              "   'publishedAt': '2022-12-02T12:34:00Z',\n",
              "   'content': 'In der Ukraine werden dringend Laptops, Smartphones und Tablets benötigt. In einer von der EU-Kommission, dem ukrainischen Ministerium für digitalen Wandel und der europäischen Organisation Digitaleu… [+2106 chars]'},\n",
              "  {'source': {'id': None, 'name': 'heise online'},\n",
              "   'author': 'dpa',\n",
              "   'title': 'Umfrage: Trend zu bargeldlosem Bezahlen gerade bei Jüngeren',\n",
              "   'description': 'Ein bisschen Bargeld haben die meisten Menschen in Deutschland in der Regel dabei. Doch bezahlt wird immer häufiger ohne Schein und Münze.',\n",
              "   'url': 'https://www.heise.de/news/Umfrage-Trend-zu-bargeldlosem-Bezahlen-gerade-bei-Juengeren-7364136.html',\n",
              "   'urlToImage': 'https://heise.cloudimg.io/bound/1200x1200/q85.png-lossy-85.webp-lossy-85.foil1/_www-heise-de_/imgs/18/3/6/5/7/4/0/7/shutterstock_540715339-950e38a33b1b2891.jpg',\n",
              "   'publishedAt': '2022-12-02T05:43:00Z',\n",
              "   'content': 'In Deutschland zeigt sich einer Umfrage zufolge vor allem bei jüngeren Menschen ein Trend zum Bezahlen ohne Schein und Münze. Insbesondere die unter 36-Jährigen greifen demnach immer seltener zum Bar… [+2496 chars]'},\n",
              "  {'source': {'id': None, 'name': '9to5Mac'},\n",
              "   'author': 'Benjamin Mayo',\n",
              "   'title': 'Apple TV+ Guide: Every Apple TV show and movie available now',\n",
              "   'description': 'Apple TV+ offers exclusive Apple original TV shows and movies in 4K HDR quality. You can watch across all of your screens and pick up where you left off on any device. Apple TV+ costs $6.99 per month. Here’s every Apple original television show and movie avai…',\n",
              "   'url': 'https://9to5mac.com/2022/12/02/apple-tv-plus-tv-shows-movies-guide/',\n",
              "   'urlToImage': 'https://i0.wp.com/9to5mac.com/wp-content/uploads/sites/6/2019/12/apple-tv-plus.jpg?resize=1200%2C628&quality=82&strip=all&ssl=1',\n",
              "   'publishedAt': '2022-12-02T12:32:05Z',\n",
              "   'content': 'Apple TV+ offers exclusive Apple original TV shows and movies in 4K HDR quality. You can watch across all of your screens and pick up where you left off on any device. Apple TV+ costs $6.99 per month… [+54546 chars]'},\n",
              "  {'source': {'id': None, 'name': '9to5Mac'},\n",
              "   'author': 'Michael Potuck',\n",
              "   'title': 'Apple Arcade games for iPhone, Mac, Apple TV [New: Dead Cells+]',\n",
              "   'description': 'Apple Arcade\\xa0launched with close to 100 titles and the service is seeing new games added regularly with over 200 games now in the library. Follow along with our guide on Apple Arcade games.\\nNew:\\xa0Action game Dead Cells+ is the latest release on Apple Arcade.\\n …',\n",
              "   'url': 'https://9to5mac.com/2022/12/02/apple-arcade-games/',\n",
              "   'urlToImage': 'https://i0.wp.com/9to5mac.com/wp-content/uploads/sites/6/2022/11/dead-cells-apple-arcade.jpg?resize=1200%2C628&quality=82&strip=all&ssl=1',\n",
              "   'publishedAt': '2022-12-02T14:50:00Z',\n",
              "   'content': 'Apple Arcade\\xa0launched with close to 100 titles and the service is seeing new games added regularly with over 200 games now in the library. Follow along with our guide on Apple Arcade games.\\r\\nNew:\\xa0Act… [+86098 chars]'},\n",
              "  {'source': {'id': None, 'name': '9to5Mac'},\n",
              "   'author': 'Filipe Espósito',\n",
              "   'title': 'iPad 10 teardown shows why it lacks support for second-generation Apple Pencil',\n",
              "   'description': 'Apple announced last month the 10th-generation iPad, which features a new design similar to the more expensive iPad models, plus other enhancements. However, despite all the improvements, iPad 10 lacks support for the second-generation Apple Pencil. Now iFixi…',\n",
              "   'url': 'https://9to5mac.com/2022/12/02/ipad-10-teardown-ifixit/',\n",
              "   'urlToImage': 'https://i0.wp.com/9to5mac.com/wp-content/uploads/sites/6/2022/12/iPad-10-teardown-iFixit.jpg?resize=1200%2C628&quality=82&strip=all&ssl=1',\n",
              "   'publishedAt': '2022-12-02T14:38:29Z',\n",
              "   'content': 'Apple announced last month the 10th-generation iPad, which features a new design similar to the more expensive iPad models, plus other enhancements. However, despite all the improvements, iPad 10 lac… [+2356 chars]'},\n",
              "  {'source': {'id': None, 'name': '9to5Mac'},\n",
              "   'author': 'Benjamin Mayo',\n",
              "   'title': 'Slow Horses season two premieres on Apple TV+',\n",
              "   'description': 'The spy thriller TV show Slow Horses returns for season today, beginning today on Apple TV+. The show stars Gary Oldman as Jackson Lamb, a veteran MI5 agent in charge of a department of reject underlyings that have a reputation for failure inside the organiza…',\n",
              "   'url': 'https://9to5mac.com/2022/12/01/slow-horses-season-two-premieres-on-apple-tv/',\n",
              "   'urlToImage': 'https://i0.wp.com/9to5mac.com/wp-content/uploads/sites/6/2022/12/slow-horses-season-two-how-to-watch.jpg?resize=1200%2C628&quality=82&strip=all&ssl=1',\n",
              "   'publishedAt': '2022-12-02T04:00:00Z',\n",
              "   'content': 'The spy thriller TV show Slow Horses returns for season today, beginning today on Apple TV+. The show stars Gary Oldman as Jackson Lamb, a veteran MI5 agent in charge of a department of reject underl… [+2004 chars]'},\n",
              "  {'source': {'id': None, 'name': '9to5Mac'},\n",
              "   'author': 'Ben Lovejoy',\n",
              "   'title': 'First reported use of Emergency SOS via Satellite saves snowmobiler in Alaska',\n",
              "   'description': 'In what appears to be the first reported use of Emergency SOS via Satellite, an snowmobiler in Alaska was successfully rescued when he became stranded in an extremely isolated area.\\nAlaska State Troopers received an alert from the Apple Emergency Response Cen…',\n",
              "   'url': 'https://9to5mac.com/2022/12/02/use-of-emergency-sos/',\n",
              "   'urlToImage': 'https://i0.wp.com/9to5mac.com/wp-content/uploads/sites/6/2022/12/Use-of-Emergency-SOS.jpg?resize=1200%2C628&quality=82&strip=all&ssl=1',\n",
              "   'publishedAt': '2022-12-02T12:13:19Z',\n",
              "   'content': 'In what appears to be the first reported use of Emergency SOS via Satellite, an snowmobiler in Alaska was successfully rescued when he became stranded in an extremely isolated area.\\r\\nAlaska State Tro… [+3483 chars]'},\n",
              "  {'source': {'id': None, 'name': '9to5Mac'},\n",
              "   'author': 'Ben Lovejoy',\n",
              "   'title': 'Twitter offers advertisers BOGO ads to try to win them back; Ye suspended again',\n",
              "   'description': 'Major ad agencies say that almost all of the big brands have paused or dramatically cut their ad spend on the platform, fearing the wild west created by the changes Musk has made. Twitter advertisers offered buy-one-get-one-free ads in the latest desperate at…',\n",
              "   'url': 'https://9to5mac.com/2022/12/02/twitter-advertisers-offered-bogo/',\n",
              "   'urlToImage': 'https://i0.wp.com/9to5mac.com/wp-content/uploads/sites/6/2022/12/Twitter-advertisers-offered-BOGO.jpg?resize=1200%2C628&quality=82&strip=all&ssl=1',\n",
              "   'publishedAt': '2022-12-02T14:07:38Z',\n",
              "   'content': 'Major ad agencies say that almost all of the big brands have paused or dramatically cut their ad spend on the platform, fearing the wild west created by the changes Musk has made. Twitter advertisers… [+2871 chars]'},\n",
              "  {'source': {'id': None, 'name': 'Autoblog'},\n",
              "   'author': 'James Riswick',\n",
              "   'title': '2023 Honda Odyssey Review: The ultimate baby gadget (for better and worse)',\n",
              "   'description': 'Filed under:\\n Honda,Buying Guide,New Car Reviews\\n Continue reading 2023 Honda Odyssey Review: The ultimate baby gadget (for better and worse)\\n2023 Honda Odyssey Review: The ultimate baby gadget (for better and worse) originally appeared on Autoblog on Fri, 2 …',\n",
              "   'url': 'https://www.autoblog.com/article/2023-honda-odyssey-review/',\n",
              "   'urlToImage': 'https://o.aolcdn.com/images/dims3/GLOB/legacy_thumbnail/1062x597/format/jpg/quality/100/https://s.aolcdn.com/os/ab/_cms/2020/10/27181513/2021-Honda-Odyssey-0291.jpg',\n",
              "   'publishedAt': '2022-12-02T15:00:00Z',\n",
              "   'content': 'Pros: Magic middle row great for parents with small kids; plush ride; Honda reliability reputation\\r\\nCons: No cheaper base model; dreary to drive even for a minivan; no hybrid or AWD\\r\\nThe 2023 Honda O… [+9907 chars]'},\n",
              "  {'source': {'id': None, 'name': 'Autoblog'},\n",
              "   'author': 'Zac Palmer',\n",
              "   'title': '2023 Genesis G90 First Drive Review: No more compromises',\n",
              "   'description': 'Filed under:\\n Genesis,First Drives,New Car Reviews,Technology,Luxury,Sedan\\n Continue reading 2023 Genesis G90 First Drive Review: No more compromises\\n2023 Genesis G90 First Drive Review: No more compromises originally appeared on Autoblog on Fri, 2 Dec 2022 0…',\n",
              "   'url': 'https://www.autoblog.com/2022/12/02/2023-genesis-g90-review-luxury-sedan-first-drive/',\n",
              "   'urlToImage': 'https://o.aolcdn.com/images/dims3/GLOB/crop/4606x2591+294+259/resize/800x450!/format/jpg/quality/85/https://s.aolcdn.com/os/ab/_cms/2022/12/01135058/IMG_89424.jpg',\n",
              "   'publishedAt': '2022-12-02T11:00:00Z',\n",
              "   'content': 'Reviewing the Genesis G90 in the past has always been a game of qualifiers. It drives really well (for the money). The interior is a massive step in the right direction (for a Genesis). That tech sur… [+9617 chars]'},\n",
              "  {'source': {'id': None, 'name': 'Toprankblog.com'},\n",
              "   'author': 'Lane Ellis',\n",
              "   'title': 'B2B Marketing News: B2B Influencer Marketing A Growing Priority, LinkedIn’s Scheduled Posts & Competitor Analytics, & The Media Time Paradox',\n",
              "   'description': 'Changes to B2B ecommerce coming fast [SURVEY DATA]\\nB2B executives expect eCommerce revenue to grow from 20 percent to 31 percent during 2023, while in 2021 digital-first B2B buyers said that they utilized 10 separate sales channels, up from 7.5 in 2020 — two …',\n",
              "   'url': 'https://www.toprankblog.com/2022/12/b2b-marketing-news-120222/',\n",
              "   'urlToImage': 'https://www.toprankblog.com/wp-content/uploads/2022December2PegaANAChart600w.png',\n",
              "   'publishedAt': '2022-12-02T11:30:10Z',\n",
              "   'content': 'Changes to B2B ecommerce coming fast [SURVEY DATA]B2B executives expect eCommerce revenue to grow from 20 percent to 31 percent during 2023, while in 2021 digital-first B2B buyers said that they util… [+4968 chars]'},\n",
              "  {'source': {'id': None, 'name': 'Thekitchn.com'},\n",
              "   'author': 'Ian Burke',\n",
              "   'title': 'This Old-School Pan Makes Baking Cakes a Breeze (Even for a Novice Like Me!)',\n",
              "   'description': 'I love to cook. And, by “cook,” I don’t mean the usual chicken-and-rice-with-broccoli diet (or slight variations) that I see all over Instagram. No, I love to get pretty nerdy with it — I’m talking about cooking projects that are absolutely not worth it, from…',\n",
              "   'url': 'https://www.thekitchn.com/amazon-bundt-pan-review-23483834',\n",
              "   'urlToImage': 'https://cdn.apartmenttherapy.info/image/upload/f_auto,q_auto:eco,c_fill,g_auto,w_1500,ar_3:2/k%2FPhoto%2FRecipes%2F2020-03-How-to-Ultimate-Foolproof-Bundt%2F2020-02-24_AT-K_104538',\n",
              "   'publishedAt': '2022-12-02T12:15:00Z',\n",
              "   'content': 'by Ian Burke\\r\\nWe independently select these products—if you buy from one of our links, we may earn a commission. All prices were accurate at the time of publishing.\\r\\nI love to cook. And, by cook, I d… [+3330 chars]'},\n",
              "  {'source': {'id': None, 'name': 'AppleInsider'},\n",
              "   'author': 'news@appleinsider.com (Andrew Orr)',\n",
              "   'title': 'OtterBox is out with new power banks for iPhone and Apple Watch',\n",
              "   'description': 'OtterBox has three new chargers to power an iPhone and an Apple Watch, with features that include nightstand mode and versatility as a car vent mount.New power banks from OtterBoxThe Power Bank with Apple Watch Charger, Multi-Mount Power Bank, and 2-in-1 Powe…',\n",
              "   'url': 'https://appleinsider.com/articles/22/12/02/otterbox-is-out-with-new-power-banks-for-iphone-and-apple-watch',\n",
              "   'urlToImage': 'https://photos5.appleinsider.com/gallery/51723-102466-new-otterbox-chargers-xl.jpg',\n",
              "   'publishedAt': '2022-12-02T14:59:55Z',\n",
              "   'content': 'New power banks from OtterBox\\r\\nAppleInsider may earn an affiliate commission on purchases made through links on our site.\\r\\nOtterBox has three new chargers to power an iPhone and an Apple Watch, with … [+1670 chars]'},\n",
              "  {'source': {'id': None, 'name': 'AppleInsider'},\n",
              "   'author': 'news@appleinsider.com (William Gallagher)',\n",
              "   'title': \"How to watch 'A Charlie Brown Christmas' for free in 2022\",\n",
              "   'description': 'Although the famous Charlie Brown Christmas special will exclusively be on Apple TV+ this year, it will be free for all to watch for a limited period. Here\\'s how.\"A Charlie Brown Christmas\" on Apple TV+It\\'s long gone from its traditional spot on ABC\\'s schedul…',\n",
              "   'url': 'https://appleinsider.com/inside/apple-tv-plus/tips/how-to-watch-a-charlie-brown-christmas-for-free-in-2022',\n",
              "   'urlToImage': 'https://photos5.appleinsider.com/gallery/39186-74971-000-lead-Charlie-Brown-Christmas-l.jpg',\n",
              "   'publishedAt': '2022-12-02T12:19:44Z',\n",
              "   'content': '\"A Charlie Brown Christmas\" on Apple TV+\\r\\nAppleInsider may earn an affiliate commission on purchases made through links on our site.\\r\\nAlthough the famous Charlie Brown Christmas special will exclusiv… [+1477 chars]'},\n",
              "  {'source': {'id': None, 'name': 'AppleInsider'},\n",
              "   'author': 'news@appleinsider.com (Wesley Hilliard)',\n",
              "   'title': \"iPhone 15 Ultra rumors, what's left for Apple in 2022, Mastodon and social networks\",\n",
              "   'description': 'Rumored iPhone 15 Ultra design changes, Apple Podcast and App Awards, plus social network alternatives, and waiting for iOS 16.2, all on the AppleInsider podcast.iPhone 15 UltraThis week Apple released iOS 16.1.2 with fixes for carriers and Crash Detection, b…',\n",
              "   'url': 'https://appleinsider.com/articles/22/12/02/iphone-15-ultra-rumors-whats-left-for-apple-in-2022-mastodon-and-social-networks',\n",
              "   'urlToImage': 'https://photos5.appleinsider.com/gallery/51707-102459-iPhone-15-Ultra-colors-xl.jpg',\n",
              "   'publishedAt': '2022-12-02T13:30:00Z',\n",
              "   'content': 'iPhone 15 Ultra\\r\\nAppleInsider may earn an affiliate commission on purchases made through links on our site.\\r\\nRumored iPhone 15 Ultra design changes, Apple Podcast and App Awards, plus social network … [+2533 chars]'},\n",
              "  {'source': {'id': None, 'name': 'AppleInsider'},\n",
              "   'author': 'news@appleinsider.com (AppleInsider Staff)',\n",
              "   'title': 'Daily deals Dec. 2: $500 off Pro Display XDR, 21% off Peloton Bike, 10.2-inch iPad for $299, more',\n",
              "   'description': \"Friday's best deals include $600 off LG 48-inch 4K monitor, 25% off Sonos refurbished speakers, 50% off Razer Kishi iPhone controller, and much more.Best deals December 2Even though Cyber Monday is now past, AppleInsider still checks online stores daily to un…\",\n",
              "   'url': 'https://appleinsider.com/articles/22/12/02/daily-deals-dec-2-500-off-pro-display-xdr-21-off-peloton-bike-102-inch-ipad-for-299-more',\n",
              "   'urlToImage': 'https://photos5.appleinsider.com/gallery/51720-102462-Deals-xl.jpg',\n",
              "   'publishedAt': '2022-12-02T13:59:05Z',\n",
              "   'content': \"Best deals December 2\\r\\nAppleInsider may earn an affiliate commission on purchases made through links on our site.\\r\\nFriday's best deals include $600 off LG 48-inch 4K monitor, 25% off Sonos refurbishe… [+3221 chars]\"},\n",
              "  {'source': {'id': None, 'name': 'AppleInsider'},\n",
              "   'author': 'news@appleinsider.com (Michael Stroup)',\n",
              "   'title': \"How to get old apps for iPad that can't run iPadOS 16\",\n",
              "   'description': \"Apple builds products that last, and many users have iPads that still work but no longer can handle the resource-heavy iPadOS 16. Although it isn't obvious, there's a way to download old versions of apps that function on your iPad.Older iPads still have plent…\",\n",
              "   'url': 'https://appleinsider.com/inside/ipados-16/tips/how-to-get-old-apps-for-ipad-that-cant-run-ipados-16',\n",
              "   'urlToImage': 'https://photos5.appleinsider.com/gallery/51715-102456-Untitled-design-xl.jpg',\n",
              "   'publishedAt': '2022-12-02T11:43:01Z',\n",
              "   'content': 'Older iPads still have plenty of life. You can still download old versions of apps. \\r\\nAppleInsider may earn an affiliate commission on purchases made through links on our site.\\r\\nApple builds products… [+3551 chars]'},\n",
              "  {'source': {'id': None, 'name': 'AppleInsider'},\n",
              "   'author': 'news@appleinsider.com (Amber Neely)',\n",
              "   'title': 'New iPhone 14 Emergency SOS via Satellite feature saves man in Alaska',\n",
              "   'description': 'After becoming stranded in a remote area of Alaska, a man used the new iPhone 14 SOS feature to call for help.Emergency SOS via SatelliteThe man, traveling from Noorvik to Kotzebue on a snowmobile, became stranded on December 1 around 2:00 am. Read more...',\n",
              "   'url': 'https://appleinsider.com/articles/22/12/02/new-iphone-14-emergency-sos-via-satellite-saves-man-in-alaska',\n",
              "   'urlToImage': 'https://photos5.appleinsider.com/gallery/51385-101654-sos-via-satellite-Demo-xl.jpg',\n",
              "   'publishedAt': '2022-12-02T01:35:41Z',\n",
              "   'content': 'Emergency SOS via Satellite\\r\\nAppleInsider may earn an affiliate commission on purchases made through links on our site.\\r\\nAfter becoming stranded in a remote area of Alaska, a man used the new iPhone … [+1149 chars]'},\n",
              "  {'source': {'id': None, 'name': 'AppleInsider'},\n",
              "   'author': 'news@appleinsider.com (Christine McKee)',\n",
              "   'title': \"Save $150 on Apple's Midnight MacBook Air M2 with 16GB RAM & 10-core GPU, in stock now\",\n",
              "   'description': \"Apple's popular MacBook Air with an upgraded M2 chip and 16GB of memory is $150 off in the gorgeous Midnight finish. In stock with free expedited shipping, plus bonus savings on AppleCare.Save on Apple's M2 MacBook Air.Save $150 on the highly sought after Mid…\",\n",
              "   'url': 'https://appleinsider.com/articles/22/12/02/save-150-on-apples-midnight-macbook-air-m2-with-16gb-ram-10-core-gpu-in-stock-now',\n",
              "   'urlToImage': 'https://photos5.appleinsider.com/gallery/51718-102460-macbook-air-m2-midnight-deal-xl.jpg',\n",
              "   'publishedAt': '2022-12-02T01:47:46Z',\n",
              "   'content': \"Save on Apple's M2 MacBook Air.\\r\\nAppleInsider may earn an affiliate commission on purchases made through links on our site.\\r\\nApple's popular MacBook Air with an upgraded M2 chip and 16GB of memory is… [+1350 chars]\"},\n",
              "  {'source': {'id': None, 'name': 'Yanko Design'},\n",
              "   'author': 'Srishti Mitra',\n",
              "   'title': 'Top 10 Apple concepts that techies would love to see come to life',\n",
              "   'description': 'Top 10 Apple concepts that techies would love to see come to lifeSince its foundation in 1976, Apple has been always been at the peak of modern innovation! And let’s take a moment to appreciate all the...',\n",
              "   'url': 'https://www.yankodesign.com/2022/12/02/top-10-apple-concepts-that-techies-would-love-to-see-come-to-life/',\n",
              "   'urlToImage': 'https://www.yankodesign.com/images/design_news/2022/12/apple-concepts/top_10_apple_concepts_yanko_design_hero.jpg',\n",
              "   'publishedAt': '2022-12-02T11:07:05Z',\n",
              "   'content': 'Since its foundation in 1976, Apple has been always been at the peak of modern innovation! And lets take a moment to appreciate all the awesome products and inspiration Apple has provided us with. Th… [+6284 chars]'},\n",
              "  {'source': {'id': None, 'name': 'Journal du geek'},\n",
              "   'author': 'Florence Santrot',\n",
              "   'title': 'Apple Watch Ultra vs Apple Watch Series 8\\xa0: pour quelle montre Apple craquer\\xa0?',\n",
              "   'description': \"D'un côté un nouveau format XXL et une batterie à l'avenant. De l'autre, un vrai concentré de technologie dans une montre discrète et élégante. Le choix s'annonce cornélien. On vous aide à y voir plus clair.\\nApple Watch Ultra vs Apple Watch Series 8\\xa0: pour qu…\",\n",
              "   'url': 'https://www.journaldugeek.com/dossier/apple-watch-ultra-vs-apple-watch-series-8-pour-quelle-montre-apple-craquer/',\n",
              "   'urlToImage': 'https://www.journaldugeek.com/content/uploads/2022/12/watch3.jpg',\n",
              "   'publishedAt': '2022-12-02T12:00:46Z',\n",
              "   'content': \"D'un côté un nouveau format XXL et une batterie à l'avenant. De l'autre, un vrai concentré de technologie dans une montre discrète et élégante. Le choix s'annonce cornélien. On vous aide à y voir plu… [+7859 chars]\"},\n",
              "  {'source': {'id': None, 'name': 'Journal du geek'},\n",
              "   'author': 'Arthur Nicolle',\n",
              "   'title': 'Xbox Game Pass\\xa0: on ne fera jamais mieux qu’en décembre 2022\\xa0!',\n",
              "   'description': 'Microsoft fait fort en proposant la meilleure sélection de jeux qui viendront enrichir le catalogue de son abonnement gaming.\\nXbox Game Pass\\xa0: on ne fera jamais mieux qu’en décembre 2022\\xa0!',\n",
              "   'url': 'https://www.journaldugeek.com/2022/12/02/xbox-game-pass-on-ne-fera-jamais-mieux-quen-decembre-2022/',\n",
              "   'urlToImage': 'https://www.journaldugeek.com/content/uploads/2022/12/xbox-game-pass-decembre.jpg',\n",
              "   'publishedAt': '2022-12-02T11:30:50Z',\n",
              "   'content': 'Microsoft fait fort en proposant la meilleure sélection de jeux qui viendront enrichir le catalogue de son abonnement gaming.Si vous aviez peur de vous ennuyer pendant les vacances de Noël, le Xbox G… [+3804 chars]'},\n",
              "  {'source': {'id': None, 'name': 'Theregister.com'},\n",
              "   'author': 'Brandon Vigliarolo',\n",
              "   'title': 'Mozilla, Microsoft drop TrustCor as root certificate authority',\n",
              "   'description': \"'There is no evidence to suggest that TrustCor violated conduct, policy, or procedure' says biz\\nMozilla and Microsoft have taken action against a certificate authority accused of having close ties to a US military contractor that allegedly paid software devel…\",\n",
              "   'url': 'https://www.theregister.com/2022/12/02/mozilla_microsoft_trustcor/',\n",
              "   'urlToImage': 'https://regmedia.co.uk/2022/09/23/shutterstock_firefoxlogo.jpg',\n",
              "   'publishedAt': '2022-12-02T09:30:51Z',\n",
              "   'content': 'Mozilla and Microsoft have taken action against a certificate authority accused of having close ties to a US military contractor that allegedly paid software developers to embed data-harvesting malwa… [+4682 chars]'},\n",
              "  {'source': {'id': None, 'name': 'Applesfera.com'},\n",
              "   'author': 'Jesús Quesada',\n",
              "   'title': 'Rebajas en los iPhone compactos y ofertas en los últimos Apple Watch: Cazando Gangas',\n",
              "   'description': 'Volvemos una semana más con la sección Cazando Gangas de Applesfera, el espacio dedicado a recopilar las mejores ofertas de dispositivos Apple: desde iPhone hasta Apple Watch, pasando por iPad, MacBook, AirPods y accesorios compatibles. ¡Empezamos!\\n<!-- BREAK…',\n",
              "   'url': 'https://www.applesfera.com/general/rebajas-iphone-compactos-ofertas-ultimos-apple-watch-cazando-gangas',\n",
              "   'urlToImage': 'https://i.blogs.es/3fbee9/cazando-gangas-applesfera/840_560.jpg',\n",
              "   'publishedAt': '2022-12-02T07:00:37Z',\n",
              "   'content': 'Volvemos una semana más con la sección Cazando Gangas de Applesfera, el espacio dedicado a recopilar las mejores ofertas de dispositivos Apple: desde iPhone hasta Apple Watch, pasando por iPad, MacBo… [+5215 chars]'},\n",
              "  {'source': {'id': None, 'name': 'Applesfera.com'},\n",
              "   'author': 'David Bernal Raspall',\n",
              "   'title': 'Ya sabemos por qué el iPad 10 no es compatible con el Apple Pencil 2. La razón es realmente simple',\n",
              "   'description': 'Para sorpresa de muchos, Apple presentó nuevos iPad el pasado mes de octubre. Además de lanzar el nuevo iPad Pro M2 de 2022, presentó también el iPad de décima generación, oficialmente iPad (2022). Un iPad que cambia de factor de forma para empezar a disfruta…',\n",
              "   'url': 'https://www.applesfera.com/ipad/sabemos-que-ipad-10-no-compatible-apple-pencil-2-razon-realmente-simple',\n",
              "   'urlToImage': 'https://i.blogs.es/ed5af7/hero/840_560.jpeg',\n",
              "   'publishedAt': '2022-12-02T13:57:33Z',\n",
              "   'content': 'Para sorpresa de muchos, Apple presentó nuevos iPad el pasado mes de octubre. Además de lanzar el nuevo iPad Pro M2 de 2022, presentó también el iPad de décima generación, oficialmente iPad (2022). U… [+2780 chars]'},\n",
              "  {'source': {'id': None, 'name': 'Applesfera.com'},\n",
              "   'author': 'Miguel López',\n",
              "   'title': 'iOS 16.2 y macOS 13.1 estarán optimizados para Stable Diffusion: Apple Silicon quiere ser la mejor plataforma para ejecutarlo',\n",
              "   'description': 'Que los generadores de imágenes con motores de inteligencia artíficial están de moda es algo indiscutible. Muchos profesionales y aficionados se han lanzado a generar imágenes a partir de descripciones elaboradas, con resultados realmente impresionantes.\\n<!--…',\n",
              "   'url': 'https://www.applesfera.com/os-x/ios-16-2-macos-13-1-estaran-optimizados-para-stable-diffusion-apple-silicon-quiere-ser-mejor-plataforma-para-ejecutarlo',\n",
              "   'urlToImage': 'https://i.blogs.es/23186a/stable-diffusion-mac/840_560.jpeg',\n",
              "   'publishedAt': '2022-12-02T12:24:57Z',\n",
              "   'content': 'Que los generadores de imágenes con motores de inteligencia artíficial están de moda es algo indiscutible. Muchos profesionales y aficionados se han lanzado a generar imágenes a partir de descripcion… [+1362 chars]'},\n",
              "  {'source': {'id': None, 'name': 'Applesfera.com'},\n",
              "   'author': 'Miguel López',\n",
              "   'title': 'Apple y China han tenido un idilio desde hace décadas. Ahora eso empieza a cambiar',\n",
              "   'description': 'Designed by Apple in California, assembled in China. Esta es la frase que, de un modo u otro, llevamos viendo grabada en los productos de Apple desde que un servidor atravesaba su adolescencia. Las ideas y el diseño nacen en Cupertino, pero de la producción e…',\n",
              "   'url': 'https://www.applesfera.com/apple-1/apple-china-han-tenido-idilio-hace-decadas-ahora-eso-empieza-a-cambiar',\n",
              "   'urlToImage': 'https://i.blogs.es/f92746/china-apple/840_560.jpeg',\n",
              "   'publishedAt': '2022-12-02T10:48:41Z',\n",
              "   'content': 'Designed by Apple in California, assembled in China. Esta es la frase que, de un modo u otro, llevamos viendo grabada en los productos de Apple desde que un servidor atravesaba su adolescencia. Las i… [+4511 chars]'},\n",
              "  {'source': {'id': None, 'name': 'Applesfera.com'},\n",
              "   'author': 'David Bernal Raspall',\n",
              "   'title': 'Apple sigue puliendo las notificaciones de iOS 16. En la última beta es más fácil acceder a las antiguas',\n",
              "   'description': 'Ayer, Apple lanzó la cuarta beta de iOS 16.2 y del resto de sistemas operativos. Una versión beta que prácticamente no trae cambio alguno, excepto por un pequeño detalle en la gestión de las notificaciones. Un cambio, que facilita poder acceder a aquellas más…',\n",
              "   'url': 'https://www.applesfera.com/desarrollo-de-software/apple-sigue-puliendo-notificaciones-ios-16-ultima-beta-facil-acceder-a-antiguas',\n",
              "   'urlToImage': 'https://i.blogs.es/58f8b8/hero/840_560.jpeg',\n",
              "   'publishedAt': '2022-12-02T14:41:05Z',\n",
              "   'content': 'Ayer, Apple lanzó la cuarta beta de iOS 16.2 y del resto de sistemas operativos. Una versión beta que prácticamente no trae cambio alguno, excepto por un pequeño detalle en la gestión de las notifica… [+2114 chars]'},\n",
              "  {'source': {'id': None, 'name': 'Applesfera.com'},\n",
              "   'author': 'David Bernal Raspall',\n",
              "   'title': 'Comprimir un PDF en nuestro iPhone, iPad o Mac es cuestión de segundos gracias a estas herramientas',\n",
              "   'description': 'Los archivos PDF se han convertido en un estándar para enviar prácticamente cualquier tipo de archivo de texto o imagen. Y, aunque cada vez podemos enviar archivos de mayor tamaño de forma realmente sencilla, por ejemplo usando AirDrop o también Mail Drop, al…',\n",
              "   'url': 'https://www.applesfera.com/tutoriales/comprimir-pdf-nuestro-iphone-ipad-mac-cuestion-segundos-gracias-a-estas-herramientas',\n",
              "   'urlToImage': 'https://i.blogs.es/e4a42c/hero/840_560.png',\n",
              "   'publishedAt': '2022-12-02T07:46:01Z',\n",
              "   'content': 'Los archivos PDF se han convertido en un estándar para enviar prácticamente cualquier tipo de archivo de texto o imagen. Y, aunque cada vez podemos enviar archivos de mayor tamaño de forma realmente … [+2963 chars]'},\n",
              "  {'source': {'id': None, 'name': 'Presse-citron'},\n",
              "   'author': 'Romain Vitt',\n",
              "   'title': 'Cette application promet d’échanger des iMessage sur Android',\n",
              "   'description': 'Les développeurs de l’application Sunbird promettent d’envoyer et recevoir des iMessage (normalement limités aux smartphones Apple) depuis un smartphone Android.',\n",
              "   'url': 'https://www.presse-citron.net/?p=528817',\n",
              "   'urlToImage': 'https://www.presse-citron.net/app/uploads/2021/06/Apple-Focus-iMessages.jpg',\n",
              "   'publishedAt': '2022-12-02T15:30:27Z',\n",
              "   'content': 'Bulle bleue ou bulle verte\\xa0? Les utilisateurs diPhone ont pris pour habitude de reconnaître leurs interlocuteurs eux aussi équipés dun smartphone Pommé grâce au code couleur diMessage. En bleu les me… [+2675 chars]'},\n",
              "  {'source': {'id': None, 'name': 'Golem.de'},\n",
              "   'author': 'Martin Böckmann',\n",
              "   'title': 'Apple Silicon: Mutmaßlicher Geekbench-Score zum Apple M2 Max aufgetaucht',\n",
              "   'description': 'Die nächste Generation des Macbook Pro scheint in die Testphase übergegangen zu sein. Darauf deutet zumindest ein Testergebnis aus der Datenbank von Geekbench hin. (Apple Silicon, Apple)',\n",
              "   'url': 'https://www.golem.de/sonstiges/zustimmung/auswahl.html?from=https%3A%2F%2Fwww.golem.de%2Fnews%2Fapple-silicon-mutmasslicher-geekbench-score-zum-apple-m2-max-aufgetaucht-2212-170210.html&referer=https%3A%2F%2Ft.co%2F9a8d0d4524',\n",
              "   'urlToImage': None,\n",
              "   'publishedAt': '2022-12-02T12:30:02Z',\n",
              "   'content': 'Besuchen Sie Golem.de wie gewohnt mit Werbung und Tracking, indem Sie der Nutzung aller Cookies zustimmen.\\r\\n Details zum Tracking finden Sie im Privacy Center.\\r\\nSkript wurde nicht geladen. Informatio… [+575 chars]'},\n",
              "  {'source': {'id': None, 'name': 'Pitchfork'},\n",
              "   'author': 'Rob Arcand, Madison Bloom',\n",
              "   'title': '5 New Albums You Should Listen to Now: Metro Boomin, 100 gecs, BTS’ RM, and More',\n",
              "   'description': 'Stream new releases from Metro Boomin, 100 gecs, RM, Babyface Ray, and Chris Abrahams',\n",
              "   'url': 'https://pitchfork.com/news/5-new-albums-you-should-listen-to-now-metro-boomin-100-gecs-bts-rm/',\n",
              "   'urlToImage': 'https://media.pitchfork.com/photos/638a06bb4015f5cd566270eb/16:9/w_1280,c_limit/Metro-Boomin.jpg',\n",
              "   'publishedAt': '2022-12-02T14:09:07Z',\n",
              "   'content': 'With so much good music being released all the time, it can be hard to determine what to listen to first. Every week, Pitchfork offers a run-down of significant new releases available on streaming se… [+1114 chars]'},\n",
              "  {'source': {'id': None, 'name': 'XDA Developers'},\n",
              "   'author': 'Mahmoud Itani',\n",
              "   'title': 'Does the Apple iPad Pro M2 have a 3.5mm headphone jack?',\n",
              "   'description': \"Apple revealed the iPad Pro M2 through a Press Release in 2022. Here's what you need to know about the availability of a 3.5mm headphone jack on it.\",\n",
              "   'url': 'https://www.xda-developers.com/apple-ipad-pro-headphone-jack/',\n",
              "   'urlToImage': 'https://static1.xdaimages.com/wordpress/wp-content/uploads/2021/05/DSC05240-2.jpg',\n",
              "   'publishedAt': '2022-12-02T01:00:16Z',\n",
              "   'content': 'Apple revealed the iPad Pro M2 through a Press Release in October 2022. This highest-end 2022 tablet from the company is available in 11-inch and 12.9-inch variants. This gives power users the choice… [+1863 chars]'},\n",
              "  {'source': {'id': None, 'name': 'The A.V. Club'},\n",
              "   'author': 'Saloni Gajjar',\n",
              "   'title': '6 things you have to watch on TV this weekend',\n",
              "   'description': 'Welcome to the weekend edition of What’s On. Here are the big things happening on TV from Friday, December 2, to Sunday, December 4. All times are Eastern. [Note: The weekly What’s On will publish on Sundays.]Read more...',\n",
              "   'url': 'https://www.avclub.com/whats-on-tv-dec-2-4-slow-horses-season-2-riches-1849814307',\n",
              "   'urlToImage': 'https://i.kinja-img.com/gawker-media/image/upload/c_fill,f_auto,fl_progressive,g_center,h_675,pg_1,q_80,w_1200/e94c8a0d444414c29b764dfdc9feb790.png',\n",
              "   'publishedAt': '2022-12-02T12:00:00Z',\n",
              "   'content': 'Welcome to the weekend edition of Whats On. Here are the big things happening on TV from Friday, December 2, to Sunday, December 4. All times are Eastern. [Note: The weekly Whats On will publish on S… [+2722 chars]'},\n",
              "  {'source': {'id': None, 'name': 'HYPEBEAST'},\n",
              "   'author': 'info@hypebeast.com (Hypebeast)',\n",
              "   'title': 'Apple Is Compensating MacBook Users With Butterfly Keyboards',\n",
              "   'description': 'From 2015 to 2019, Apple looked to upgrade its laptops with the butterfly keyboard. Unfortunately, the low-travel keyboard plagued users with a series of issues when typing. The design utilized across MacBooks, MacBook Airs, and MacBook Pros was prone to accu…',\n",
              "   'url': 'https://hypebeast.com/2022/12/apple-macbook-butterfly-keyboard-compensation-info',\n",
              "   'urlToImage': 'https://image-cdn.hypb.st/https%3A%2F%2Fhypebeast.com%2Fimage%2F2022%2F12%2Fapple-macbook-butterfly-keyboard-compensation-info-tw.jpg?w=960&cbr=1&q=90&fit=max',\n",
              "   'publishedAt': '2022-12-02T06:24:19Z',\n",
              "   'content': 'From 2015 to 2019, Apple looked to upgrade its laptops with the butterfly keyboard. Unfortunately, the low-travel keyboard plagued users with a series of issues when typing. The design utilized acros… [+1337 chars]'},\n",
              "  {'source': {'id': None, 'name': 'HYPEBEAST'},\n",
              "   'author': 'info@hypebeast.com (Hypebeast)',\n",
              "   'title': \"Metro Boomin Delivers Star-Studded Album 'HEROES & VILLAINS'\",\n",
              "   'description': 'Metro Boomin takes on both sides of good and evil in his newest album, HEROES & VILLAINS.Clocking in at approximately 50 minutes, the 15-track project features heavy-hitting guest appearances from the likes of Future and Chris Brown on \"Superhero (Heroes & Vi…',\n",
              "   'url': 'https://hypebeast.com/2022/12/metro-boomin-heroes-and-villains-album-stream',\n",
              "   'urlToImage': 'https://image-cdn.hypb.st/https%3A%2F%2Fhypebeast.com%2Fimage%2F2022%2F12%2Fmetro-boomin-heroes-and-villains-album-stream-tw.jpg?w=960&cbr=1&q=90&fit=max',\n",
              "   'publishedAt': '2022-12-02T05:03:12Z',\n",
              "   'content': 'Metro Boomin takes on both sides of good and evil in his newest album, HEROES &amp; VILLAINS.\\r\\nClocking in at approximately 50 minutes, the 15-track project features heavy-hitting guest appearances f… [+1346 chars]'},\n",
              "  {'source': {'id': None, 'name': 'HYPEBEAST'},\n",
              "   'author': 'info@hypebeast.com (Hypebeast)',\n",
              "   'title': \"RM Delivers Stellar Debut Studio Album 'Indigo'\",\n",
              "   'description': 'RM of BTS has officially dropped off his debut studio album, Indigo.Clocking in at approximately 30 minutes, the stunning 10-track project features a star-studded list of guest appearances from Erykah Badu on the opener \"Yun,\"\\xa0Anderson .Paak on \"Still Life,\" …',\n",
              "   'url': 'https://hypebeast.com/2022/12/bts-rm-indigo-album-stream',\n",
              "   'urlToImage': 'https://image-cdn.hypb.st/https%3A%2F%2Fhypebeast.com%2Fimage%2F2022%2F12%2Ftw-a-bts-rm-indigo-album-stream.jpg?w=960&cbr=1&q=90&fit=max',\n",
              "   'publishedAt': '2022-12-02T05:20:38Z',\n",
              "   'content': 'RM of BTS has officially dropped off his debut studio album, Indigo.\\r\\nClocking in at approximately 30 minutes, the stunning 10-track project features a star-studded list of guest appearances from Ery… [+1278 chars]'},\n",
              "  {'source': {'id': None, 'name': 'Presse-citron'},\n",
              "   'author': 'Setra',\n",
              "   'title': 'BeReal rafle l’Oscar de l’App Store et du Play Store, doublé symbolique',\n",
              "   'description': 'Le réseau social français BeReal est l’application iPhone de l’année, selon Apple. Il est également récompensé par Google.',\n",
              "   'url': 'https://www.presse-citron.net/bereal-rafle-loscar-de-lapp-store-et-du-play-store-double-symbolique/',\n",
              "   'urlToImage': 'https://www.presse-citron.net/app/uploads/2022/07/BeReal-Memories.jpg',\n",
              "   'publishedAt': '2022-12-02T09:00:41Z',\n",
              "   'content': 'Et si le prochain grand réseau social était français\\xa0? Aujourdhui, on a de plus en plus de bonnes raisons dy croire. Depuis un moment, les médias ne cessent en effet dévoquer une plateforme émergente… [+2542 chars]'},\n",
              "  {'source': {'id': None, 'name': 'Presse-citron'},\n",
              "   'author': 'Setra',\n",
              "   'title': 'Disponible sur iPhone 14, cette fonctionnalité vient de sauver une vie',\n",
              "   'description': 'La communication par satellite sur iPhone 14 arrive en France, ce mois de décembre. En Alaska, elle a déjà sauvé une vie.',\n",
              "   'url': 'https://www.presse-citron.net/disponible-sur-iphone-14-cette-fonctionnalite-vient-de-sauver-une-vie/',\n",
              "   'urlToImage': 'https://www.presse-citron.net/app/uploads/2022/10/test-iphone-14-plus-capteurs-photo.jpg',\n",
              "   'publishedAt': '2022-12-02T10:30:57Z',\n",
              "   'content': 'Ces dernières années, Apple a fait de la santé de ses utilisateurs, et de leur sécurité, un cheval de bataille. Par exemple, sur lApple Watch, les capteurs peuvent être utilisés pour détecter des mal… [+3855 chars]'},\n",
              "  {'source': {'id': None, 'name': 'Presse-citron'},\n",
              "   'author': 'Romain Vitt',\n",
              "   'title': 'Paramount+\\xa0: prix, catalogue, tout savoir sur cette nouvelle menace pour Netflix',\n",
              "   'description': 'Paramount+ débarque en France\\xa0! Ce nouveau service de streaming vient donc menacer Netflix, Disney+ ou Amazon Prime Video. Prix, catalogue, interface, voici tout ce qu’il faut savoir.',\n",
              "   'url': 'https://www.presse-citron.net/?p=528771',\n",
              "   'urlToImage': 'https://www.presse-citron.net/app/uploads/2022/12/paramount-plus-tout-savoir.jpg',\n",
              "   'publishedAt': '2022-12-02T11:45:01Z',\n",
              "   'content': 'Disponible dans d’autres pays du monde depuis plusieurs mois déjà, Paramount+ est enfin disponible en France. Depuis le 1er décembre 2022, le service de streaming des studios Paramount est donc acces… [+5102 chars]'},\n",
              "  {'source': {'id': None, 'name': 'HYPEBEAST'},\n",
              "   'author': 'info@hypebeast.com (Hypebeast)',\n",
              "   'title': 'Best New Tracks: Metro Boomin, A$AP Rocky, RM and More',\n",
              "   'description': 'As the week in music comes to a close, HYPEBEAST has rounded up the best projects for the latest installment of Best New Tracks.This week’s lineup is led by Metro Boomin, RM and A$AP Rocky, who each released the albums\\xa0Heroes and Villains\\xa0and\\xa0Indigo\\xa0and the s…',\n",
              "   'url': 'https://hypebeast.com/2022/12/best-new-tracks-metro-boomin-rm-asap-rocky',\n",
              "   'urlToImage': 'https://image-cdn.hypb.st/https%3A%2F%2Fhypebeast.com%2Fimage%2F2022%2F12%2Ftw-best-new-tracks-metro-boomin-rm-asap-rocky.jpg?w=960&cbr=1&q=90&fit=max',\n",
              "   'publishedAt': '2022-12-02T09:28:23Z',\n",
              "   'content': 'As the week in music comes to a close, HYPEBEAST has rounded up the best projects for the latest installment ofBest New Tracks.\\r\\nThis weeks lineup is led by Metro Boomin, RM and A$AP Rocky, who each … [+5136 chars]'},\n",
              "  {'source': {'id': None, 'name': 'HYPEBEAST'},\n",
              "   'author': 'info@hypebeast.com (Hypebeast)',\n",
              "   'title': \"Elon Musk Announces Neuralink's First Human Trials\",\n",
              "   'description': 'Following notes of development progress, Neuralink, the brain-control interfaces (BCI) company co-founded by Elon Musk is now gearing up for its first human trials. The trials are expected to test Neuralink\\'s \"sewing machine-like\" implantation robot first unv…',\n",
              "   'url': 'https://hypebeast.com/2022/12/elon-musk-neuralink-first-human-trials-announcement-info',\n",
              "   'urlToImage': 'https://image-cdn.hypb.st/https%3A%2F%2Fhypebeast.com%2Fimage%2F2022%2F12%2Felon-musk-neuralink-first-human-trials-announcement-info-tw.jpg?w=960&cbr=1&q=90&fit=max',\n",
              "   'publishedAt': '2022-12-02T09:39:01Z',\n",
              "   'content': 'Following notes of development progress, Neuralink, the brain-control interfaces (BCI) company co-founded by Elon Musk is now gearing up for its first human trials. The trials are expected to test Ne… [+715 chars]'},\n",
              "  {'source': {'id': None, 'name': 'BGR'},\n",
              "   'author': 'José Adorno',\n",
              "   'title': 'Apple Car Keys can be shared with Google Pixel, more Android phones support coming soon',\n",
              "   'description': 'Apple Car Keys is one of the most exciting features of the iPhone’s Wallet as it shows how close we are to having our smartphone …\\nThe post Apple Car Keys can be shared with Google Pixel, more Android phones support coming soon appeared first on BGR.',\n",
              "   'url': 'https://bgr.com/tech/apple-car-keys-can-be-shared-with-google-pixel-more-android-phones-support-coming-soon/',\n",
              "   'urlToImage': 'https://bgr.com/wp-content/uploads/2022/12/apple-car-keys-wallet-iphone-bgr.jpg?quality=82&strip=all',\n",
              "   'publishedAt': '2022-12-02T05:34:54Z',\n",
              "   'content': 'Apple Car Keys is one of the most exciting features of the iPhone’s Wallet as it shows how close we are to having our smartphone as our only device. Although the number of cars that currently support… [+1672 chars]'},\n",
              "  {'source': {'id': None, 'name': 'BGR'},\n",
              "   'author': 'José Adorno',\n",
              "   'title': 'Coinbase Wallet app says Apple blocked update for offering NFTs without in-app purchases',\n",
              "   'description': 'Another day, another controversy regarding App Store policies. This time, Coinbase Wallet, an app to secure your crypto wallet, has posted a long thread on …\\nThe post Coinbase Wallet app says Apple blocked update for offering NFTs without in-app purchases app…',\n",
              "   'url': 'https://bgr.com/tech/coinbase-wallet-app-says-apple-blocked-update-for-offering-nfts-without-in-app-purchases/',\n",
              "   'urlToImage': 'https://bgr.com/wp-content/uploads/2022/12/coinbase-wallet-bgr.jpg?quality=82&strip=all',\n",
              "   'publishedAt': '2022-12-02T12:16:44Z',\n",
              "   'content': 'Another day, another controversy regarding App Store policies. This time, Coinbase Wallet, an app to secure your crypto wallet, has posted a long thread on Twitter saying Apple blocked its latest upd… [+1909 chars]'},\n",
              "  {'source': {'id': None, 'name': 'BGR'},\n",
              "   'author': 'Joe Wituschek',\n",
              "   'title': 'Apple’s mixed-reality headset could be powered by ‘xrOS’',\n",
              "   'description': 'If you were looking forward to Craig Federighi walking up on stage at WWDC 2023 and introducing realityOS, you may be in for a disappointing …\\nThe post Apple’s mixed-reality headset could be powered by ‘xrOS’ appeared first on BGR.',\n",
              "   'url': 'https://bgr.com/tech/apples-mixed-reality-headset-could-be-powered-by-xros/',\n",
              "   'urlToImage': 'https://bgr.com/wp-content/uploads/2021/10/render-of-apple-ar-vr-headset.jpg?quality=82&strip=all',\n",
              "   'publishedAt': '2022-12-02T00:05:24Z',\n",
              "   'content': 'If you were looking forward to Craig Federighi walking up on stage at WWDC 2023 and introducing realityOS, you may be in for a disappointing moment.\\r\\nAs reported by Bloomberg, the company could intro… [+2398 chars]'},\n",
              "  {'source': {'id': None, 'name': 'BGR'},\n",
              "   'author': 'Andy Meek',\n",
              "   'title': 'Slow Horses, one of the best spy shows on TV, returns to Apple’s streamer Friday',\n",
              "   'description': 'Jackson Lamb — as portrayed by Gary Oldman in the Apple TV Plus series Slow Horses — is not your average spy. The miserable head …\\nThe post Slow Horses, one of the best spy shows on TV, returns to Apple’s streamer Friday appeared first on BGR.',\n",
              "   'url': 'https://bgr.com/entertainment/slow-horses-one-of-the-best-spy-shows-on-tv-returns-to-apples-streamer-friday/',\n",
              "   'urlToImage': 'https://bgr.com/wp-content/uploads/2022/12/rsz_1slow_horses_photo_020202.jpg?quality=82&strip=all',\n",
              "   'publishedAt': '2022-12-02T00:02:00Z',\n",
              "   'content': 'Jackson Lamb — as portrayed by Gary Oldman in the Apple TV Plus series Slow Horses — is not your average spy. The miserable head of an MI5 outpost for washed-up spooks and analysts that the agency ha… [+2167 chars]'},\n",
              "  {'source': {'id': None, 'name': 'BGR'},\n",
              "   'author': 'Maren Estrada',\n",
              "   'title': 'Today’s deals: Free Amazon credit, $20 MyQ, $18 Tile Mate, $90 off Bose 700 headphones, more',\n",
              "   'description': 'Cyber Week is coming to an end, and so many of the best deals are going to disappear along with it. The good news is …\\nThe post Today’s deals: Free Amazon credit, $20 MyQ, $18 Tile Mate, $90 off Bose 700 headphones, more appeared first on BGR.',\n",
              "   'url': 'https://bgr.com/deals/todays-deals-free-amazon-credit-20-myq-18-tile-mate-90-off-bose-700-headphones-more/',\n",
              "   'urlToImage': 'https://bgr.com/wp-content/uploads/2022/02/bgr-deals-of-the-day-2022-5.jpg?quality=82&strip=all',\n",
              "   'publishedAt': '2022-12-02T14:27:00Z',\n",
              "   'content': 'If you purchase an independently reviewed product or service through a link on our website, we may receive an affiliate commission. Learn more.\\r\\nCyber Week is coming to an end, and so many of the bes… [+5210 chars]'},\n",
              "  {'source': {'id': None, 'name': 'BGR'},\n",
              "   'author': 'José Adorno',\n",
              "   'title': 'Password keeper app LastPass just got hacked again',\n",
              "   'description': 'If there’s an app that shouldn’t get hacked is the one you use to store your passwords and credentials. Unfortunately, LastPass seems to be having …\\nThe post Password keeper app LastPass just got hacked again appeared first on BGR.',\n",
              "   'url': 'https://bgr.com/tech/password-keeper-app-lastpass-just-got-hacked-again/',\n",
              "   'urlToImage': 'https://bgr.com/wp-content/uploads/2022/12/lastpass-hacked-bgr.jpg?quality=82&strip=all',\n",
              "   'publishedAt': '2022-12-02T14:34:21Z',\n",
              "   'content': 'If there’s an app that shouldn’t get hacked is the one you use to store your passwords and credentials. Unfortunately, LastPass seems to be having a bad year, as this is the second time the company h… [+1906 chars]'},\n",
              "  {'source': {'id': None, 'name': 'BGR'},\n",
              "   'author': 'Joe Wituschek',\n",
              "   'title': 'Android drops a ton of new features for the holidays',\n",
              "   'description': 'Android has gone above and beyond to surprise everyone with a host of new features to celebrate the holiday season. In a blog post, the …\\nThe post Android drops a ton of new features for the holidays appeared first on BGR.',\n",
              "   'url': 'https://bgr.com/tech/android-drops-a-ton-of-new-features-for-the-holidays/',\n",
              "   'urlToImage': 'https://bgr.com/wp-content/uploads/2022/12/android-holiday-features-2022.png',\n",
              "   'publishedAt': '2022-12-02T00:28:32Z',\n",
              "   'content': 'Android has gone above and beyond to surprise everyone with a host of new features to celebrate the holiday season.\\r\\nIn a blog post, the company announced that it released a number of new features fo… [+2072 chars]'},\n",
              "  {'source': {'id': None, 'name': 'iMore'},\n",
              "   'author': 'heyimjoew@gmail.com (Joe Wituschek)',\n",
              "   'title': 'Select Apple Card users can save 5% on Apple products this holiday season',\n",
              "   'description': 'Apple has launched a new promotion that gives new Apple Card users 5% off on Apple products through December 25.',\n",
              "   'url': 'https://www.imore.com/apple/select-apple-card-users-can-save-5-on-apple-products-this-holiday-season',\n",
              "   'urlToImage': 'https://cdn.mos.cms.futurecdn.net/UtHNXSA5nfdJq63aEKzVS7-1200-80.jpg',\n",
              "   'publishedAt': '2022-12-02T01:34:29Z',\n",
              "   'content': \"Apple is out with its latest promotion for Apple Card, the company's credit card.\\r\\nToday, Apple Card has launched a new offer for select Apple Card cardholders. With the offer, users can grab 5% in D… [+1662 chars]\"},\n",
              "  {'source': {'id': None, 'name': 'iMore'},\n",
              "   'author': 'gerald.lynch@futurenet.com (Gerald Lynch)',\n",
              "   'title': 'Here’s why the new iPad 10th gen won’t work with the latest Apple Pencil 2',\n",
              "   'description': 'iFixit teardown reveals why the Apple Pencil 2 won’t play nicely with the 10th generation iPad.',\n",
              "   'url': 'https://www.imore.com/ipad/heres-why-the-new-ipad-10th-gen-wont-work-with-the-latest-apple-pencil-2',\n",
              "   'urlToImage': 'https://cdn.mos.cms.futurecdn.net/qPkScGwnXp6NEJjL6cwf5i-1200-80.jpg',\n",
              "   'publishedAt': '2022-12-02T12:01:00Z',\n",
              "   'content': 'There’s lots to love about the new iPad, with its more Pro-like design and neat new color options. But that Pencil-to-dongle fiasco? Yeah, not a good look, as we explained in our iPad (2022) review.\\r… [+1598 chars]'},\n",
              "  {'source': {'id': None, 'name': 'iMore'},\n",
              "   'author': 'Graham.Barlow@futurenet.com (Graham Barlow)',\n",
              "   'title': 'Best Apple Watch sleep tracking apps: here to help you have a more restful night',\n",
              "   'description': 'Feel like your Apple Watch and iPhone could be doing more to help you sleep? That’s why you need these third party sleep trackers.',\n",
              "   'url': 'https://www.imore.com/health-fitness/apple-watch/best-apple-watch-sleep-tracking-apps',\n",
              "   'urlToImage': 'https://cdn.mos.cms.futurecdn.net/dzA9dfrMZ396nmQMdGXYSV-1200-80.jpg',\n",
              "   'publishedAt': '2022-12-02T14:55:33Z',\n",
              "   'content': 'If you’re finding yourself nodding off in the afternoon, or waking up feeling like you’ve only just gone to bed, then what you need is a report on your sleep quality to find out what’s happening. If … [+6861 chars]'},\n",
              "  {'source': {'id': None, 'name': 'iMore'},\n",
              "   'author': 'heyimjoew@gmail.com (Joe Wituschek)',\n",
              "   'title': 'The App Store is staying open over the holidays for developers',\n",
              "   'description': 'Apple has announced that App Store Connect will stay open over the holidays for developers to submit new and updated apps.',\n",
              "   'url': 'https://www.imore.com/apple/the-app-store-is-staying-open-over-the-holidays-for-developers',\n",
              "   'urlToImage': 'https://cdn.mos.cms.futurecdn.net/gQNnebCEZKyfcLzRdfbt83-1200-80.jpg',\n",
              "   'publishedAt': '2022-12-02T03:07:24Z',\n",
              "   'content': \"If you're a developer looking to submit a new app or change to an existing one late in December, Apple is going to be there for you.\\r\\nIn a news update (opens in new tab) on the Apple Developer websit… [+1529 chars]\"},\n",
              "  {'source': {'id': None, 'name': 'iMore'},\n",
              "   'author': 'heyimjoew@gmail.com (Joe Wituschek)',\n",
              "   'title': \"Apple has changed the name of its mixed-reality headset's operating system to 'xrOS'\",\n",
              "   'description': 'A new report says that Apple\\'s mixed-reality headset could be powered by \"xrOS.\"',\n",
              "   'url': 'https://www.imore.com/apple/apple-has-changed-the-name-of-its-mixed-reality-headsets-operating-system-to-xros',\n",
              "   'urlToImage': 'https://cdn.mos.cms.futurecdn.net/BeSUZHWGq3L2zXXrcmu2cj-1200-80.jpg',\n",
              "   'publishedAt': '2022-12-02T00:47:58Z',\n",
              "   'content': 'Apple\\'s mixed-reality headset could be powered by...wait for it...\"xrOS.\"\\r\\nAccording to a report by Bloomberg, the company has changed the name of the operating system that will power its long-rumore… [+1654 chars]'},\n",
              "  {'source': {'id': None, 'name': 'iMore'},\n",
              "   'author': 'gerald.lynch@futurenet.com (Gerald Lynch)',\n",
              "   'title': 'Change your passwords — LastPass has been hacked, again (and Apple Passkeys can’t come quick enough)',\n",
              "   'description': \"Another LastPass hack represents a big opportunity for Apple's nascent Passkeys security system)\",\n",
              "   'url': 'https://www.imore.com/apps/change-your-passwords-lastpass-has-been-hacked-again-and-apple-passkeys-cant-come-quick-enough',\n",
              "   'urlToImage': 'https://cdn.mos.cms.futurecdn.net/qM8hc4kqzaRe6PeZVrcjzD-1200-80.jpg',\n",
              "   'publishedAt': '2022-12-02T10:24:33Z',\n",
              "   'content': 'For a company that’s supposed to keep your digital secrets safe, LastPass sure is having a hard time of it recently. The password management service has revealed that it’s been hacked… again.\\r\\nIt’s t… [+2545 chars]'},\n",
              "  {'source': {'id': None, 'name': 'iMore'},\n",
              "   'author': 'heyimjoew@gmail.com (Joe Wituschek)',\n",
              "   'title': \"iPhone 14's Emergency SOS via satellite feature saves man stranded in Alaska\",\n",
              "   'description': \"The iPhone 14's Emergency SOS via satellite feature helped Alaska State Troopers save a man stranded in Alaska.\",\n",
              "   'url': 'https://www.imore.com/iphone/iphone-14s-emergency-sos-via-satellite-feature-saves-man-stranded-in-alaska',\n",
              "   'urlToImage': 'https://cdn.mos.cms.futurecdn.net/pQCKWgfbxXpsNUMkX43tMe-1200-80.jpg',\n",
              "   'publishedAt': '2022-12-02T01:59:28Z',\n",
              "   'content': \"The iPhone 14's Emergency SOS via satellite feature was launched last month and, according to a new report, it has already saved at least one person.\\r\\nAs reported by the Department of Public Safety, … [+1796 chars]\"},\n",
              "  {'source': {'id': None, 'name': 'iMore'},\n",
              "   'author': 'karefree2@yahoo.com (Karen S Freeman)',\n",
              "   'title': 'Belkin BoostCharge Pro Wireless Car Charger with MagSafe review: Power on the go',\n",
              "   'description': \"It's sleek, powerful, and so simple to use, but is it everything you've been hoping for in a car charger?\",\n",
              "   'url': 'https://www.imore.com/accessories/belkin-boostcharge-pro-wireless-car-charger-with-magsafe-review-power-on-the-go',\n",
              "   'urlToImage': 'https://cdn.mos.cms.futurecdn.net/AnPvhmqmDhQcTGEDntJi7V-1200-80.jpeg',\n",
              "   'publishedAt': '2022-12-02T10:58:40Z',\n",
              "   'content': \"Apple introduced MagSafe charging with the iPhone 12 lineup, a wireless charging system with powerful magnets so you can charge your iPhone wirelessly even in a vertical position. It's quite a conven… [+6644 chars]\"},\n",
              "  {'source': {'id': 'politico', 'name': 'Politico'},\n",
              "   'author': 'Rebecca Kern',\n",
              "   'title': 'Musk drops the bipartisan pose — and Republicans cheer',\n",
              "   'description': 'Twitter’s new CEO has aligned himself with the GOP and welcomed back far right-wing users as Democratic scrutiny escalates.',\n",
              "   'url': 'https://www.politico.com/news/2022/12/02/musk-gop-twitter-moves-00071758',\n",
              "   'urlToImage': 'https://static.politico.com/ab/bf/614c892047f6acd72b6d1c7252a3/tesla-model-y-05862.jpg',\n",
              "   'publishedAt': '2022-12-02T09:30:00Z',\n",
              "   'content': 'Though he still says hes after balance in Washington, hes come down hard on the Republican side and the party is now treating him as a convert. The informal alliance has already paid some early polit… [+7688 chars]'},\n",
              "  {'source': {'id': None, 'name': 'MacRumors'},\n",
              "   'author': 'Juli Clover',\n",
              "   'title': \"Apple's iPhone 14 Emergency SOS via Satellite Feature Saves Stranded Man in Alaska\",\n",
              "   'description': 'With the launch of iOS 16.1, Apple rolled out a Emergency SOS via Satellite, which is designed to allow iPhone 14 owners to contact emergency services using satellite connectivity when no cellular or WiFi connection is available. The feature was put to the te…',\n",
              "   'url': 'https://www.macrumors.com/2022/12/01/iphone-14-satellite-sos-in-action/',\n",
              "   'urlToImage': 'https://images.macrumors.com/t/NiqVm75fJdfBoWGMCBRbMJjPAU0=/3564x/article-new/2022/11/Emergency-SOS-via-Satellite-iPhone-YT.jpg',\n",
              "   'publishedAt': '2022-12-02T00:37:03Z',\n",
              "   'content': 'With the launch of iOS 16.1, Apple rolled out a Emergency SOS via Satellite, which is designed to allow iPhone 14 owners to contact emergency services using satellite connectivity when no cellular or… [+1803 chars]'},\n",
              "  {'source': {'id': None, 'name': 'Les Numériques'},\n",
              "   'author': 'Rémi Jacquet',\n",
              "   'title': 'Actualité : Le Samsung Galaxy S20 FE 5G intègre notre guide des meilleurs smartphones Apple et Samsung',\n",
              "   'description': \"Notre guide des meilleurs smartphones Apple et Samsung, dans la catégorie des smartphones / téléphones portables (Téléphonie), vient d'être mis à jour. Le Galaxy S20 FE 5G de Samsung y fait son entrée.\",\n",
              "   'url': 'https://www.lesnumeriques.com/telephone-portable/le-samsung-galaxy-s20-fe-5g-integre-notre-guide-des-meilleurs-smartphones-apple-et-samsung-ng199867.html',\n",
              "   'urlToImage': 'https://cdn.lesnumeriques.com/optim/test/15/155213/f9c951bd-samsung-galaxy-s20-fe-un-galaxy-s20-au-juste-prix__1200_630__overflow.jpeg',\n",
              "   'publishedAt': '2022-12-02T12:32:07Z',\n",
              "   'content': 'Le Samsung Galaxy S20 Fan Edition apparait comme une version plus pragmatique du Galaxy S20. Une fiche technique construite sur l\\'avis des \"fans\" et qui comporte notamment un SoC Qualcomm, réclamé pa… [+545 chars]'},\n",
              "  {'source': {'id': None, 'name': 'Xatakamovil.com'},\n",
              "   'author': 'Álvaro García M.',\n",
              "   'title': 'El mejor OnePlus calidad-precio rebajado, el Xiaomi más barato con Android y más ofertas en móviles y accesorios. Cazando Gangas',\n",
              "   'description': 'Aunque ya ha pasado el Black Friday seguimos encontrando buenos descuentos en smartphones y accesorios, ya sean de la resaca del Cyber Monday o descuentos habituales. Y tal vez no tantísimas ofertas como la semana pasada, pero sí unas cuantas muy interesantes…',\n",
              "   'url': 'https://www.xatakamovil.com/guias-de-compra/mejor-oneplus-calidad-precio-rebajado-xiaomi-barato-android-ofertas-moviles-accesorios-cazando-gangas',\n",
              "   'urlToImage': 'https://i.blogs.es/f7b8f7/gangas-oneplus-nord-2t/840_560.jpg',\n",
              "   'publishedAt': '2022-12-02T11:16:40Z',\n",
              "   'content': 'Aunque ya ha pasado el Black Friday seguimos encontrando buenos descuentos en smartphones y accesorios, ya sean de la resaca del Cyber Monday o descuentos habituales. Y tal vez no tantísimas ofertas … [+5124 chars]'},\n",
              "  {'source': {'id': None, 'name': 'tagesschau.de'},\n",
              "   'author': 'tagesschau',\n",
              "   'title': 'Rechtes Netzwerk: Parler-Kauf durch Kanye West abgeblasen',\n",
              "   'description': 'Kanye West wird das rechte Online-Netzwerk Parler nicht übernehmen. Das hat der Betreiber bekanntgegeben. Auf Twitter wurde der Rapper wegen Anstiftung zu Gewalt gesperrt. Zuvor hatte er ein Hakenkreuz-Bild gepostet.',\n",
              "   'url': 'https://www.tagesschau.de/wirtschaft/parler-kauf-kanye-west-abgeblasen-online-netzwerk-101.html',\n",
              "   'urlToImage': 'https://www.tagesschau.de/multimedia/bilder/kanye-west-maga-kappe-101~_v-original.jpg',\n",
              "   'publishedAt': '2022-12-02T07:51:22Z',\n",
              "   'content': 'Kanye West wird das rechte Online-Netzwerk Parler nicht übernehmen. Das hat der Betreiber bekanntgegeben. Auf Twitter wurde der Rapper wegen Anstiftung zu Gewalt gesperrt. Zuvor hatte er ein Hakenkre… [+2558 chars]'},\n",
              "  {'source': {'id': None, 'name': 'Caschys Blog'},\n",
              "   'author': 'André Westphal',\n",
              "   'title': 'Besitzer von LG-Smart-TVs erhalten 3 Monate Apple TV+ gratis',\n",
              "   'description': 'Solltet ihr einen Smart-TV von LG ab dem Betriebssystem webOS 4.0 besitzen, dann gibt es derzeit ein Bonbon für euch: Ihr erhaltet 3 Monate Apple TV+ gratis. Achtung, es gibt aber einen Stolperstein: Dieses Probeabo richtet sich nur an Neukunden....Zum Beitra…',\n",
              "   'url': 'https://stadt-bremerhaven.de/besitzer-von-lg-smart-tvs-erhalten-3-monate-apple-tv-gratis/',\n",
              "   'urlToImage': 'https://stadt-bremerhaven.de/wp-content/uploads/2022/12/LG-Apple-TV-Plus.jpg',\n",
              "   'publishedAt': '2022-12-02T11:00:14Z',\n",
              "   'content': 'Solltet ihr einen Smart-TV von LG ab dem Betriebssystem webOS 4.0 besitzen, dann gibt es derzeit ein Bonbon für euch: Ihr erhaltet 3 Monate Apple TV+ gratis. Achtung, es gibt aber einen Stolperstein:… [+1867 chars]'},\n",
              "  {'source': {'id': None, 'name': 'Caschys Blog'},\n",
              "   'author': 'Olli',\n",
              "   'title': 'Apple TV+: Teaser-Trailer zur Serie „Shrinking“ mit Jason Segel und Harrison Ford erschienen',\n",
              "   'description': 'Apple ist gerade dabei, mit den aus Ted Lasso bekannten Größen Bill Lawrence und Brett Goldstein und dem How-I-Met-Your-Mother-Star Jason Segel eine Serie namens „Shrinking“ zu produzieren.\\xa0Während Goldstein und Lawrence das Drehbuch und die Produktion überne…',\n",
              "   'url': 'https://stadt-bremerhaven.de/apple-tv-teaser-trailer-zur-serie-shrinking-mit-jason-segel-und-harrison-ford-erschienen/',\n",
              "   'urlToImage': 'https://stadt-bremerhaven.de/wp-content/uploads/2022/12/Shrinking_Photo_010403.jpg',\n",
              "   'publishedAt': '2022-12-02T14:30:41Z',\n",
              "   'content': 'Apple ist gerade dabei, mit den aus Ted Lasso bekannten Größen Bill Lawrence und Brett Goldstein und dem How-I-Met-Your-Mother-Star Jason Segel eine Serie namens Shrinking zu produzieren.\\xa0Während Gol… [+1197 chars]'},\n",
              "  {'source': {'id': None, 'name': 'Caschys Blog'},\n",
              "   'author': 'caschy',\n",
              "   'title': 'Kalender-App Fantastical wird noch teurer',\n",
              "   'description': 'Vor einigen Jahren war die Kalender-App Fantastical Favorit vieler Anwender. Die App, mittlerweile auf iPhone, iPad und Mac vorzufinden, wechselte dann auf das Abo-Modell. Prinzipiell nichts Schlechtes, denn so zahlt man nur, so lange man nutzt – und die Entw…',\n",
              "   'url': 'https://stadt-bremerhaven.de/kalender-app-fantastical-wird-noch-teurer/',\n",
              "   'urlToImage': 'https://stadt-bremerhaven.de/wp-content/uploads/2022/12/fantastical_.jpg',\n",
              "   'publishedAt': '2022-12-02T14:00:26Z',\n",
              "   'content': 'Vor einigen Jahren war die Kalender-App Fantastical Favorit vieler Anwender. Die App, mittlerweile auf iPhone, iPad und Mac vorzufinden, wechselte dann auf das Abo-Modell.\\r\\nPrinzipiell nichts Schlech… [+1381 chars]'},\n",
              "  {'source': {'id': None, 'name': 'Caschys Blog'},\n",
              "   'author': 'caschy',\n",
              "   'title': 'Mediacenter: Kodi 20 Beta 1 veröffentlicht',\n",
              "   'description': 'Solltet ihr Lust und Laune haben, dann lasst euch flott ins Boot holen: Mittlerweile ist das Mediacenter Kodi 20 erschienen – allerdings ist da erst einmal die erste Beta zu haben. Wer sich da berufen fühlt, auf irgendeiner Plattform eine...Zum Beitrag: Media…',\n",
              "   'url': 'https://stadt-bremerhaven.de/mediacenter-kodi-20-beta-1-veroeffentlicht/',\n",
              "   'urlToImage': 'https://stadt-bremerhaven.de/wp-content/uploads/2022/12/kodi-20-_.jpg',\n",
              "   'publishedAt': '2022-12-02T15:00:16Z',\n",
              "   'content': 'Solltet ihr Lust und Laune haben, dann lasst euch flott ins Boot holen: Mittlerweile ist das Mediacenter Kodi 20 erschienen – allerdings ist da erst einmal die erste Beta zu haben. Wer sich da berufe… [+978 chars]'},\n",
              "  {'source': {'id': None, 'name': 'IndieWire'},\n",
              "   'author': 'Ben Travers',\n",
              "   'title': 'The Best TV Shows of 2022',\n",
              "   'description': 'In another year overwhelmed by TV, 2022’s finest series kept finding ways to surprise us.',\n",
              "   'url': 'https://www.indiewire.com/feature/best-tv-shows-2022-list-1234735872/',\n",
              "   'urlToImage': 'https://www.indiewire.com/wp-content/uploads/2022/09/Best-TV-Shows-of-2022.jpg?w=780',\n",
              "   'publishedAt': '2022-12-02T15:15:24Z',\n",
              "   'content': 'When it’s all said and done, historians may look back on 2022 as the year TV’s bubble finally burst. The industry’s collective reevaluation of streaming is already leading to tighter budgets and “mod… [+31281 chars]'},\n",
              "  {'source': {'id': None, 'name': 'Frandroid'},\n",
              "   'author': 'Cassim Ketfi',\n",
              "   'title': 'Après iOS et macOS, on connait le nom du prochain système d’exploitation d’Apple',\n",
              "   'description': \"Bloomberg a de nouvelles informations sur le projet de lunettes connectées d'Apple. À la fois prévues pour la réalité augmentée et la réalité virtuelle, les lunettes auraient le droit à un nouveau système d'exploitation.Ce ne sera finalement pas RealityOS qui…\",\n",
              "   'url': 'https://www.frandroid.com/marques/apple/1555828_apres-ios-et-macos-on-connait-le-nom-du-prochain-systeme-dexploitation-dapple',\n",
              "   'urlToImage': 'https://images.frandroid.com/wp-content/uploads/2021/11/apple-imac-m1-2021-test-14-scaled.jpg',\n",
              "   'publishedAt': '2022-12-02T08:07:38Z',\n",
              "   'content': \"Bloomberg a de nouvelles informations sur le projet de lunettes connectées d'Apple. À la fois prévues pour la réalité augmentée et la réalité virtuelle, les lunettes auraient le droit à un nouveau sy… [+2056 chars]\"},\n",
              "  {'source': {'id': None, 'name': 'Wwwhatsnew.com'},\n",
              "   'author': 'Juan Diego Polo',\n",
              "   'title': 'xrOS, el software de Realidad Mixta de Apple',\n",
              "   'description': 'Apple sigue trabajando con sus proyectos de Realidad Mixta, aunque está tardando mucho en presentar un producto disponible en el mercado. El caso es que parece que esa presentación se acerca, ya que plena presentar las gafas de Realidad Mixta o Realidad Virtu…',\n",
              "   'url': 'https://wwwhatsnew.com/2022/12/02/xros-el-software-de-realidad-mixta-de-apple/',\n",
              "   'urlToImage': 'https://wwwhatsnew.com/wp-content/uploads/2022/12/xros.jpg',\n",
              "   'publishedAt': '2022-12-02T11:00:48Z',\n",
              "   'content': 'Apple sigue trabajando con sus proyectos de Realidad Mixta, aunque está tardando mucho en presentar un producto disponible en el mercado.\\r\\nEl caso es que parece que esa presentación se acerca, ya que… [+1325 chars]'},\n",
              "  {'source': {'id': None, 'name': 'Wwwhatsnew.com'},\n",
              "   'author': 'Miriam Schuager',\n",
              "   'title': 'Esta app de Epic Games convierte en modelos 3D cualquier objeto que escanees con el móvil',\n",
              "   'description': 'La app de Epic Games, que permite convertir imágenes de cualquier objeto en modelos 3D, ya está disponible para todos los usuarios de iOS. Una app simple de usar, que no requiere de ningún software adicional. Solo tienes que usar tu iPhone para escanear objet…',\n",
              "   'url': 'https://wwwhatsnew.com/2022/12/02/esta-app-de-epic-games-convierte-en-modelos-3d-cualquier-objeto-que-escanees-con-el-movil/',\n",
              "   'urlToImage': 'https://wwwhatsnew.com/wp-content/uploads/2022/12/RealityScan.jpg',\n",
              "   'publishedAt': '2022-12-02T07:00:00Z',\n",
              "   'content': 'La app de Epic Games, que permite convertir imágenes de cualquier objeto en modelos 3D, ya está disponible para todos los usuarios de iOS.\\r\\nUna app simple de usar, que no requiere de ningún software … [+1839 chars]'},\n",
              "  {'source': {'id': None, 'name': 'Lifehacker.ru'},\n",
              "   'author': 'Дарья Бакина',\n",
              "   'title': 'Как перестать бояться публичных выступлений? Обсуждаем в подкасте «Кто бы говорил»',\n",
              "   'description': 'Боязнь публичных выступлений может стать серьёзной проблемой. Выяснили, как преодолеть трудности и выйти из сложившейся ситуации.',\n",
              "   'url': 'https://lifehacker.ru/kto-by-govoril-148/',\n",
              "   'urlToImage': 'https://cdn.lifehacker.ru/wp-content/uploads/2022/08/KBG-2-sajt-LX_1660558109-1280x640.png',\n",
              "   'publishedAt': '2022-12-02T12:30:34Z',\n",
              "   'content': '« » , , , .\\r\\n , , . , , , - . , , .\\r\\n01:34 .\\r\\n09:22 .\\r\\n13:57 , , .\\r\\n19:03 « » .\\r\\n27:33 - , .\\r\\n , , , , .\\r\\n « » , : Apple Podcasts, Google Podcasts, YouTube, «», «», CastboxSoundStream.'},\n",
              "  {'source': {'id': None, 'name': 'Ifanr.com'},\n",
              "   'author': '何, 嘉昕',\n",
              "   'title': '早报 | 苹果 XR 头显操作系统更名/马斯克演示猴子意念打字/国美回应被申请破产清算',\n",
              "   'description': '天涯社区辟谣「关停并终止服务」\\nSpaceX 发射首个私人月球着陆器#欢迎关注爱范儿官方微信公众号：爱范儿（微信号：ifanr），更多精彩内容第一时间为您奉上。\\n爱范儿 |\\n原文链接 ·\\n查看评论 ·\\n新浪微博',\n",
              "   'url': 'https://www.ifanr.com/1525045',\n",
              "   'urlToImage': 'https://s3.ifanr.com/wp-content/uploads/2022/12/12-1.jpg',\n",
              "   'publishedAt': '2022-12-02T00:23:15Z',\n",
              "   'content': '<ul><li></li><li></li><li> Twitter</li><li> XR </li><li> ofo 5 </li><li></li><li>SpaceX </li><li> 10 25%</li><li> HUAWEI Mate X2 5G </li><li> M2 Max Geekbench </li><li> iOS16.1.2 </li><li>Bose </li><… [+1608 chars]'},\n",
              "  {'source': {'id': None, 'name': '01net.com'},\n",
              "   'author': 'Florian Bayard',\n",
              "   'title': 'Voici pourquoi le nouvel iPad doit se contenter de l’ancien Apple Pencil',\n",
              "   'description': \"Le nouvel iPad 10 n'est pas compatible avec l'Apple Pencil 2. La tablette doit en effet se contenter de l'Apple Pencil de première génération... sorti en 2015. Apple n'a pas révélé les raisons de ce choix étonnant. Par contre, un démontage signé iFixit fait l…\",\n",
              "   'url': 'https://www.01net.com/actualites/voici-pourquoi-nouvel-ipad-doit-contenter-ancien-apple-pencil.html',\n",
              "   'urlToImage': 'https://www.01net.com/app/uploads/2022/12/ipad-10-pencil.jpg',\n",
              "   'publishedAt': '2022-12-02T13:35:53Z',\n",
              "   'content': 'Le nouvel iPad 10 n’est pas compatible avec l’Apple Pencil 2. La tablette doit en effet se contenter de l’Apple Pencil de première génération… sorti en 2015. Apple n’a pas révélé les raisons de ce ch… [+2490 chars]'},\n",
              "  {'source': {'id': None, 'name': '01net.com'},\n",
              "   'author': 'Adrian BRANCO',\n",
              "   'title': 'Voici le nom du système d’exploitation du futur casque de réalité mixte d’Apple',\n",
              "   'description': 'Après macOS, iOS et iPadOS on apprend que le futur système d’exploitation d’Apple s’appellerait xrOS. Un système conçu pour le futur casque de réalité mixte d’Apple dont le lancement pourrait avoir lieu l’an prochain.',\n",
              "   'url': 'https://www.01net.com/actualites/voici-le-nom-du-systeme-dexploitation-du-futur-casque-de-realite-mixte-dapple.html',\n",
              "   'urlToImage': 'https://www.01net.com/app/uploads/2022/12/MEA2-APple-xrOS.jpg',\n",
              "   'publishedAt': '2022-12-02T10:33:33Z',\n",
              "   'content': 'Après macOS, iOS et iPadOS on apprend que le futur système dexploitation dApple sappellerait xrOS. Un système conçu pour le futur casque de réalité mixte dApple dont le lancement pourrait avoir lieu … [+3232 chars]'},\n",
              "  {'source': {'id': None, 'name': '01net.com'},\n",
              "   'author': 'Geoffroy Ondet',\n",
              "   'title': 'Cette application prétend pouvoir apporter iMessage sur Android',\n",
              "   'description': 'Un nouveau client de messagerie compatible avec plusieurs services serait en mesure d’envoyer et des recevoir des iMessages d’Apple, comme sur un iPhone, sans ordinateur ou serveur tiers.',\n",
              "   'url': 'https://www.01net.com/actualites/cette-application-pretend-pouvoir-apporter-imessage-sur-android.html',\n",
              "   'urlToImage': 'https://www.01net.com/app/uploads/2022/12/SunbirdApp.jpg',\n",
              "   'publishedAt': '2022-12-02T11:17:52Z',\n",
              "   'content': 'Un nouveau client de messagerie compatible avec plusieurs services serait en mesure denvoyer et des recevoir des iMessages dApple, comme sur un iPhone, sans ordinateur ou serveur tiers.Des développeu… [+2938 chars]'},\n",
              "  {'source': {'id': None, 'name': 'Touchlab.jp'},\n",
              "   'author': 'Nakimo',\n",
              "   'title': '【25%還元】シリーズ最小「Anker 711 Charger 30W」がセール中',\n",
              "   'description': 'Amazonで、「Anker 711 Charger (30W)」の25%ポイント還元セールが開催されています。 この充電器は、「Anker Nano II 30W」の後継モデルにあたり、充電性能はそのままに次のような進 […]\\nThe post 【25%還元】シリーズ最小「Anker 711 Charger 30W」がセール中 first appeared on Touch Lab - タッチ ラボ.©2019 \"Touch Lab - タッチ ラボ\".',\n",
              "   'url': 'http://touchlab.jp/2022/12/anker_711_charger_sale_2022dec2/',\n",
              "   'urlToImage': 'http://touchlab.jp/wp-content/uploads/2022/11/anker_711_charger_25b.jpg',\n",
              "   'publishedAt': '2022-12-02T03:55:05Z',\n",
              "   'content': 'Amazonで、「Anker 711 Charger (30W)」の25%ポイント還元セールが開催されています。\\nこの充電器は、「Anker Nano II 30W」の後継モデルにあたり、充電性能はそのままに次のような進化を遂げています：\\n<ul>\\n<li>小型化：約30%</li>\\n<li>軽量化：約47g → 約34g</li>\\n</ul>\\nこれまで「Anker Nano IIシリーズ」の最… [+700 chars]'}]}"
            ]
          },
          "metadata": {},
          "execution_count": 29
        }
      ]
    },
    {
      "cell_type": "markdown",
      "source": [
        "## Wisconsin Newspaper Archive\n",
        "\n",
        "https://www.wisconsinhistory.org/wisconsinnewspapers\n",
        "for wisconsin residents only"
      ],
      "metadata": {
        "id": "FyhWCp18juGW"
      }
    },
    {
      "cell_type": "code",
      "source": [],
      "metadata": {
        "id": "yfs0xZJZjtwW"
      },
      "execution_count": null,
      "outputs": []
    },
    {
      "cell_type": "markdown",
      "source": [
        "## Mediastack\n",
        "\n",
        "https://mediastack.com/documentation"
      ],
      "metadata": {
        "id": "Aj5_EHOOoJ7b"
      }
    },
    {
      "cell_type": "code",
      "source": [
        "# Python 3\n",
        "import http.client, urllib.parse\n",
        "\n",
        "conn = http.client.HTTPConnection('api.mediastack.com')\n",
        "\n",
        "params = urllib.parse.urlencode({\n",
        "    'access_key': 'ACCESS_KEY',\n",
        "    # 'categories': '-general',\n",
        "    'keywords': 'Wisconsin',\n",
        "    'sort': 'published_desc',\n",
        "    'limit': 999999,\n",
        "    })\n",
        "\n",
        "conn.request('GET', '/v1/news?{}'.format(params))\n",
        "\n",
        "res = conn.getresponse()\n",
        "data = res.read()\n",
        "\n",
        "print(data.decode('utf-8'))"
      ],
      "metadata": {
        "id": "owfLOaNAoM3t"
      },
      "execution_count": null,
      "outputs": []
    },
    {
      "cell_type": "markdown",
      "source": [
        "# News: Wisconsin Disaster"
      ],
      "metadata": {
        "id": "AoftZOi27mg-"
      }
    },
    {
      "cell_type": "code",
      "source": [
        "googlenews.clear()\n",
        "googlenews.set_time_range('02/01/2017','11/30/2022')\n",
        "googlenews.get_news('Wisconsin Disaster')\n",
        "results = googlenews.results()\n",
        "len(results)"
      ],
      "metadata": {
        "colab": {
          "base_uri": "https://localhost:8080/"
        },
        "id": "C_Xru_TX7s9a",
        "outputId": "4f4664b1-555a-4fbb-a519-78d4dce56821"
      },
      "execution_count": 102,
      "outputs": [
        {
          "output_type": "execute_result",
          "data": {
            "text/plain": [
              "85"
            ]
          },
          "metadata": {},
          "execution_count": 102
        }
      ]
    },
    {
      "cell_type": "markdown",
      "source": [
        "# News: Wisconsin Weather"
      ],
      "metadata": {
        "id": "IhtHbGa79Y46"
      }
    },
    {
      "cell_type": "code",
      "source": [
        "googlenews.clear()\n",
        "googlenews.set_time_range('02/01/2017','11/30/2022')\n",
        "googlenews.get_news('Wisconsin Weather')\n",
        "results = googlenews.results()\n",
        "len(results)"
      ],
      "metadata": {
        "colab": {
          "base_uri": "https://localhost:8080/"
        },
        "id": "yR3w4-xy9c_k",
        "outputId": "08088bec-eba6-4d82-c796-4397b5c95dd2"
      },
      "execution_count": 99,
      "outputs": [
        {
          "output_type": "execute_result",
          "data": {
            "text/plain": [
              "94"
            ]
          },
          "metadata": {},
          "execution_count": 99
        }
      ]
    },
    {
      "cell_type": "code",
      "source": [
        "results[0]"
      ],
      "metadata": {
        "colab": {
          "base_uri": "https://localhost:8080/"
        },
        "id": "X5gJ-MwH9vtp",
        "outputId": "c1e4aa9b-fb65-4184-ac75-7e28bf895544"
      },
      "execution_count": 95,
      "outputs": [
        {
          "output_type": "execute_result",
          "data": {
            "text/plain": [
              "{'title': 'Southeast Wisconsin weather: Mild and windy Friday',\n",
              " 'desc': 'bookmark_border',\n",
              " 'date': '8 hours ago',\n",
              " 'datetime': datetime.datetime(2022, 12, 2, 9, 51, 24, 170646),\n",
              " 'link': 'news.google.com/./articles/CBMiZ2h0dHBzOi8vd3d3LnRtajQuY29tL3dlYXRoZXIvZm9yZWNhc3QvdG9kYXlzLWZvcmVjYXN0L3NvdXRoZWFzdC13aXNjb25zaW4td2VhdGhlci1taWxkLWFuZC13aW5keS1mcmlkYXnSAXFodHRwczovL3d3dy50bWo0LmNvbS93ZWF0aGVyL2ZvcmVjYXN0L3RvZGF5cy1mb3JlY2FzdC9zb3V0aGVhc3Qtd2lzY29uc2luLXdlYXRoZXItbWlsZC1hbmQtd2luZHktZnJpZGF5P19hbXA9dHJ1ZQ?hl=en-US&gl=US&ceid=US%3Aen',\n",
              " 'img': 'https://lh3.googleusercontent.com/proxy/lSVQoEXn4ijlfzVvTDRHzRdOOM6yOAngkLpKXAplVOw416KNGl_4dMvWA23YJGtGTnG34LkE8Bfw236uygyk2ubo7VDyfALWXEX8-CIyTEdmWAyvpjb4eXKVLvbEJzGyaoHiTPpnByvSDkoKRbGlWPhnOl9mbIlrpb_tDweYAhoZQBqKOUB7bsGx9G8jQg-pRe-jwKdNmfZ2f5H2JGgajpBHW0TkJt8EtWBFP7Kjq3cdQ6F0Smd9Bk4IKKs=s0-w100-h100-dciUGS1pzpsQkC',\n",
              " 'media': None,\n",
              " 'site': None}"
            ]
          },
          "metadata": {},
          "execution_count": 95
        }
      ]
    },
    {
      "cell_type": "code",
      "source": [
        "results[-1]"
      ],
      "metadata": {
        "colab": {
          "base_uri": "https://localhost:8080/"
        },
        "id": "PtTVZ_wY90Vq",
        "outputId": "2c696c1a-6362-4982-ddf9-eef91be5f7f3"
      },
      "execution_count": 96,
      "outputs": [
        {
          "output_type": "execute_result",
          "data": {
            "text/plain": [
              "{'title': 'November begins quite warm!',\n",
              " 'desc': 'bookmark_border',\n",
              " 'date': 'Nov 1',\n",
              " 'datetime': nan,\n",
              " 'link': 'news.google.com/./articles/CBMiQWh0dHBzOi8vd3d3LndlYXJlZ3JlZW5iYXkuY29tL3dlYXRoZXIvbm92ZW1iZXItYmVnaW5zLXF1aXRlLXdhcm0v0gFFaHR0cHM6Ly93d3cud2VhcmVncmVlbmJheS5jb20vd2VhdGhlci9ub3ZlbWJlci1iZWdpbnMtcXVpdGUtd2FybS9hbXAv?hl=en-US&gl=US&ceid=US%3Aen',\n",
              " 'img': 'https://lh3.googleusercontent.com/proxy/1FaOt_EXGa7W06l417unE5cwD2TSQOb0gur0wCvBofV_2WxgdKo_c0DwqwXkOGZX7vg4u8QXGmN4xK_Y2IjjyH7OvJXyCttywrYugTfZE498f89yzbOaavXn41lkAdduGuWyM1VvA3PssITLIq99YQ=s0-w100-h100-dcmQKSUSEI',\n",
              " 'media': None,\n",
              " 'site': None}"
            ]
          },
          "metadata": {},
          "execution_count": 96
        }
      ]
    },
    {
      "cell_type": "code",
      "source": [
        "df = pd.DataFrame(results)\n",
        "df.head()"
      ],
      "metadata": {
        "colab": {
          "base_uri": "https://localhost:8080/",
          "height": 669
        },
        "id": "ar2e4Ge1_dui",
        "outputId": "f9b8325b-13e8-4356-ed8d-076872aaf1d4"
      },
      "execution_count": 100,
      "outputs": [
        {
          "output_type": "execute_result",
          "data": {
            "text/plain": [
              "                                               title             desc  \\\n",
              "0  Southeast Wisconsin weather: Mild and windy Fr...  bookmark_border   \n",
              "1  Southeast Wisconsin weather: Cloudy Friday wit...  bookmark_border   \n",
              "2  Friday, December 2 weather update for southern...  bookmark_border   \n",
              "3  Winter weather with rain-snow mix impacting SE...  bookmark_border   \n",
              "4  Winter storm will slam northwest Wisconsin on ...  bookmark_border   \n",
              "\n",
              "           date                   datetime  \\\n",
              "0   8 hours ago 2022-12-02 10:06:32.497223   \n",
              "1  15 hours ago 2022-12-02 03:06:32.497934   \n",
              "2   4 hours ago 2022-12-02 14:06:32.498476   \n",
              "3        Nov 15                        NaT   \n",
              "4    3 days ago 2022-11-29 18:06:32.499551   \n",
              "\n",
              "                                                link  \\\n",
              "0  news.google.com/./articles/CBMiZ2h0dHBzOi8vd3d...   \n",
              "1  news.google.com/./articles/CBMibGh0dHBzOi8vd3d...   \n",
              "2  news.google.com/./articles/CBMiigFodHRwczovL2x...   \n",
              "3  news.google.com/./articles/CBMiWWh0dHBzOi8vd3d...   \n",
              "4  news.google.com/./articles/CBMiZGh0dHBzOi8vc3B...   \n",
              "\n",
              "                                                 img media  site  \n",
              "0  https://lh3.googleusercontent.com/proxy/lSVQoE...  None  None  \n",
              "1  https://lh3.googleusercontent.com/proxy/iKF4ty...  None  None  \n",
              "2  https://lh3.googleusercontent.com/proxy/3LFpfM...  None  None  \n",
              "3  https://lh3.googleusercontent.com/proxy/W2g-Om...  None  None  \n",
              "4  https://lh3.googleusercontent.com/proxy/ju3QKl...  None  None  "
            ],
            "text/html": [
              "\n",
              "  <div id=\"df-90ac1178-16f0-4e87-91f8-0ac29e2529b1\">\n",
              "    <div class=\"colab-df-container\">\n",
              "      <div>\n",
              "<style scoped>\n",
              "    .dataframe tbody tr th:only-of-type {\n",
              "        vertical-align: middle;\n",
              "    }\n",
              "\n",
              "    .dataframe tbody tr th {\n",
              "        vertical-align: top;\n",
              "    }\n",
              "\n",
              "    .dataframe thead th {\n",
              "        text-align: right;\n",
              "    }\n",
              "</style>\n",
              "<table border=\"1\" class=\"dataframe\">\n",
              "  <thead>\n",
              "    <tr style=\"text-align: right;\">\n",
              "      <th></th>\n",
              "      <th>title</th>\n",
              "      <th>desc</th>\n",
              "      <th>date</th>\n",
              "      <th>datetime</th>\n",
              "      <th>link</th>\n",
              "      <th>img</th>\n",
              "      <th>media</th>\n",
              "      <th>site</th>\n",
              "    </tr>\n",
              "  </thead>\n",
              "  <tbody>\n",
              "    <tr>\n",
              "      <th>0</th>\n",
              "      <td>Southeast Wisconsin weather: Mild and windy Fr...</td>\n",
              "      <td>bookmark_border</td>\n",
              "      <td>8 hours ago</td>\n",
              "      <td>2022-12-02 10:06:32.497223</td>\n",
              "      <td>news.google.com/./articles/CBMiZ2h0dHBzOi8vd3d...</td>\n",
              "      <td>https://lh3.googleusercontent.com/proxy/lSVQoE...</td>\n",
              "      <td>None</td>\n",
              "      <td>None</td>\n",
              "    </tr>\n",
              "    <tr>\n",
              "      <th>1</th>\n",
              "      <td>Southeast Wisconsin weather: Cloudy Friday wit...</td>\n",
              "      <td>bookmark_border</td>\n",
              "      <td>15 hours ago</td>\n",
              "      <td>2022-12-02 03:06:32.497934</td>\n",
              "      <td>news.google.com/./articles/CBMibGh0dHBzOi8vd3d...</td>\n",
              "      <td>https://lh3.googleusercontent.com/proxy/iKF4ty...</td>\n",
              "      <td>None</td>\n",
              "      <td>None</td>\n",
              "    </tr>\n",
              "    <tr>\n",
              "      <th>2</th>\n",
              "      <td>Friday, December 2 weather update for southern...</td>\n",
              "      <td>bookmark_border</td>\n",
              "      <td>4 hours ago</td>\n",
              "      <td>2022-12-02 14:06:32.498476</td>\n",
              "      <td>news.google.com/./articles/CBMiigFodHRwczovL2x...</td>\n",
              "      <td>https://lh3.googleusercontent.com/proxy/3LFpfM...</td>\n",
              "      <td>None</td>\n",
              "      <td>None</td>\n",
              "    </tr>\n",
              "    <tr>\n",
              "      <th>3</th>\n",
              "      <td>Winter weather with rain-snow mix impacting SE...</td>\n",
              "      <td>bookmark_border</td>\n",
              "      <td>Nov 15</td>\n",
              "      <td>NaT</td>\n",
              "      <td>news.google.com/./articles/CBMiWWh0dHBzOi8vd3d...</td>\n",
              "      <td>https://lh3.googleusercontent.com/proxy/W2g-Om...</td>\n",
              "      <td>None</td>\n",
              "      <td>None</td>\n",
              "    </tr>\n",
              "    <tr>\n",
              "      <th>4</th>\n",
              "      <td>Winter storm will slam northwest Wisconsin on ...</td>\n",
              "      <td>bookmark_border</td>\n",
              "      <td>3 days ago</td>\n",
              "      <td>2022-11-29 18:06:32.499551</td>\n",
              "      <td>news.google.com/./articles/CBMiZGh0dHBzOi8vc3B...</td>\n",
              "      <td>https://lh3.googleusercontent.com/proxy/ju3QKl...</td>\n",
              "      <td>None</td>\n",
              "      <td>None</td>\n",
              "    </tr>\n",
              "  </tbody>\n",
              "</table>\n",
              "</div>\n",
              "      <button class=\"colab-df-convert\" onclick=\"convertToInteractive('df-90ac1178-16f0-4e87-91f8-0ac29e2529b1')\"\n",
              "              title=\"Convert this dataframe to an interactive table.\"\n",
              "              style=\"display:none;\">\n",
              "        \n",
              "  <svg xmlns=\"http://www.w3.org/2000/svg\" height=\"24px\"viewBox=\"0 0 24 24\"\n",
              "       width=\"24px\">\n",
              "    <path d=\"M0 0h24v24H0V0z\" fill=\"none\"/>\n",
              "    <path d=\"M18.56 5.44l.94 2.06.94-2.06 2.06-.94-2.06-.94-.94-2.06-.94 2.06-2.06.94zm-11 1L8.5 8.5l.94-2.06 2.06-.94-2.06-.94L8.5 2.5l-.94 2.06-2.06.94zm10 10l.94 2.06.94-2.06 2.06-.94-2.06-.94-.94-2.06-.94 2.06-2.06.94z\"/><path d=\"M17.41 7.96l-1.37-1.37c-.4-.4-.92-.59-1.43-.59-.52 0-1.04.2-1.43.59L10.3 9.45l-7.72 7.72c-.78.78-.78 2.05 0 2.83L4 21.41c.39.39.9.59 1.41.59.51 0 1.02-.2 1.41-.59l7.78-7.78 2.81-2.81c.8-.78.8-2.07 0-2.86zM5.41 20L4 18.59l7.72-7.72 1.47 1.35L5.41 20z\"/>\n",
              "  </svg>\n",
              "      </button>\n",
              "      \n",
              "  <style>\n",
              "    .colab-df-container {\n",
              "      display:flex;\n",
              "      flex-wrap:wrap;\n",
              "      gap: 12px;\n",
              "    }\n",
              "\n",
              "    .colab-df-convert {\n",
              "      background-color: #E8F0FE;\n",
              "      border: none;\n",
              "      border-radius: 50%;\n",
              "      cursor: pointer;\n",
              "      display: none;\n",
              "      fill: #1967D2;\n",
              "      height: 32px;\n",
              "      padding: 0 0 0 0;\n",
              "      width: 32px;\n",
              "    }\n",
              "\n",
              "    .colab-df-convert:hover {\n",
              "      background-color: #E2EBFA;\n",
              "      box-shadow: 0px 1px 2px rgba(60, 64, 67, 0.3), 0px 1px 3px 1px rgba(60, 64, 67, 0.15);\n",
              "      fill: #174EA6;\n",
              "    }\n",
              "\n",
              "    [theme=dark] .colab-df-convert {\n",
              "      background-color: #3B4455;\n",
              "      fill: #D2E3FC;\n",
              "    }\n",
              "\n",
              "    [theme=dark] .colab-df-convert:hover {\n",
              "      background-color: #434B5C;\n",
              "      box-shadow: 0px 1px 3px 1px rgba(0, 0, 0, 0.15);\n",
              "      filter: drop-shadow(0px 1px 2px rgba(0, 0, 0, 0.3));\n",
              "      fill: #FFFFFF;\n",
              "    }\n",
              "  </style>\n",
              "\n",
              "      <script>\n",
              "        const buttonEl =\n",
              "          document.querySelector('#df-90ac1178-16f0-4e87-91f8-0ac29e2529b1 button.colab-df-convert');\n",
              "        buttonEl.style.display =\n",
              "          google.colab.kernel.accessAllowed ? 'block' : 'none';\n",
              "\n",
              "        async function convertToInteractive(key) {\n",
              "          const element = document.querySelector('#df-90ac1178-16f0-4e87-91f8-0ac29e2529b1');\n",
              "          const dataTable =\n",
              "            await google.colab.kernel.invokeFunction('convertToInteractive',\n",
              "                                                     [key], {});\n",
              "          if (!dataTable) return;\n",
              "\n",
              "          const docLinkHtml = 'Like what you see? Visit the ' +\n",
              "            '<a target=\"_blank\" href=https://colab.research.google.com/notebooks/data_table.ipynb>data table notebook</a>'\n",
              "            + ' to learn more about interactive tables.';\n",
              "          element.innerHTML = '';\n",
              "          dataTable['output_type'] = 'display_data';\n",
              "          await google.colab.output.renderOutput(dataTable, element);\n",
              "          const docLink = document.createElement('div');\n",
              "          docLink.innerHTML = docLinkHtml;\n",
              "          element.appendChild(docLink);\n",
              "        }\n",
              "      </script>\n",
              "    </div>\n",
              "  </div>\n",
              "  "
            ]
          },
          "metadata": {},
          "execution_count": 100
        }
      ]
    },
    {
      "cell_type": "code",
      "source": [
        "df.to_csv(\"wisconsin_weather.csv\")"
      ],
      "metadata": {
        "id": "l1Q37fykBQgn"
      },
      "execution_count": 101,
      "outputs": []
    },
    {
      "cell_type": "markdown",
      "source": [
        "# News: Wisconsin Healthcare Emergency"
      ],
      "metadata": {
        "id": "PfEWBDWs9_In"
      }
    },
    {
      "cell_type": "code",
      "source": [
        "googlenews.clear()\n",
        "googlenews.set_time_range('02/01/2017','11/30/2022')\n",
        "googlenews.get_news('Wisconsin Healthcare Emergency')\n",
        "results = googlenews.results()\n",
        "len(results)"
      ],
      "metadata": {
        "colab": {
          "base_uri": "https://localhost:8080/"
        },
        "id": "a8weJ_gm9-UD",
        "outputId": "68bc6e3f-4258-4232-837b-06a6dd1c54df"
      },
      "execution_count": 104,
      "outputs": [
        {
          "output_type": "execute_result",
          "data": {
            "text/plain": [
              "81"
            ]
          },
          "metadata": {},
          "execution_count": 104
        }
      ]
    },
    {
      "cell_type": "code",
      "source": [
        "df = pd.DataFrame(results)"
      ],
      "metadata": {
        "colab": {
          "base_uri": "https://localhost:8080/",
          "height": 669
        },
        "id": "Q_6M8pE8KJcj",
        "outputId": "cf09a547-0e69-4f31-d374-c12d74fc8387"
      },
      "execution_count": 106,
      "outputs": [
        {
          "output_type": "execute_result",
          "data": {
            "text/plain": [
              "                                                title             desc  \\\n",
              "76  Wisconsin medical ride provider bought by comp...  bookmark_border   \n",
              "77  Advocate Aurora Health hospital in Fond du Lac...  bookmark_border   \n",
              "78  Judge Lifts Order Preventing Wisconsin Hospita...  bookmark_border   \n",
              "79  Wisconsin health providers navigate a new worl...  bookmark_border   \n",
              "80  DHS reports 1,076 new COVID-19 cases in Wiscon...  bookmark_border   \n",
              "\n",
              "      date datetime                                               link  \\\n",
              "76  Jun 18      NaT  news.google.com/./articles/CBMisQFodHRwczovL21...   \n",
              "77  May 16      NaT  news.google.com/./articles/CBMigQFodHRwczovL3d...   \n",
              "78  Jan 24      NaT  news.google.com/./articles/CBMiRmh0dHBzOi8vd3d...   \n",
              "79  Jul 15      NaT  news.google.com/./articles/CBMicWh0dHBzOi8vd2l...   \n",
              "80  Sep 29      NaT  news.google.com/./articles/CBMihAFodHRwczovL3d...   \n",
              "\n",
              "                                                  img media  site  \n",
              "76  https://lh3.googleusercontent.com/proxy/3Xo7HI...  None  None  \n",
              "77  https://lh3.googleusercontent.com/proxy/t396gN...  None  None  \n",
              "78  https://lh3.googleusercontent.com/proxy/jY1yPk...  None  None  \n",
              "79  https://lh3.googleusercontent.com/proxy/qLaVLN...  None  None  \n",
              "80  https://lh3.googleusercontent.com/proxy/15SmQh...  None  None  "
            ],
            "text/html": [
              "\n",
              "  <div id=\"df-3925b430-b5fb-4125-9a0f-77040b3d90bd\">\n",
              "    <div class=\"colab-df-container\">\n",
              "      <div>\n",
              "<style scoped>\n",
              "    .dataframe tbody tr th:only-of-type {\n",
              "        vertical-align: middle;\n",
              "    }\n",
              "\n",
              "    .dataframe tbody tr th {\n",
              "        vertical-align: top;\n",
              "    }\n",
              "\n",
              "    .dataframe thead th {\n",
              "        text-align: right;\n",
              "    }\n",
              "</style>\n",
              "<table border=\"1\" class=\"dataframe\">\n",
              "  <thead>\n",
              "    <tr style=\"text-align: right;\">\n",
              "      <th></th>\n",
              "      <th>title</th>\n",
              "      <th>desc</th>\n",
              "      <th>date</th>\n",
              "      <th>datetime</th>\n",
              "      <th>link</th>\n",
              "      <th>img</th>\n",
              "      <th>media</th>\n",
              "      <th>site</th>\n",
              "    </tr>\n",
              "  </thead>\n",
              "  <tbody>\n",
              "    <tr>\n",
              "      <th>76</th>\n",
              "      <td>Wisconsin medical ride provider bought by comp...</td>\n",
              "      <td>bookmark_border</td>\n",
              "      <td>Jun 18</td>\n",
              "      <td>NaT</td>\n",
              "      <td>news.google.com/./articles/CBMisQFodHRwczovL21...</td>\n",
              "      <td>https://lh3.googleusercontent.com/proxy/3Xo7HI...</td>\n",
              "      <td>None</td>\n",
              "      <td>None</td>\n",
              "    </tr>\n",
              "    <tr>\n",
              "      <th>77</th>\n",
              "      <td>Advocate Aurora Health hospital in Fond du Lac...</td>\n",
              "      <td>bookmark_border</td>\n",
              "      <td>May 16</td>\n",
              "      <td>NaT</td>\n",
              "      <td>news.google.com/./articles/CBMigQFodHRwczovL3d...</td>\n",
              "      <td>https://lh3.googleusercontent.com/proxy/t396gN...</td>\n",
              "      <td>None</td>\n",
              "      <td>None</td>\n",
              "    </tr>\n",
              "    <tr>\n",
              "      <th>78</th>\n",
              "      <td>Judge Lifts Order Preventing Wisconsin Hospita...</td>\n",
              "      <td>bookmark_border</td>\n",
              "      <td>Jan 24</td>\n",
              "      <td>NaT</td>\n",
              "      <td>news.google.com/./articles/CBMiRmh0dHBzOi8vd3d...</td>\n",
              "      <td>https://lh3.googleusercontent.com/proxy/jY1yPk...</td>\n",
              "      <td>None</td>\n",
              "      <td>None</td>\n",
              "    </tr>\n",
              "    <tr>\n",
              "      <th>79</th>\n",
              "      <td>Wisconsin health providers navigate a new worl...</td>\n",
              "      <td>bookmark_border</td>\n",
              "      <td>Jul 15</td>\n",
              "      <td>NaT</td>\n",
              "      <td>news.google.com/./articles/CBMicWh0dHBzOi8vd2l...</td>\n",
              "      <td>https://lh3.googleusercontent.com/proxy/qLaVLN...</td>\n",
              "      <td>None</td>\n",
              "      <td>None</td>\n",
              "    </tr>\n",
              "    <tr>\n",
              "      <th>80</th>\n",
              "      <td>DHS reports 1,076 new COVID-19 cases in Wiscon...</td>\n",
              "      <td>bookmark_border</td>\n",
              "      <td>Sep 29</td>\n",
              "      <td>NaT</td>\n",
              "      <td>news.google.com/./articles/CBMihAFodHRwczovL3d...</td>\n",
              "      <td>https://lh3.googleusercontent.com/proxy/15SmQh...</td>\n",
              "      <td>None</td>\n",
              "      <td>None</td>\n",
              "    </tr>\n",
              "  </tbody>\n",
              "</table>\n",
              "</div>\n",
              "      <button class=\"colab-df-convert\" onclick=\"convertToInteractive('df-3925b430-b5fb-4125-9a0f-77040b3d90bd')\"\n",
              "              title=\"Convert this dataframe to an interactive table.\"\n",
              "              style=\"display:none;\">\n",
              "        \n",
              "  <svg xmlns=\"http://www.w3.org/2000/svg\" height=\"24px\"viewBox=\"0 0 24 24\"\n",
              "       width=\"24px\">\n",
              "    <path d=\"M0 0h24v24H0V0z\" fill=\"none\"/>\n",
              "    <path d=\"M18.56 5.44l.94 2.06.94-2.06 2.06-.94-2.06-.94-.94-2.06-.94 2.06-2.06.94zm-11 1L8.5 8.5l.94-2.06 2.06-.94-2.06-.94L8.5 2.5l-.94 2.06-2.06.94zm10 10l.94 2.06.94-2.06 2.06-.94-2.06-.94-.94-2.06-.94 2.06-2.06.94z\"/><path d=\"M17.41 7.96l-1.37-1.37c-.4-.4-.92-.59-1.43-.59-.52 0-1.04.2-1.43.59L10.3 9.45l-7.72 7.72c-.78.78-.78 2.05 0 2.83L4 21.41c.39.39.9.59 1.41.59.51 0 1.02-.2 1.41-.59l7.78-7.78 2.81-2.81c.8-.78.8-2.07 0-2.86zM5.41 20L4 18.59l7.72-7.72 1.47 1.35L5.41 20z\"/>\n",
              "  </svg>\n",
              "      </button>\n",
              "      \n",
              "  <style>\n",
              "    .colab-df-container {\n",
              "      display:flex;\n",
              "      flex-wrap:wrap;\n",
              "      gap: 12px;\n",
              "    }\n",
              "\n",
              "    .colab-df-convert {\n",
              "      background-color: #E8F0FE;\n",
              "      border: none;\n",
              "      border-radius: 50%;\n",
              "      cursor: pointer;\n",
              "      display: none;\n",
              "      fill: #1967D2;\n",
              "      height: 32px;\n",
              "      padding: 0 0 0 0;\n",
              "      width: 32px;\n",
              "    }\n",
              "\n",
              "    .colab-df-convert:hover {\n",
              "      background-color: #E2EBFA;\n",
              "      box-shadow: 0px 1px 2px rgba(60, 64, 67, 0.3), 0px 1px 3px 1px rgba(60, 64, 67, 0.15);\n",
              "      fill: #174EA6;\n",
              "    }\n",
              "\n",
              "    [theme=dark] .colab-df-convert {\n",
              "      background-color: #3B4455;\n",
              "      fill: #D2E3FC;\n",
              "    }\n",
              "\n",
              "    [theme=dark] .colab-df-convert:hover {\n",
              "      background-color: #434B5C;\n",
              "      box-shadow: 0px 1px 3px 1px rgba(0, 0, 0, 0.15);\n",
              "      filter: drop-shadow(0px 1px 2px rgba(0, 0, 0, 0.3));\n",
              "      fill: #FFFFFF;\n",
              "    }\n",
              "  </style>\n",
              "\n",
              "      <script>\n",
              "        const buttonEl =\n",
              "          document.querySelector('#df-3925b430-b5fb-4125-9a0f-77040b3d90bd button.colab-df-convert');\n",
              "        buttonEl.style.display =\n",
              "          google.colab.kernel.accessAllowed ? 'block' : 'none';\n",
              "\n",
              "        async function convertToInteractive(key) {\n",
              "          const element = document.querySelector('#df-3925b430-b5fb-4125-9a0f-77040b3d90bd');\n",
              "          const dataTable =\n",
              "            await google.colab.kernel.invokeFunction('convertToInteractive',\n",
              "                                                     [key], {});\n",
              "          if (!dataTable) return;\n",
              "\n",
              "          const docLinkHtml = 'Like what you see? Visit the ' +\n",
              "            '<a target=\"_blank\" href=https://colab.research.google.com/notebooks/data_table.ipynb>data table notebook</a>'\n",
              "            + ' to learn more about interactive tables.';\n",
              "          element.innerHTML = '';\n",
              "          dataTable['output_type'] = 'display_data';\n",
              "          await google.colab.output.renderOutput(dataTable, element);\n",
              "          const docLink = document.createElement('div');\n",
              "          docLink.innerHTML = docLinkHtml;\n",
              "          element.appendChild(docLink);\n",
              "        }\n",
              "      </script>\n",
              "    </div>\n",
              "  </div>\n",
              "  "
            ]
          },
          "metadata": {},
          "execution_count": 106
        }
      ]
    },
    {
      "cell_type": "code",
      "source": [
        "df.datetime.isna().sum()"
      ],
      "metadata": {
        "colab": {
          "base_uri": "https://localhost:8080/"
        },
        "id": "9LYFoz6BONee",
        "outputId": "9d234d30-37ac-4397-b352-daaac1bd9c02"
      },
      "execution_count": 107,
      "outputs": [
        {
          "output_type": "execute_result",
          "data": {
            "text/plain": [
              "59"
            ]
          },
          "metadata": {},
          "execution_count": 107
        }
      ]
    }
  ]
}