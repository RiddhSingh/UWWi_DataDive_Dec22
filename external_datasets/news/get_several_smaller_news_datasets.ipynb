{
  "nbformat": 4,
  "nbformat_minor": 0,
  "metadata": {
    "colab": {
      "provenance": [],
      "authorship_tag": "ABX9TyOtcZg0qLQbnIoCYlQ0yzZA",
      "include_colab_link": true
    },
    "kernelspec": {
      "name": "python3",
      "display_name": "Python 3"
    },
    "language_info": {
      "name": "python"
    }
  },
  "cells": [
    {
      "cell_type": "markdown",
      "metadata": {
        "id": "view-in-github",
        "colab_type": "text"
      },
      "source": [
        "<a href=\"https://colab.research.google.com/github/bsenst/UWWi_DataDive_Dec22/blob/main/external_datasets/news/get_several_smaller_news_datasets.ipynb\" target=\"_parent\"><img src=\"https://colab.research.google.com/assets/colab-badge.svg\" alt=\"Open In Colab\"/></a>"
      ]
    },
    {
      "cell_type": "code",
      "execution_count": 1,
      "metadata": {
        "colab": {
          "base_uri": "https://localhost:8080/"
        },
        "id": "nUpRIgcPU6-y",
        "outputId": "bd8fbf25-b05b-4254-f194-7e5e96500e92"
      },
      "outputs": [
        {
          "output_type": "stream",
          "name": "stdout",
          "text": [
            "Looking in indexes: https://pypi.org/simple, https://us-python.pkg.dev/colab-wheels/public/simple/\n",
            "Collecting GoogleNews\n",
            "  Downloading GoogleNews-1.6.5-py3-none-any.whl (8.0 kB)\n",
            "Collecting dateparser\n",
            "  Downloading dateparser-1.1.4-py2.py3-none-any.whl (292 kB)\n",
            "\u001b[K     |████████████████████████████████| 292 kB 8.6 MB/s \n",
            "\u001b[?25hRequirement already satisfied: python-dateutil in /usr/local/lib/python3.8/dist-packages (from GoogleNews) (2.8.2)\n",
            "Requirement already satisfied: beautifulsoup4 in /usr/local/lib/python3.8/dist-packages (from GoogleNews) (4.6.3)\n",
            "Requirement already satisfied: pytz in /usr/local/lib/python3.8/dist-packages (from dateparser->GoogleNews) (2022.6)\n",
            "Requirement already satisfied: tzlocal in /usr/local/lib/python3.8/dist-packages (from dateparser->GoogleNews) (1.5.1)\n",
            "Requirement already satisfied: regex!=2019.02.19,!=2021.8.27 in /usr/local/lib/python3.8/dist-packages (from dateparser->GoogleNews) (2022.6.2)\n",
            "Requirement already satisfied: six>=1.5 in /usr/local/lib/python3.8/dist-packages (from python-dateutil->GoogleNews) (1.15.0)\n",
            "Installing collected packages: dateparser, GoogleNews\n",
            "Successfully installed GoogleNews-1.6.5 dateparser-1.1.4\n"
          ]
        }
      ],
      "source": [
        "! pip install GoogleNews\n",
        "from GoogleNews import GoogleNews"
      ]
    },
    {
      "cell_type": "code",
      "source": [
        "import pandas as pd"
      ],
      "metadata": {
        "id": "Sxv0M1hAWxxq"
      },
      "execution_count": 8,
      "outputs": []
    },
    {
      "cell_type": "markdown",
      "source": [
        "# Wisconsin Disaster"
      ],
      "metadata": {
        "id": "RgdYVUqsWohY"
      }
    },
    {
      "cell_type": "code",
      "source": [
        "googlenews.clear()\n",
        "googlenews = GoogleNews(start='01/01/2017',end='11/30/2022')\n",
        "googlenews.get_news('Wisconsin Disaster')\n",
        "results = googlenews.results(sort=True)\n",
        "len(results)"
      ],
      "metadata": {
        "colab": {
          "base_uri": "https://localhost:8080/"
        },
        "id": "32Tq7p2DVbD3",
        "outputId": "c61af3a3-7ef0-48b1-dbed-bffd0964369c"
      },
      "execution_count": 4,
      "outputs": [
        {
          "output_type": "stream",
          "name": "stdout",
          "text": [
            "'<' not supported between instances of 'datetime.datetime' and 'float'\n"
          ]
        },
        {
          "output_type": "execute_result",
          "data": {
            "text/plain": [
              "85"
            ]
          },
          "metadata": {},
          "execution_count": 4
        }
      ]
    },
    {
      "cell_type": "code",
      "source": [
        "results[0]"
      ],
      "metadata": {
        "colab": {
          "base_uri": "https://localhost:8080/"
        },
        "id": "paVjtGgXWM9Y",
        "outputId": "765b24a8-d834-4766-9101-8cc4f7cae0ad"
      },
      "execution_count": 5,
      "outputs": [
        {
          "output_type": "execute_result",
          "data": {
            "text/plain": [
              "{'title': 'More than $37 billion in disaster aid under scrutiny in congressional lame duck',\n",
              " 'desc': 'bookmark_border',\n",
              " 'date': '2 days ago',\n",
              " 'datetime': datetime.datetime(2022, 11, 30, 19, 39, 15, 804738),\n",
              " 'link': 'news.google.com/./articles/CBMieGh0dHBzOi8vd2lzY29uc2luZXhhbWluZXIuY29tLzIwMjIvMTEvMzAvbW9yZS10aGFuLTM3LWJpbGxpb24taW4tZGlzYXN0ZXItYWlkLXVuZGVyLXNjcnV0aW55LWluLWNvbmdyZXNzaW9uYWwtbGFtZS1kdWNrL9IBAA?hl=en-US&gl=US&ceid=US%3Aen',\n",
              " 'img': 'https://lh3.googleusercontent.com/proxy/fMMTydvDs0ti743v77ytsrRgnHNkxnJhPZk4Q8mrXAVQAGrqdK-vjpym6W0_6Bvp706gjgaZ_GDELoMlG_p-m8fA0BXITp_9bxivsL_LRl7Cqa5uQTUz2GiU5lyzkbul5F6oGeWYhGLsu7MRMSFha1OUBEgJ=s0-w100-h100-dcgWCCUa0G',\n",
              " 'media': None,\n",
              " 'site': None}"
            ]
          },
          "metadata": {},
          "execution_count": 5
        }
      ]
    },
    {
      "cell_type": "markdown",
      "source": [
        "# Wisconsin Emergency"
      ],
      "metadata": {
        "id": "LovcqdYWWlfb"
      }
    },
    {
      "cell_type": "code",
      "source": [
        "googlenews.clear()\n",
        "googlenews = GoogleNews(start='01/01/2017',end='11/30/2022')\n",
        "googlenews.get_news('Wisconsin Emergency')\n",
        "results = googlenews.results(sort=True)\n",
        "len(results)"
      ],
      "metadata": {
        "colab": {
          "base_uri": "https://localhost:8080/"
        },
        "id": "7RZz6jgsWds5",
        "outputId": "ca241f22-6fe6-4feb-da2b-dc0bbf87f9ee"
      },
      "execution_count": 6,
      "outputs": [
        {
          "output_type": "stream",
          "name": "stdout",
          "text": [
            "'<' not supported between instances of 'datetime.datetime' and 'float'\n"
          ]
        },
        {
          "output_type": "execute_result",
          "data": {
            "text/plain": [
              "83"
            ]
          },
          "metadata": {},
          "execution_count": 6
        }
      ]
    },
    {
      "cell_type": "code",
      "source": [
        "df = pd.DataFrame(results)\n",
        "df.tail()"
      ],
      "metadata": {
        "colab": {
          "base_uri": "https://localhost:8080/",
          "height": 687
        },
        "id": "-Q48sw4qWsDI",
        "outputId": "fca08d9d-fbf4-4e8f-fd3a-ca3294acec3e"
      },
      "execution_count": 10,
      "outputs": [
        {
          "output_type": "execute_result",
          "data": {
            "text/plain": [
              "                                                title             desc  \\\n",
              "78  Evers announces $32 million in pandemic relief...  bookmark_border   \n",
              "79  Where to find Plan B in Wisconsin: Pharmacies ...  bookmark_border   \n",
              "80  Ultralight electric plane makes emergency land...  bookmark_border   \n",
              "81  Wisconsin Suicide and Crisis Lifeline implemen...  bookmark_border   \n",
              "82  Wisconsin DNR and partners take emergency acti...  bookmark_border   \n",
              "\n",
              "      date datetime                                               link  \\\n",
              "78  Sep 26      NaT  news.google.com/./articles/CBMifmh0dHBzOi8vd3d...   \n",
              "79  Jul 14      NaT  news.google.com/./articles/CBMijQFodHRwczovL3d...   \n",
              "80  Oct 21      NaT  news.google.com/./articles/CBMiZGh0dHBzOi8vd3d...   \n",
              "81  Sep 13      NaT  news.google.com/./articles/CBMibWh0dHBzOi8vYmF...   \n",
              "82  Oct 21      NaT  news.google.com/./articles/CBMic2h0dHBzOi8vd3d...   \n",
              "\n",
              "                                                  img media  site  \n",
              "78  https://lh3.googleusercontent.com/proxy/Wp6SD9...  None  None  \n",
              "79  https://lh3.googleusercontent.com/proxy/WKTnsm...  None  None  \n",
              "80  https://lh3.googleusercontent.com/proxy/8jEPoW...  None  None  \n",
              "81  https://lh3.googleusercontent.com/proxy/u03jqs...  None  None  \n",
              "82  https://lh3.googleusercontent.com/proxy/v-34sX...  None  None  "
            ],
            "text/html": [
              "\n",
              "  <div id=\"df-c1bc85d0-ccd4-47a0-9c4d-3a110d67d0d3\">\n",
              "    <div class=\"colab-df-container\">\n",
              "      <div>\n",
              "<style scoped>\n",
              "    .dataframe tbody tr th:only-of-type {\n",
              "        vertical-align: middle;\n",
              "    }\n",
              "\n",
              "    .dataframe tbody tr th {\n",
              "        vertical-align: top;\n",
              "    }\n",
              "\n",
              "    .dataframe thead th {\n",
              "        text-align: right;\n",
              "    }\n",
              "</style>\n",
              "<table border=\"1\" class=\"dataframe\">\n",
              "  <thead>\n",
              "    <tr style=\"text-align: right;\">\n",
              "      <th></th>\n",
              "      <th>title</th>\n",
              "      <th>desc</th>\n",
              "      <th>date</th>\n",
              "      <th>datetime</th>\n",
              "      <th>link</th>\n",
              "      <th>img</th>\n",
              "      <th>media</th>\n",
              "      <th>site</th>\n",
              "    </tr>\n",
              "  </thead>\n",
              "  <tbody>\n",
              "    <tr>\n",
              "      <th>78</th>\n",
              "      <td>Evers announces $32 million in pandemic relief...</td>\n",
              "      <td>bookmark_border</td>\n",
              "      <td>Sep 26</td>\n",
              "      <td>NaT</td>\n",
              "      <td>news.google.com/./articles/CBMifmh0dHBzOi8vd3d...</td>\n",
              "      <td>https://lh3.googleusercontent.com/proxy/Wp6SD9...</td>\n",
              "      <td>None</td>\n",
              "      <td>None</td>\n",
              "    </tr>\n",
              "    <tr>\n",
              "      <th>79</th>\n",
              "      <td>Where to find Plan B in Wisconsin: Pharmacies ...</td>\n",
              "      <td>bookmark_border</td>\n",
              "      <td>Jul 14</td>\n",
              "      <td>NaT</td>\n",
              "      <td>news.google.com/./articles/CBMijQFodHRwczovL3d...</td>\n",
              "      <td>https://lh3.googleusercontent.com/proxy/WKTnsm...</td>\n",
              "      <td>None</td>\n",
              "      <td>None</td>\n",
              "    </tr>\n",
              "    <tr>\n",
              "      <th>80</th>\n",
              "      <td>Ultralight electric plane makes emergency land...</td>\n",
              "      <td>bookmark_border</td>\n",
              "      <td>Oct 21</td>\n",
              "      <td>NaT</td>\n",
              "      <td>news.google.com/./articles/CBMiZGh0dHBzOi8vd3d...</td>\n",
              "      <td>https://lh3.googleusercontent.com/proxy/8jEPoW...</td>\n",
              "      <td>None</td>\n",
              "      <td>None</td>\n",
              "    </tr>\n",
              "    <tr>\n",
              "      <th>81</th>\n",
              "      <td>Wisconsin Suicide and Crisis Lifeline implemen...</td>\n",
              "      <td>bookmark_border</td>\n",
              "      <td>Sep 13</td>\n",
              "      <td>NaT</td>\n",
              "      <td>news.google.com/./articles/CBMibWh0dHBzOi8vYmF...</td>\n",
              "      <td>https://lh3.googleusercontent.com/proxy/u03jqs...</td>\n",
              "      <td>None</td>\n",
              "      <td>None</td>\n",
              "    </tr>\n",
              "    <tr>\n",
              "      <th>82</th>\n",
              "      <td>Wisconsin DNR and partners take emergency acti...</td>\n",
              "      <td>bookmark_border</td>\n",
              "      <td>Oct 21</td>\n",
              "      <td>NaT</td>\n",
              "      <td>news.google.com/./articles/CBMic2h0dHBzOi8vd3d...</td>\n",
              "      <td>https://lh3.googleusercontent.com/proxy/v-34sX...</td>\n",
              "      <td>None</td>\n",
              "      <td>None</td>\n",
              "    </tr>\n",
              "  </tbody>\n",
              "</table>\n",
              "</div>\n",
              "      <button class=\"colab-df-convert\" onclick=\"convertToInteractive('df-c1bc85d0-ccd4-47a0-9c4d-3a110d67d0d3')\"\n",
              "              title=\"Convert this dataframe to an interactive table.\"\n",
              "              style=\"display:none;\">\n",
              "        \n",
              "  <svg xmlns=\"http://www.w3.org/2000/svg\" height=\"24px\"viewBox=\"0 0 24 24\"\n",
              "       width=\"24px\">\n",
              "    <path d=\"M0 0h24v24H0V0z\" fill=\"none\"/>\n",
              "    <path d=\"M18.56 5.44l.94 2.06.94-2.06 2.06-.94-2.06-.94-.94-2.06-.94 2.06-2.06.94zm-11 1L8.5 8.5l.94-2.06 2.06-.94-2.06-.94L8.5 2.5l-.94 2.06-2.06.94zm10 10l.94 2.06.94-2.06 2.06-.94-2.06-.94-.94-2.06-.94 2.06-2.06.94z\"/><path d=\"M17.41 7.96l-1.37-1.37c-.4-.4-.92-.59-1.43-.59-.52 0-1.04.2-1.43.59L10.3 9.45l-7.72 7.72c-.78.78-.78 2.05 0 2.83L4 21.41c.39.39.9.59 1.41.59.51 0 1.02-.2 1.41-.59l7.78-7.78 2.81-2.81c.8-.78.8-2.07 0-2.86zM5.41 20L4 18.59l7.72-7.72 1.47 1.35L5.41 20z\"/>\n",
              "  </svg>\n",
              "      </button>\n",
              "      \n",
              "  <style>\n",
              "    .colab-df-container {\n",
              "      display:flex;\n",
              "      flex-wrap:wrap;\n",
              "      gap: 12px;\n",
              "    }\n",
              "\n",
              "    .colab-df-convert {\n",
              "      background-color: #E8F0FE;\n",
              "      border: none;\n",
              "      border-radius: 50%;\n",
              "      cursor: pointer;\n",
              "      display: none;\n",
              "      fill: #1967D2;\n",
              "      height: 32px;\n",
              "      padding: 0 0 0 0;\n",
              "      width: 32px;\n",
              "    }\n",
              "\n",
              "    .colab-df-convert:hover {\n",
              "      background-color: #E2EBFA;\n",
              "      box-shadow: 0px 1px 2px rgba(60, 64, 67, 0.3), 0px 1px 3px 1px rgba(60, 64, 67, 0.15);\n",
              "      fill: #174EA6;\n",
              "    }\n",
              "\n",
              "    [theme=dark] .colab-df-convert {\n",
              "      background-color: #3B4455;\n",
              "      fill: #D2E3FC;\n",
              "    }\n",
              "\n",
              "    [theme=dark] .colab-df-convert:hover {\n",
              "      background-color: #434B5C;\n",
              "      box-shadow: 0px 1px 3px 1px rgba(0, 0, 0, 0.15);\n",
              "      filter: drop-shadow(0px 1px 2px rgba(0, 0, 0, 0.3));\n",
              "      fill: #FFFFFF;\n",
              "    }\n",
              "  </style>\n",
              "\n",
              "      <script>\n",
              "        const buttonEl =\n",
              "          document.querySelector('#df-c1bc85d0-ccd4-47a0-9c4d-3a110d67d0d3 button.colab-df-convert');\n",
              "        buttonEl.style.display =\n",
              "          google.colab.kernel.accessAllowed ? 'block' : 'none';\n",
              "\n",
              "        async function convertToInteractive(key) {\n",
              "          const element = document.querySelector('#df-c1bc85d0-ccd4-47a0-9c4d-3a110d67d0d3');\n",
              "          const dataTable =\n",
              "            await google.colab.kernel.invokeFunction('convertToInteractive',\n",
              "                                                     [key], {});\n",
              "          if (!dataTable) return;\n",
              "\n",
              "          const docLinkHtml = 'Like what you see? Visit the ' +\n",
              "            '<a target=\"_blank\" href=https://colab.research.google.com/notebooks/data_table.ipynb>data table notebook</a>'\n",
              "            + ' to learn more about interactive tables.';\n",
              "          element.innerHTML = '';\n",
              "          dataTable['output_type'] = 'display_data';\n",
              "          await google.colab.output.renderOutput(dataTable, element);\n",
              "          const docLink = document.createElement('div');\n",
              "          docLink.innerHTML = docLinkHtml;\n",
              "          element.appendChild(docLink);\n",
              "        }\n",
              "      </script>\n",
              "    </div>\n",
              "  </div>\n",
              "  "
            ]
          },
          "metadata": {},
          "execution_count": 10
        }
      ]
    },
    {
      "cell_type": "code",
      "source": [
        "df.to_csv(\"Wisconsin_Emergency.csv\")"
      ],
      "metadata": {
        "id": "8XXGLS9KXGlP"
      },
      "execution_count": 11,
      "outputs": []
    },
    {
      "cell_type": "code",
      "source": [
        "googlenews.clear()\n",
        "googlenews = GoogleNews(start='01/01/2017', end='11/30/2022', lang='en', region='US', encode='utf-8')\n",
        "search_term = input(\"Enter search term: \")\n",
        "googlenews.get_news(search_term)\n",
        "results = googlenews.results(sort=True)\n",
        "print(len(results))\n",
        "df = pd.DataFrame(results)\n",
        "df.to_csv(search_term + \".csv\")"
      ],
      "metadata": {
        "colab": {
          "base_uri": "https://localhost:8080/"
        },
        "id": "1y0Ack8jXnMx",
        "outputId": "88a3d06f-3958-4039-d5cc-c87cd1e7fbfd"
      },
      "execution_count": 18,
      "outputs": [
        {
          "output_type": "stream",
          "name": "stdout",
          "text": [
            "Enter search term: Wisconsin Financial Crisis\n",
            "'<' not supported between instances of 'datetime.datetime' and 'float'\n",
            "87\n"
          ]
        }
      ]
    }
  ]
}