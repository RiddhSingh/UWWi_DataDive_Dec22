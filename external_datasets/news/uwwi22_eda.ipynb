{
  "nbformat": 4,
  "nbformat_minor": 0,
  "metadata": {
    "colab": {
      "provenance": [],
      "toc_visible": true,
      "authorship_tag": "ABX9TyO70+hTOlPY8/XCBxLHQcrj",
      "include_colab_link": true
    },
    "kernelspec": {
      "name": "python3",
      "display_name": "Python 3"
    },
    "language_info": {
      "name": "python"
    }
  },
  "cells": [
    {
      "cell_type": "markdown",
      "metadata": {
        "id": "view-in-github",
        "colab_type": "text"
      },
      "source": [
        "<a href=\"https://colab.research.google.com/github/bsenst/UWWi_DataDive_Dec22/blob/main/notebooks/uwwi22_eda.ipynb\" target=\"_parent\"><img src=\"https://colab.research.google.com/assets/colab-badge.svg\" alt=\"Open In Colab\"/></a>"
      ]
    },
    {
      "cell_type": "markdown",
      "source": [
        "# import libraries"
      ],
      "metadata": {
        "id": "9A6N2CXuoemB"
      }
    },
    {
      "cell_type": "code",
      "execution_count": 115,
      "metadata": {
        "id": "-VrYtjtTl7jw"
      },
      "outputs": [],
      "source": [
        "import pandas as pd\n",
        "import numpy as np"
      ]
    },
    {
      "cell_type": "markdown",
      "source": [
        "# download data"
      ],
      "metadata": {
        "id": "WMNpZlvroiBo"
      }
    },
    {
      "cell_type": "code",
      "source": [
        "! wget https://github.com/bsenst/UWWi_DataDive_Dec22/raw/main/uwwi_datasets/uwwi_dataset_interactions/uwwi_dataset_interactions_2022.csv"
      ],
      "metadata": {
        "colab": {
          "base_uri": "https://localhost:8080/"
        },
        "id": "bbn5SHErmesx",
        "outputId": "fff21a60-b14a-4922-c8bd-f4720f1f649f"
      },
      "execution_count": 17,
      "outputs": [
        {
          "output_type": "stream",
          "name": "stdout",
          "text": [
            "--2022-12-01 21:40:50--  https://github.com/bsenst/UWWi_DataDive_Dec22/raw/main/uwwi_datasets/uwwi_dataset_interactions/uwwi_dataset_interactions_2022.csv\n",
            "Resolving github.com (github.com)... 140.82.114.4\n",
            "Connecting to github.com (github.com)|140.82.114.4|:443... connected.\n",
            "HTTP request sent, awaiting response... 302 Found\n",
            "Location: https://raw.githubusercontent.com/bsenst/UWWi_DataDive_Dec22/main/uwwi_datasets/uwwi_dataset_interactions/uwwi_dataset_interactions_2022.csv [following]\n",
            "--2022-12-01 21:40:50--  https://raw.githubusercontent.com/bsenst/UWWi_DataDive_Dec22/main/uwwi_datasets/uwwi_dataset_interactions/uwwi_dataset_interactions_2022.csv\n",
            "Resolving raw.githubusercontent.com (raw.githubusercontent.com)... 185.199.108.133, 185.199.109.133, 185.199.110.133, ...\n",
            "Connecting to raw.githubusercontent.com (raw.githubusercontent.com)|185.199.108.133|:443... connected.\n",
            "HTTP request sent, awaiting response... 200 OK\n",
            "Length: 11122158 (11M) [text/plain]\n",
            "Saving to: ‘uwwi_dataset_interactions_2022.csv’\n",
            "\n",
            "\r          uwwi_data   0%[                    ]       0  --.-KB/s               \ruwwi_dataset_intera 100%[===================>]  10.61M  --.-KB/s    in 0.03s   \n",
            "\n",
            "2022-12-01 21:40:50 (351 MB/s) - ‘uwwi_dataset_interactions_2022.csv’ saved [11122158/11122158]\n",
            "\n"
          ]
        }
      ]
    },
    {
      "cell_type": "markdown",
      "source": [
        "# explore data"
      ],
      "metadata": {
        "id": "bUps7vTSolr8"
      }
    },
    {
      "cell_type": "code",
      "source": [
        "uwwi22 = pd.read_csv(\"/content/uwwi_dataset_interactions_2022.csv\")\n",
        "uwwi22[\"Interaction_CreateStamp\"] = pd.to_datetime(uwwi22.Interaction_CreateStamp, utc=True)\n",
        "uwwi22[\"Interaction_EditStamp\"] = pd.to_datetime(uwwi22.Interaction_EditStamp, utc=True)\n",
        "uwwi22.info()"
      ],
      "metadata": {
        "colab": {
          "base_uri": "https://localhost:8080/"
        },
        "id": "L6ru1emqobwy",
        "outputId": "f250c3a8-d493-4cbf-d779-0d5110a9535b"
      },
      "execution_count": 80,
      "outputs": [
        {
          "output_type": "stream",
          "name": "stdout",
          "text": [
            "<class 'pandas.core.frame.DataFrame'>\n",
            "RangeIndex: 7399 entries, 0 to 7398\n",
            "Data columns (total 40 columns):\n",
            " #   Column                                                      Non-Null Count  Dtype              \n",
            "---  ------                                                      --------------  -----              \n",
            " 0   Client_Id                                                   7399 non-null   int64              \n",
            " 1   Interaction_CreateStamp                                     7399 non-null   datetime64[ns, UTC]\n",
            " 2   Interaction_ClientId                                        7399 non-null   int64              \n",
            " 3   Interaction_Id                                              7399 non-null   int64              \n",
            " 4   Interaction_CreateAccountId_href_label                      7399 non-null   object             \n",
            " 5   Interaction_CreatePortalId                                  7399 non-null   int64              \n",
            " 6   Interaction_CreateFormsetDeploymentId                       7399 non-null   int64              \n",
            " 7   Interaction_EditAccountId_href_label                        7399 non-null   object             \n",
            " 8   Interaction_EditPortalId                                    7399 non-null   int64              \n",
            " 9   Interaction_EditFormsetDeploymentId                         7399 non-null   int64              \n",
            " 10  Interaction_EditStamp                                       7399 non-null   datetime64[ns, UTC]\n",
            " 11  Interaction_AuditStamp                                      0 non-null      float64            \n",
            " 12  Interaction_Status                                          7399 non-null   object             \n",
            " 13  InteractionReferral_ReferralsModule                         7343 non-null   object             \n",
            " 14  InteractionOption_CallCenterSiteNew                         7399 non-null   object             \n",
            " 15  InteractionOption_211CallType                               7399 non-null   object             \n",
            " 16  InteractionOption_WhatTypeOfAdminCall                       7399 non-null   object             \n",
            " 17  InteractionOption_WhoIsCalling                              7399 non-null   object             \n",
            " 18  InteractionOption_WhatTypeOfProfessional                    7399 non-null   object             \n",
            " 19  InteractionOption_HowDidYouHearAbout2111                    7399 non-null   object             \n",
            " 20  InteractionOption_ReasonUnmet                               7399 non-null   object             \n",
            " 21  InteractionOption_DidYouContactTheReferralsGivenToYouBy211  7399 non-null   object             \n",
            " 22  InteractionOption_ReferralAbleToHelp                        7399 non-null   object             \n",
            " 23  InteractionOption_ContactType2                              7399 non-null   object             \n",
            " 24  InteractionOption_HowDidTheyContactYou                      7399 non-null   object             \n",
            " 25  InteractionOption_CallingOnBehalfOf                         7399 non-null   object             \n",
            " 26  InteractionOption_MayIFollowUpWithYou                       7399 non-null   object             \n",
            " 27  InteractionOption_WhatTypeOfMedia                           7399 non-null   object             \n",
            " 28  InteractionOption_SwfPrimaryNeeds                           7399 non-null   object             \n",
            " 29  InteractionOption_SwfPublicBenefitsProgramEnrollment        7399 non-null   object             \n",
            " 30  InteractionOption_SwfSecondaryNeeds                         7399 non-null   object             \n",
            " 31  InteractionOption_SwfCounty                                 7399 non-null   object             \n",
            " 32  InteractionOption_WhyWasThereNoReferralGiven                7399 non-null   object             \n",
            " 33  InteractionOption_UnableToContact                           7399 non-null   object             \n",
            " 34  InteractionCustom_CallerReached                             7399 non-null   object             \n",
            " 35  InteractionCustom_FollowUpUnmetNeeds                        7399 non-null   object             \n",
            " 36  InteractionCustom_FollowUpComplete                          7399 non-null   object             \n",
            " 37  InteractionCustom_FollowUpAttempt1                          119 non-null    object             \n",
            " 38  InteractionCustom_FollowUpAttempt2                          32 non-null     object             \n",
            " 39  InteractionCustom_FollowUpAttempt3                          23 non-null     object             \n",
            "dtypes: datetime64[ns, UTC](2), float64(1), int64(7), object(30)\n",
            "memory usage: 2.3+ MB\n"
          ]
        }
      ]
    },
    {
      "cell_type": "code",
      "source": [
        "uwwi22 = uwwi22.drop(\"Interaction_AuditStamp\", axis=1) # drop this column since entirely\n",
        "uwwi22.head()"
      ],
      "metadata": {
        "colab": {
          "base_uri": "https://localhost:8080/",
          "height": 386
        },
        "id": "TxFfwmRjuSos",
        "outputId": "f56c98f0-4f7c-4d30-a52f-72f9615793b8"
      },
      "execution_count": 81,
      "outputs": [
        {
          "output_type": "execute_result",
          "data": {
            "text/plain": [
              "   Client_Id          Interaction_CreateStamp  Interaction_ClientId  \\\n",
              "0      22934 2022-12-01 18:53:00.606552+00:00                 22934   \n",
              "1      24900 2022-12-01 15:59:04.836496+00:00                 24900   \n",
              "2      27820 2022-12-01 15:57:35.767512+00:00                 27820   \n",
              "3      34433 2022-12-01 15:56:07.122672+00:00                 34433   \n",
              "4      24158 2022-12-01 14:58:26.516401+00:00                 24158   \n",
              "\n",
              "   Interaction_Id Interaction_CreateAccountId_href_label  \\\n",
              "0         1405553                   Lorena Lezama (805)    \n",
              "1         1405339                   Teri Goodman (1258)    \n",
              "2         1405337                    Melody Hobbs (743)    \n",
              "3         1405333                   Teri Goodman (1258)    \n",
              "4         1405271                   Lorena Lezama (805)    \n",
              "\n",
              "   Interaction_CreatePortalId  Interaction_CreateFormsetDeploymentId  \\\n",
              "0                           1                                    689   \n",
              "1                           1                                    689   \n",
              "2                           1                                    689   \n",
              "3                           1                                    689   \n",
              "4                           1                                    689   \n",
              "\n",
              "  Interaction_EditAccountId_href_label  Interaction_EditPortalId  \\\n",
              "0                 Lorena Lezama (805)                          1   \n",
              "1                 Teri Goodman (1258)                          1   \n",
              "2                  Melody Hobbs (743)                          1   \n",
              "3                 Teri Goodman (1258)                          1   \n",
              "4                 Lorena Lezama (805)                          1   \n",
              "\n",
              "   Interaction_EditFormsetDeploymentId  ...  \\\n",
              "0                                  689  ...   \n",
              "1                                  689  ...   \n",
              "2                                  689  ...   \n",
              "3                                  689  ...   \n",
              "4                                  689  ...   \n",
              "\n",
              "  InteractionOption_SwfSecondaryNeeds InteractionOption_SwfCounty  \\\n",
              "0                                  []               ['Milwaukee']   \n",
              "1                                  []               ['Milwaukee']   \n",
              "2                                  []               ['Milwaukee']   \n",
              "3                                  []                  ['Racine']   \n",
              "4                                  []               ['Milwaukee']   \n",
              "\n",
              "  InteractionOption_WhyWasThereNoReferralGiven  \\\n",
              "0                                           []   \n",
              "1                                           []   \n",
              "2                                           []   \n",
              "3                                           []   \n",
              "4                                           []   \n",
              "\n",
              "  InteractionOption_UnableToContact InteractionCustom_CallerReached  \\\n",
              "0                                []                      Unselected   \n",
              "1                                []                      Unselected   \n",
              "2                                []                      Unselected   \n",
              "3                                []                      Unselected   \n",
              "4                                []                      Unselected   \n",
              "\n",
              "  InteractionCustom_FollowUpUnmetNeeds InteractionCustom_FollowUpComplete  \\\n",
              "0                           Unselected                         Unselected   \n",
              "1                           Unselected                         Unselected   \n",
              "2                           Unselected                         Unselected   \n",
              "3                           Unselected                         Unselected   \n",
              "4                           Unselected                         Unselected   \n",
              "\n",
              "  InteractionCustom_FollowUpAttempt1 InteractionCustom_FollowUpAttempt2  \\\n",
              "0                                NaN                                NaN   \n",
              "1                                NaN                                NaN   \n",
              "2                                NaN                                NaN   \n",
              "3                                NaN                                NaN   \n",
              "4                                NaN                                NaN   \n",
              "\n",
              "  InteractionCustom_FollowUpAttempt3  \n",
              "0                                NaN  \n",
              "1                                NaN  \n",
              "2                                NaN  \n",
              "3                                NaN  \n",
              "4                                NaN  \n",
              "\n",
              "[5 rows x 39 columns]"
            ],
            "text/html": [
              "\n",
              "  <div id=\"df-c63d3dd7-3344-4d5e-a4cb-5e28eda5cc26\">\n",
              "    <div class=\"colab-df-container\">\n",
              "      <div>\n",
              "<style scoped>\n",
              "    .dataframe tbody tr th:only-of-type {\n",
              "        vertical-align: middle;\n",
              "    }\n",
              "\n",
              "    .dataframe tbody tr th {\n",
              "        vertical-align: top;\n",
              "    }\n",
              "\n",
              "    .dataframe thead th {\n",
              "        text-align: right;\n",
              "    }\n",
              "</style>\n",
              "<table border=\"1\" class=\"dataframe\">\n",
              "  <thead>\n",
              "    <tr style=\"text-align: right;\">\n",
              "      <th></th>\n",
              "      <th>Client_Id</th>\n",
              "      <th>Interaction_CreateStamp</th>\n",
              "      <th>Interaction_ClientId</th>\n",
              "      <th>Interaction_Id</th>\n",
              "      <th>Interaction_CreateAccountId_href_label</th>\n",
              "      <th>Interaction_CreatePortalId</th>\n",
              "      <th>Interaction_CreateFormsetDeploymentId</th>\n",
              "      <th>Interaction_EditAccountId_href_label</th>\n",
              "      <th>Interaction_EditPortalId</th>\n",
              "      <th>Interaction_EditFormsetDeploymentId</th>\n",
              "      <th>...</th>\n",
              "      <th>InteractionOption_SwfSecondaryNeeds</th>\n",
              "      <th>InteractionOption_SwfCounty</th>\n",
              "      <th>InteractionOption_WhyWasThereNoReferralGiven</th>\n",
              "      <th>InteractionOption_UnableToContact</th>\n",
              "      <th>InteractionCustom_CallerReached</th>\n",
              "      <th>InteractionCustom_FollowUpUnmetNeeds</th>\n",
              "      <th>InteractionCustom_FollowUpComplete</th>\n",
              "      <th>InteractionCustom_FollowUpAttempt1</th>\n",
              "      <th>InteractionCustom_FollowUpAttempt2</th>\n",
              "      <th>InteractionCustom_FollowUpAttempt3</th>\n",
              "    </tr>\n",
              "  </thead>\n",
              "  <tbody>\n",
              "    <tr>\n",
              "      <th>0</th>\n",
              "      <td>22934</td>\n",
              "      <td>2022-12-01 18:53:00.606552+00:00</td>\n",
              "      <td>22934</td>\n",
              "      <td>1405553</td>\n",
              "      <td>Lorena Lezama (805)</td>\n",
              "      <td>1</td>\n",
              "      <td>689</td>\n",
              "      <td>Lorena Lezama (805)</td>\n",
              "      <td>1</td>\n",
              "      <td>689</td>\n",
              "      <td>...</td>\n",
              "      <td>[]</td>\n",
              "      <td>['Milwaukee']</td>\n",
              "      <td>[]</td>\n",
              "      <td>[]</td>\n",
              "      <td>Unselected</td>\n",
              "      <td>Unselected</td>\n",
              "      <td>Unselected</td>\n",
              "      <td>NaN</td>\n",
              "      <td>NaN</td>\n",
              "      <td>NaN</td>\n",
              "    </tr>\n",
              "    <tr>\n",
              "      <th>1</th>\n",
              "      <td>24900</td>\n",
              "      <td>2022-12-01 15:59:04.836496+00:00</td>\n",
              "      <td>24900</td>\n",
              "      <td>1405339</td>\n",
              "      <td>Teri Goodman (1258)</td>\n",
              "      <td>1</td>\n",
              "      <td>689</td>\n",
              "      <td>Teri Goodman (1258)</td>\n",
              "      <td>1</td>\n",
              "      <td>689</td>\n",
              "      <td>...</td>\n",
              "      <td>[]</td>\n",
              "      <td>['Milwaukee']</td>\n",
              "      <td>[]</td>\n",
              "      <td>[]</td>\n",
              "      <td>Unselected</td>\n",
              "      <td>Unselected</td>\n",
              "      <td>Unselected</td>\n",
              "      <td>NaN</td>\n",
              "      <td>NaN</td>\n",
              "      <td>NaN</td>\n",
              "    </tr>\n",
              "    <tr>\n",
              "      <th>2</th>\n",
              "      <td>27820</td>\n",
              "      <td>2022-12-01 15:57:35.767512+00:00</td>\n",
              "      <td>27820</td>\n",
              "      <td>1405337</td>\n",
              "      <td>Melody Hobbs (743)</td>\n",
              "      <td>1</td>\n",
              "      <td>689</td>\n",
              "      <td>Melody Hobbs (743)</td>\n",
              "      <td>1</td>\n",
              "      <td>689</td>\n",
              "      <td>...</td>\n",
              "      <td>[]</td>\n",
              "      <td>['Milwaukee']</td>\n",
              "      <td>[]</td>\n",
              "      <td>[]</td>\n",
              "      <td>Unselected</td>\n",
              "      <td>Unselected</td>\n",
              "      <td>Unselected</td>\n",
              "      <td>NaN</td>\n",
              "      <td>NaN</td>\n",
              "      <td>NaN</td>\n",
              "    </tr>\n",
              "    <tr>\n",
              "      <th>3</th>\n",
              "      <td>34433</td>\n",
              "      <td>2022-12-01 15:56:07.122672+00:00</td>\n",
              "      <td>34433</td>\n",
              "      <td>1405333</td>\n",
              "      <td>Teri Goodman (1258)</td>\n",
              "      <td>1</td>\n",
              "      <td>689</td>\n",
              "      <td>Teri Goodman (1258)</td>\n",
              "      <td>1</td>\n",
              "      <td>689</td>\n",
              "      <td>...</td>\n",
              "      <td>[]</td>\n",
              "      <td>['Racine']</td>\n",
              "      <td>[]</td>\n",
              "      <td>[]</td>\n",
              "      <td>Unselected</td>\n",
              "      <td>Unselected</td>\n",
              "      <td>Unselected</td>\n",
              "      <td>NaN</td>\n",
              "      <td>NaN</td>\n",
              "      <td>NaN</td>\n",
              "    </tr>\n",
              "    <tr>\n",
              "      <th>4</th>\n",
              "      <td>24158</td>\n",
              "      <td>2022-12-01 14:58:26.516401+00:00</td>\n",
              "      <td>24158</td>\n",
              "      <td>1405271</td>\n",
              "      <td>Lorena Lezama (805)</td>\n",
              "      <td>1</td>\n",
              "      <td>689</td>\n",
              "      <td>Lorena Lezama (805)</td>\n",
              "      <td>1</td>\n",
              "      <td>689</td>\n",
              "      <td>...</td>\n",
              "      <td>[]</td>\n",
              "      <td>['Milwaukee']</td>\n",
              "      <td>[]</td>\n",
              "      <td>[]</td>\n",
              "      <td>Unselected</td>\n",
              "      <td>Unselected</td>\n",
              "      <td>Unselected</td>\n",
              "      <td>NaN</td>\n",
              "      <td>NaN</td>\n",
              "      <td>NaN</td>\n",
              "    </tr>\n",
              "  </tbody>\n",
              "</table>\n",
              "<p>5 rows × 39 columns</p>\n",
              "</div>\n",
              "      <button class=\"colab-df-convert\" onclick=\"convertToInteractive('df-c63d3dd7-3344-4d5e-a4cb-5e28eda5cc26')\"\n",
              "              title=\"Convert this dataframe to an interactive table.\"\n",
              "              style=\"display:none;\">\n",
              "        \n",
              "  <svg xmlns=\"http://www.w3.org/2000/svg\" height=\"24px\"viewBox=\"0 0 24 24\"\n",
              "       width=\"24px\">\n",
              "    <path d=\"M0 0h24v24H0V0z\" fill=\"none\"/>\n",
              "    <path d=\"M18.56 5.44l.94 2.06.94-2.06 2.06-.94-2.06-.94-.94-2.06-.94 2.06-2.06.94zm-11 1L8.5 8.5l.94-2.06 2.06-.94-2.06-.94L8.5 2.5l-.94 2.06-2.06.94zm10 10l.94 2.06.94-2.06 2.06-.94-2.06-.94-.94-2.06-.94 2.06-2.06.94z\"/><path d=\"M17.41 7.96l-1.37-1.37c-.4-.4-.92-.59-1.43-.59-.52 0-1.04.2-1.43.59L10.3 9.45l-7.72 7.72c-.78.78-.78 2.05 0 2.83L4 21.41c.39.39.9.59 1.41.59.51 0 1.02-.2 1.41-.59l7.78-7.78 2.81-2.81c.8-.78.8-2.07 0-2.86zM5.41 20L4 18.59l7.72-7.72 1.47 1.35L5.41 20z\"/>\n",
              "  </svg>\n",
              "      </button>\n",
              "      \n",
              "  <style>\n",
              "    .colab-df-container {\n",
              "      display:flex;\n",
              "      flex-wrap:wrap;\n",
              "      gap: 12px;\n",
              "    }\n",
              "\n",
              "    .colab-df-convert {\n",
              "      background-color: #E8F0FE;\n",
              "      border: none;\n",
              "      border-radius: 50%;\n",
              "      cursor: pointer;\n",
              "      display: none;\n",
              "      fill: #1967D2;\n",
              "      height: 32px;\n",
              "      padding: 0 0 0 0;\n",
              "      width: 32px;\n",
              "    }\n",
              "\n",
              "    .colab-df-convert:hover {\n",
              "      background-color: #E2EBFA;\n",
              "      box-shadow: 0px 1px 2px rgba(60, 64, 67, 0.3), 0px 1px 3px 1px rgba(60, 64, 67, 0.15);\n",
              "      fill: #174EA6;\n",
              "    }\n",
              "\n",
              "    [theme=dark] .colab-df-convert {\n",
              "      background-color: #3B4455;\n",
              "      fill: #D2E3FC;\n",
              "    }\n",
              "\n",
              "    [theme=dark] .colab-df-convert:hover {\n",
              "      background-color: #434B5C;\n",
              "      box-shadow: 0px 1px 3px 1px rgba(0, 0, 0, 0.15);\n",
              "      filter: drop-shadow(0px 1px 2px rgba(0, 0, 0, 0.3));\n",
              "      fill: #FFFFFF;\n",
              "    }\n",
              "  </style>\n",
              "\n",
              "      <script>\n",
              "        const buttonEl =\n",
              "          document.querySelector('#df-c63d3dd7-3344-4d5e-a4cb-5e28eda5cc26 button.colab-df-convert');\n",
              "        buttonEl.style.display =\n",
              "          google.colab.kernel.accessAllowed ? 'block' : 'none';\n",
              "\n",
              "        async function convertToInteractive(key) {\n",
              "          const element = document.querySelector('#df-c63d3dd7-3344-4d5e-a4cb-5e28eda5cc26');\n",
              "          const dataTable =\n",
              "            await google.colab.kernel.invokeFunction('convertToInteractive',\n",
              "                                                     [key], {});\n",
              "          if (!dataTable) return;\n",
              "\n",
              "          const docLinkHtml = 'Like what you see? Visit the ' +\n",
              "            '<a target=\"_blank\" href=https://colab.research.google.com/notebooks/data_table.ipynb>data table notebook</a>'\n",
              "            + ' to learn more about interactive tables.';\n",
              "          element.innerHTML = '';\n",
              "          dataTable['output_type'] = 'display_data';\n",
              "          await google.colab.output.renderOutput(dataTable, element);\n",
              "          const docLink = document.createElement('div');\n",
              "          docLink.innerHTML = docLinkHtml;\n",
              "          element.appendChild(docLink);\n",
              "        }\n",
              "      </script>\n",
              "    </div>\n",
              "  </div>\n",
              "  "
            ]
          },
          "metadata": {},
          "execution_count": 81
        }
      ]
    },
    {
      "cell_type": "code",
      "source": [
        "# unique client id = number of clients\n",
        "uwwi22.Client_Id.nunique()"
      ],
      "metadata": {
        "colab": {
          "base_uri": "https://localhost:8080/"
        },
        "id": "SpOjvQ0PpQUJ",
        "outputId": "015d75a4-8889-4af4-9185-1e1b333e509e"
      },
      "execution_count": 26,
      "outputs": [
        {
          "output_type": "execute_result",
          "data": {
            "text/plain": [
              "1551"
            ]
          },
          "metadata": {},
          "execution_count": 26
        }
      ]
    },
    {
      "cell_type": "markdown",
      "source": [
        "## interactions & county"
      ],
      "metadata": {
        "id": "YmKPSFMF9-6f"
      }
    },
    {
      "cell_type": "code",
      "source": [
        "uwwi22.InteractionOption_SwfCounty.value_counts()"
      ],
      "metadata": {
        "colab": {
          "base_uri": "https://localhost:8080/"
        },
        "id": "oY0EAQOQrnic",
        "outputId": "7b1fa680-6489-405d-f5f5-4f00964ffbbc"
      },
      "execution_count": 138,
      "outputs": [
        {
          "output_type": "execute_result",
          "data": {
            "text/plain": [
              "['Milwaukee']                                   2669\n",
              "[]                                              1629\n",
              "['La Crosse']                                   1264\n",
              "['Houston, MN']                                  646\n",
              "['Waukesha']                                     384\n",
              "['Clayton, IA']                                  310\n",
              "['Racine']                                       178\n",
              "['Eau Claire']                                   134\n",
              "['Fayette, IA']                                   78\n",
              "['Chippewa']                                      48\n",
              "['Monroe']                                         7\n",
              "['Washington']                                     6\n",
              "['Kenosha']                                        6\n",
              "['Jefferson']                                      5\n",
              "['Other']                                          4\n",
              "['Ozaukee']                                        4\n",
              "['Sheboygan']                                      4\n",
              "['Brown']                                          3\n",
              "['Jackson']                                        3\n",
              "['Marathon']                                       2\n",
              "['Manitowoc']                                      2\n",
              "['Dane']                                           2\n",
              "['Dodge']                                          2\n",
              "['Howard, IA']                                     1\n",
              "['Waupaca']                                        1\n",
              "['Wood']                                           1\n",
              "['Trempealeau']                                    1\n",
              "['Mole Lake Band of Lake Superior Chippewa']       1\n",
              "['Grant']                                          1\n",
              "['Winneshiek, IA']                                 1\n",
              "['Green']                                          1\n",
              "['Outagamie']                                      1\n",
              "Name: InteractionOption_SwfCounty, dtype: int64"
            ]
          },
          "metadata": {},
          "execution_count": 138
        }
      ]
    },
    {
      "cell_type": "markdown",
      "source": [
        "## interaction & need"
      ],
      "metadata": {
        "id": "znIlS-sE-Gnw"
      }
    },
    {
      "cell_type": "code",
      "source": [
        "uwwi22.InteractionOption_SwfPrimaryNeeds.value_counts()[:20]"
      ],
      "metadata": {
        "colab": {
          "base_uri": "https://localhost:8080/"
        },
        "id": "o-3nj65Nrvtt",
        "outputId": "40452136-1dbe-4f37-e359-59fd33163665"
      },
      "execution_count": 134,
      "outputs": [
        {
          "output_type": "execute_result",
          "data": {
            "text/plain": [
              "['Supportive Listening']                     2030\n",
              "[]                                           1629\n",
              "['Other']                                     798\n",
              "['Shelter']                                   732\n",
              "['Food']                                      544\n",
              "['Mental Health']                             531\n",
              "['Utility/Energy']                            364\n",
              "['Housing Payment Assistance']                229\n",
              "['Directory Assistance']                      149\n",
              "['Crisis']                                     93\n",
              "['Legal Assistance']                           45\n",
              "['Transportation']                             38\n",
              "['Other Financial Assistance']                 36\n",
              "['Mental Health', 'Crisis']                    23\n",
              "['Substance Use']                              14\n",
              "['Housing Payment Assistance', 'Shelter']      10\n",
              "['Mental Health', 'Supportive Listening']      10\n",
              "['Housing Payment Assistance', 'Other']         9\n",
              "['Food', 'Housing Payment Assistance']          9\n",
              "['Mental Health', 'Other']                      9\n",
              "Name: InteractionOption_SwfPrimaryNeeds, dtype: int64"
            ]
          },
          "metadata": {},
          "execution_count": 134
        }
      ]
    },
    {
      "cell_type": "code",
      "source": [
        "# most interactions include referrals\n",
        "uwwi22.InteractionOption_211CallType.value_counts()"
      ],
      "metadata": {
        "colab": {
          "base_uri": "https://localhost:8080/"
        },
        "id": "NublLhYDrT26",
        "outputId": "cda4f885-f36c-4c1a-a519-547ed07224d7"
      },
      "execution_count": 28,
      "outputs": [
        {
          "output_type": "execute_result",
          "data": {
            "text/plain": [
              "['Information and Referral']    6663\n",
              "['Information Only']             440\n",
              "[]                               187\n",
              "['Crisis']                        80\n",
              "['No Referral Given']             29\n",
              "Name: InteractionOption_211CallType, dtype: int64"
            ]
          },
          "metadata": {},
          "execution_count": 28
        }
      ]
    },
    {
      "cell_type": "markdown",
      "source": [
        "## interaction & time"
      ],
      "metadata": {
        "id": "AYaRoJEw-MNH"
      }
    },
    {
      "cell_type": "code",
      "source": [
        "pd.Series([date.hour for date in uwwi22.Interaction_CreateStamp]).hist(bins=24)\n",
        "# interaction creation per hour of the day"
      ],
      "metadata": {
        "colab": {
          "base_uri": "https://localhost:8080/",
          "height": 285
        },
        "id": "XL-C-n-IsBZJ",
        "outputId": "f39a0c4e-c6f9-415b-c73f-789102dd20f2"
      },
      "execution_count": 111,
      "outputs": [
        {
          "output_type": "execute_result",
          "data": {
            "text/plain": [
              "<matplotlib.axes._subplots.AxesSubplot at 0x7fdcdf20e6a0>"
            ]
          },
          "metadata": {},
          "execution_count": 111
        },
        {
          "output_type": "display_data",
          "data": {
            "text/plain": [
              "<Figure size 432x288 with 1 Axes>"
            ],
            "image/png": "[encoded data removed]"
          },
          "metadata": {}
        }
      ]
    },
    {
      "cell_type": "code",
      "source": [
        "# interaction creation distribution by month\n",
        "months22 = pd.Series([date.month for date in uwwi22.Interaction_CreateStamp])\n",
        "print(\"mean created interactions per month\", round(months22.value_counts().mean(), 1))\n",
        "months22.value_counts().sort_index()"
      ],
      "metadata": {
        "colab": {
          "base_uri": "https://localhost:8080/"
        },
        "id": "nG5tmUen7d6w",
        "outputId": "a126740d-77c6-46d5-b0b2-ac3fc8b72291"
      },
      "execution_count": 132,
      "outputs": [
        {
          "output_type": "stream",
          "name": "stdout",
          "text": [
            "mean created interactions per month 616.6\n"
          ]
        },
        {
          "output_type": "execute_result",
          "data": {
            "text/plain": [
              "1     756\n",
              "2     630\n",
              "3     673\n",
              "4     657\n",
              "5     705\n",
              "6     714\n",
              "7     721\n",
              "8     667\n",
              "9     586\n",
              "10    623\n",
              "11    654\n",
              "12     13\n",
              "dtype: int64"
            ]
          },
          "metadata": {},
          "execution_count": 132
        }
      ]
    }
  ]
}