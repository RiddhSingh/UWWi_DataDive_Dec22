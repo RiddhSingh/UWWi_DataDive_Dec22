{
 "cells": [
  {
   "cell_type": "code",
   "execution_count": 2,
   "metadata": {},
   "outputs": [],
   "source": [
    "# Date: Dec 2, 2022\n",
    "# Author: Sashka Warner\n",
    "# Desc: Test script for geocoding based on zip code string\n",
    "\n",
    "import pgeocode"
   ]
  },
  {
   "cell_type": "code",
   "execution_count": 7,
   "metadata": {},
   "outputs": [],
   "source": [
    "nomi = pgeocode.Nominatim('us')\n",
    "query = nomi.query_postal_code(\"53216\")"
   ]
  },
  {
   "cell_type": "code",
   "execution_count": 8,
   "metadata": {},
   "outputs": [
    {
     "name": "stdout",
     "output_type": "stream",
     "text": [
      "{'lat': 43.0859, 'lon': -87.9742}\n"
     ]
    }
   ],
   "source": [
    "data = {\n",
    "    \"lat\": query[\"latitude\"],\n",
    "    \"lon\": query[\"longitude\"]\n",
    "}\n",
    "\n",
    "print(data)\n"
   ]
  }
 ],
 "metadata": {
  "kernelspec": {
   "display_name": "Python 3.9.7 ('venv': venv)",
   "language": "python",
   "name": "python3"
  },
  "language_info": {
   "codemirror_mode": {
    "name": "ipython",
    "version": 3
   },
   "file_extension": ".py",
   "mimetype": "text/x-python",
   "name": "python",
   "nbconvert_exporter": "python",
   "pygments_lexer": "ipython3",
   "version": "3.9.7"
  },
  "orig_nbformat": 4,
  "vscode": {
   "interpreter": {
    "hash": "ea1746d1153496131a5c0c7d480773187878975c036d144160a973ebafb5b7ae"
   }
  }
 },
 "nbformat": 4,
 "nbformat_minor": 2
}
